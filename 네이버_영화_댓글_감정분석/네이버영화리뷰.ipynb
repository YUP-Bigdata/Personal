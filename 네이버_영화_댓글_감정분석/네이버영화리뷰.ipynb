{
 "cells": [
  {
   "cell_type": "code",
   "execution_count": 2,
   "id": "995a80ff-c575-40ed-b28f-6d91efb0df02",
   "metadata": {},
   "outputs": [],
   "source": [
    "import pandas as pd\n",
    "import numpy as np\n",
    "import matplotlib.pyplot as plt\n",
    "import re\n",
    "import urllib.request\n",
    "from konlpy.tag import Okt\n",
    "from tqdm import tqdm\n",
    "from tensorflow.keras.preprocessing.text import Tokenizer\n",
    "from tensorflow.keras.preprocessing.sequence import pad_sequences"
   ]
  },
  {
   "cell_type": "code",
   "execution_count": 3,
   "id": "ad82c892-e7e3-4cec-bff9-c6799613ec93",
   "metadata": {},
   "outputs": [],
   "source": [
    "train_data = pd.read_csv(\"train.csv\")\n",
    "test_data = pd.read_csv(\"test.csv\")"
   ]
  },
  {
   "cell_type": "code",
   "execution_count": 4,
   "id": "fb3952df-08e3-45c2-8c41-b501efb2869c",
   "metadata": {},
   "outputs": [
    {
     "name": "stdout",
     "output_type": "stream",
     "text": [
      "훈련용 리뷰 개수 : 7449\n"
     ]
    }
   ],
   "source": [
    "print('훈련용 리뷰 개수 :',len(train_data))"
   ]
  },
  {
   "cell_type": "code",
   "execution_count": 5,
   "id": "1e94383b-68fe-4682-90f8-12c6ade75f30",
   "metadata": {},
   "outputs": [
    {
     "name": "stdout",
     "output_type": "stream",
     "text": [
      "테스트용 리뷰 개수 : 1863\n"
     ]
    }
   ],
   "source": [
    "print('테스트용 리뷰 개수 :',len(test_data))"
   ]
  },
  {
   "cell_type": "code",
   "execution_count": 6,
   "id": "1cfe64b4-6acf-4f2a-ad73-0aee3d380c07",
   "metadata": {},
   "outputs": [
    {
     "data": {
      "text/html": [
       "<div>\n",
       "<style scoped>\n",
       "    .dataframe tbody tr th:only-of-type {\n",
       "        vertical-align: middle;\n",
       "    }\n",
       "\n",
       "    .dataframe tbody tr th {\n",
       "        vertical-align: top;\n",
       "    }\n",
       "\n",
       "    .dataframe thead th {\n",
       "        text-align: right;\n",
       "    }\n",
       "</style>\n",
       "<table border=\"1\" class=\"dataframe\">\n",
       "  <thead>\n",
       "    <tr style=\"text-align: right;\">\n",
       "      <th></th>\n",
       "      <th>comment</th>\n",
       "      <th>good/bad</th>\n",
       "    </tr>\n",
       "  </thead>\n",
       "  <tbody>\n",
       "    <tr>\n",
       "      <th>0</th>\n",
       "      <td>진짜 오래감만에 웃으면서 봤던 영화입니다. 새로운 스토리,어색하지 않은 cg 너무 ...</td>\n",
       "      <td>1</td>\n",
       "    </tr>\n",
       "    <tr>\n",
       "      <th>1</th>\n",
       "      <td>좌빨 쓰레기 조작용으로 만들여젔는데 내용이 하도 부실하고 윤석열 깔것도 없으니 그냥...</td>\n",
       "      <td>0</td>\n",
       "    </tr>\n",
       "    <tr>\n",
       "      <th>2</th>\n",
       "      <td>너무 미국식 코미디라 호불호가 갈릴 듯 하지만 샤를리즈 테론의 미모와 연기가 열일함</td>\n",
       "      <td>1</td>\n",
       "    </tr>\n",
       "    <tr>\n",
       "      <th>3</th>\n",
       "      <td>마지막에 재회 장면은 최고의 장면임은 변함이 없다</td>\n",
       "      <td>1</td>\n",
       "    </tr>\n",
       "    <tr>\n",
       "      <th>4</th>\n",
       "      <td>새로운 세계 탐방하는 재미</td>\n",
       "      <td>1</td>\n",
       "    </tr>\n",
       "  </tbody>\n",
       "</table>\n",
       "</div>"
      ],
      "text/plain": [
       "                                             comment  good/bad\n",
       "0  진짜 오래감만에 웃으면서 봤던 영화입니다. 새로운 스토리,어색하지 않은 cg 너무 ...         1\n",
       "1  좌빨 쓰레기 조작용으로 만들여젔는데 내용이 하도 부실하고 윤석열 깔것도 없으니 그냥...         0\n",
       "2    너무 미국식 코미디라 호불호가 갈릴 듯 하지만 샤를리즈 테론의 미모와 연기가 열일함          1\n",
       "3                       마지막에 재회 장면은 최고의 장면임은 변함이 없다          1\n",
       "4                                    새로운 세계 탐방하는 재미          1"
      ]
     },
     "execution_count": 6,
     "metadata": {},
     "output_type": "execute_result"
    }
   ],
   "source": [
    "train_data.head()"
   ]
  },
  {
   "cell_type": "code",
   "execution_count": 7,
   "id": "1c4b63aa-2f30-49ef-92a5-5ba8570834e7",
   "metadata": {},
   "outputs": [
    {
     "data": {
      "text/plain": [
       "(7391, 2)"
      ]
     },
     "execution_count": 7,
     "metadata": {},
     "output_type": "execute_result"
    }
   ],
   "source": [
    "train_data['comment'].nunique(), train_data['good/bad'].nunique()"
   ]
  },
  {
   "cell_type": "code",
   "execution_count": 8,
   "id": "756d0667-708e-4d44-b03d-e203229775da",
   "metadata": {},
   "outputs": [],
   "source": [
    "train_data.drop_duplicates(subset=['comment'], inplace=True)"
   ]
  },
  {
   "cell_type": "code",
   "execution_count": 9,
   "id": "4b6271d8-e211-43b9-9c44-023427c35cee",
   "metadata": {},
   "outputs": [
    {
     "name": "stdout",
     "output_type": "stream",
     "text": [
      "총 샘플의 수 : 7391\n"
     ]
    }
   ],
   "source": [
    "print('총 샘플의 수 :',len(train_data))"
   ]
  },
  {
   "cell_type": "code",
   "execution_count": 10,
   "id": "78e05727-c48d-4cb6-a6b2-381d63481001",
   "metadata": {},
   "outputs": [
    {
     "data": {
      "text/plain": [
       "<AxesSubplot:>"
      ]
     },
     "execution_count": 10,
     "metadata": {},
     "output_type": "execute_result"
    },
    {
     "data": {
      "image/png": "[encoded data removed]",
      "text/plain": [
       "<Figure size 432x288 with 1 Axes>"
      ]
     },
     "metadata": {
      "needs_background": "light"
     },
     "output_type": "display_data"
    }
   ],
   "source": [
    "train_data['good/bad'].value_counts().plot(kind = 'bar')"
   ]
  },
  {
   "cell_type": "code",
   "execution_count": 11,
   "id": "ef38edcf-39f0-4fbf-a088-b25bc9c35b4e",
   "metadata": {},
   "outputs": [
    {
     "name": "stdout",
     "output_type": "stream",
     "text": [
      "   good/bad  count\n",
      "0         0   1689\n",
      "1         1   5702\n"
     ]
    }
   ],
   "source": [
    "print(train_data.groupby('good/bad').size().reset_index(name = 'count'))"
   ]
  },
  {
   "cell_type": "code",
   "execution_count": 12,
   "id": "c2002fbc-d301-487d-ba8e-cacf6908e776",
   "metadata": {},
   "outputs": [
    {
     "name": "stdout",
     "output_type": "stream",
     "text": [
      "False\n"
     ]
    }
   ],
   "source": [
    "print(train_data.isnull().values.any())"
   ]
  },
  {
   "cell_type": "code",
   "execution_count": 13,
   "id": "e392f4f7-af67-4305-b3b6-afe0f68f3238",
   "metadata": {},
   "outputs": [
    {
     "name": "stdout",
     "output_type": "stream",
     "text": [
      "comment     0\n",
      "good/bad    0\n",
      "dtype: int64\n"
     ]
    }
   ],
   "source": [
    "print(train_data.isnull().sum())"
   ]
  },
  {
   "cell_type": "code",
   "execution_count": 14,
   "id": "e70a6d85-2012-4c14-a164-97baa0ca7c4c",
   "metadata": {},
   "outputs": [
    {
     "name": "stdout",
     "output_type": "stream",
     "text": [
      "comment     0\n",
      "good/bad    0\n",
      "dtype: int64\n"
     ]
    }
   ],
   "source": [
    "print(train_data.isnull().sum())"
   ]
  },
  {
   "cell_type": "code",
   "execution_count": 15,
   "id": "03db1833-214b-4586-978e-d41ed997663c",
   "metadata": {},
   "outputs": [
    {
     "data": {
      "text/html": [
       "<div>\n",
       "<style scoped>\n",
       "    .dataframe tbody tr th:only-of-type {\n",
       "        vertical-align: middle;\n",
       "    }\n",
       "\n",
       "    .dataframe tbody tr th {\n",
       "        vertical-align: top;\n",
       "    }\n",
       "\n",
       "    .dataframe thead th {\n",
       "        text-align: right;\n",
       "    }\n",
       "</style>\n",
       "<table border=\"1\" class=\"dataframe\">\n",
       "  <thead>\n",
       "    <tr style=\"text-align: right;\">\n",
       "      <th></th>\n",
       "      <th>comment</th>\n",
       "      <th>good/bad</th>\n",
       "    </tr>\n",
       "  </thead>\n",
       "  <tbody>\n",
       "  </tbody>\n",
       "</table>\n",
       "</div>"
      ],
      "text/plain": [
       "Empty DataFrame\n",
       "Columns: [comment, good/bad]\n",
       "Index: []"
      ]
     },
     "execution_count": 15,
     "metadata": {},
     "output_type": "execute_result"
    }
   ],
   "source": [
    "train_data.loc[train_data.comment.isnull()]"
   ]
  },
  {
   "cell_type": "code",
   "execution_count": 16,
   "id": "5fd79147-5fb1-49c3-b588-c8fb7fab7f25",
   "metadata": {},
   "outputs": [
    {
     "name": "stdout",
     "output_type": "stream",
     "text": [
      "False\n"
     ]
    }
   ],
   "source": [
    "train_data = train_data.dropna(how = 'any') # Null 값이 존재하는 행 제거\n",
    "print(train_data.isnull().values.any()) # Null 값이 존재하는지 확인"
   ]
  },
  {
   "cell_type": "code",
   "execution_count": 17,
   "id": "dd9d0dac-d5e1-47e0-8c45-ee1749487c45",
   "metadata": {},
   "outputs": [
    {
     "name": "stdout",
     "output_type": "stream",
     "text": [
      "7391\n"
     ]
    }
   ],
   "source": [
    "print(len(train_data))"
   ]
  },
  {
   "cell_type": "code",
   "execution_count": 18,
   "id": "75042ec9-2d89-4898-8c51-a4b595bf169f",
   "metadata": {},
   "outputs": [
    {
     "name": "stdout",
     "output_type": "stream",
     "text": [
      "do you expect people to read the FAQ etc and actually accept hard atheism\n"
     ]
    }
   ],
   "source": [
    "eng_text = 'do!!! you expect... people~ to~ read~ the FAQ, etc. and actually accept hard~! atheism?@@'\n",
    "print(re.sub(r'[^a-zA-Z ]', '', eng_text))"
   ]
  },
  {
   "cell_type": "code",
   "execution_count": 19,
   "id": "757d2901-b93b-419f-b129-46b3da6aa831",
   "metadata": {},
   "outputs": [
    {
     "name": "stderr",
     "output_type": "stream",
     "text": [
      "C:\\Users\\joony\\AppData\\Local\\Temp/ipykernel_11192/3160313211.py:1: FutureWarning: The default value of regex will change from True to False in a future version.\n",
      "  train_data['comment'] = train_data['comment'].str.replace(\"[^ㄱ-ㅎㅏ-ㅣ가-힣 ]\",\"\")\n"
     ]
    },
    {
     "data": {
      "text/html": [
       "<div>\n",
       "<style scoped>\n",
       "    .dataframe tbody tr th:only-of-type {\n",
       "        vertical-align: middle;\n",
       "    }\n",
       "\n",
       "    .dataframe tbody tr th {\n",
       "        vertical-align: top;\n",
       "    }\n",
       "\n",
       "    .dataframe thead th {\n",
       "        text-align: right;\n",
       "    }\n",
       "</style>\n",
       "<table border=\"1\" class=\"dataframe\">\n",
       "  <thead>\n",
       "    <tr style=\"text-align: right;\">\n",
       "      <th></th>\n",
       "      <th>comment</th>\n",
       "      <th>good/bad</th>\n",
       "    </tr>\n",
       "  </thead>\n",
       "  <tbody>\n",
       "    <tr>\n",
       "      <th>0</th>\n",
       "      <td>진짜 오래감만에 웃으면서 봤던 영화입니다 새로운 스토리어색하지 않은  너무 좋아요 ...</td>\n",
       "      <td>1</td>\n",
       "    </tr>\n",
       "    <tr>\n",
       "      <th>1</th>\n",
       "      <td>좌빨 쓰레기 조작용으로 만들여젔는데 내용이 하도 부실하고 윤석열 깔것도 없으니 그냥...</td>\n",
       "      <td>0</td>\n",
       "    </tr>\n",
       "    <tr>\n",
       "      <th>2</th>\n",
       "      <td>너무 미국식 코미디라 호불호가 갈릴 듯 하지만 샤를리즈 테론의 미모와 연기가 열일함</td>\n",
       "      <td>1</td>\n",
       "    </tr>\n",
       "    <tr>\n",
       "      <th>3</th>\n",
       "      <td>마지막에 재회 장면은 최고의 장면임은 변함이 없다</td>\n",
       "      <td>1</td>\n",
       "    </tr>\n",
       "    <tr>\n",
       "      <th>4</th>\n",
       "      <td>새로운 세계 탐방하는 재미</td>\n",
       "      <td>1</td>\n",
       "    </tr>\n",
       "  </tbody>\n",
       "</table>\n",
       "</div>"
      ],
      "text/plain": [
       "                                             comment  good/bad\n",
       "0  진짜 오래감만에 웃으면서 봤던 영화입니다 새로운 스토리어색하지 않은  너무 좋아요 ...         1\n",
       "1  좌빨 쓰레기 조작용으로 만들여젔는데 내용이 하도 부실하고 윤석열 깔것도 없으니 그냥...         0\n",
       "2    너무 미국식 코미디라 호불호가 갈릴 듯 하지만 샤를리즈 테론의 미모와 연기가 열일함          1\n",
       "3                       마지막에 재회 장면은 최고의 장면임은 변함이 없다          1\n",
       "4                                    새로운 세계 탐방하는 재미          1"
      ]
     },
     "execution_count": 19,
     "metadata": {},
     "output_type": "execute_result"
    }
   ],
   "source": [
    "train_data['comment'] = train_data['comment'].str.replace(\"[^ㄱ-ㅎㅏ-ㅣ가-힣 ]\",\"\")\n",
    "train_data[:5]"
   ]
  },
  {
   "cell_type": "code",
   "execution_count": 20,
   "id": "b40357ef-a326-4da1-b190-32b377d4da7f",
   "metadata": {},
   "outputs": [
    {
     "name": "stdout",
     "output_type": "stream",
     "text": [
      "comment     28\n",
      "good/bad     0\n",
      "dtype: int64\n"
     ]
    },
    {
     "name": "stderr",
     "output_type": "stream",
     "text": [
      "C:\\Users\\joony\\AppData\\Local\\Temp/ipykernel_11192/632833876.py:1: FutureWarning: The default value of regex will change from True to False in a future version.\n",
      "  train_data['comment'] = train_data['comment'].str.replace('^ +', \"\") # white space 데이터를 empty value로 변경\n"
     ]
    }
   ],
   "source": [
    "train_data['comment'] = train_data['comment'].str.replace('^ +', \"\") # white space 데이터를 empty value로 변경\n",
    "train_data['comment'].replace('', np.nan, inplace=True)\n",
    "print(train_data.isnull().sum())"
   ]
  },
  {
   "cell_type": "code",
   "execution_count": 21,
   "id": "bdfe4c69-5219-42c1-9fc6-5b924f9f5757",
   "metadata": {},
   "outputs": [
    {
     "data": {
      "text/html": [
       "<div>\n",
       "<style scoped>\n",
       "    .dataframe tbody tr th:only-of-type {\n",
       "        vertical-align: middle;\n",
       "    }\n",
       "\n",
       "    .dataframe tbody tr th {\n",
       "        vertical-align: top;\n",
       "    }\n",
       "\n",
       "    .dataframe thead th {\n",
       "        text-align: right;\n",
       "    }\n",
       "</style>\n",
       "<table border=\"1\" class=\"dataframe\">\n",
       "  <thead>\n",
       "    <tr style=\"text-align: right;\">\n",
       "      <th></th>\n",
       "      <th>comment</th>\n",
       "      <th>good/bad</th>\n",
       "    </tr>\n",
       "  </thead>\n",
       "  <tbody>\n",
       "    <tr>\n",
       "      <th>234</th>\n",
       "      <td>NaN</td>\n",
       "      <td>1</td>\n",
       "    </tr>\n",
       "    <tr>\n",
       "      <th>237</th>\n",
       "      <td>NaN</td>\n",
       "      <td>1</td>\n",
       "    </tr>\n",
       "    <tr>\n",
       "      <th>651</th>\n",
       "      <td>NaN</td>\n",
       "      <td>1</td>\n",
       "    </tr>\n",
       "    <tr>\n",
       "      <th>787</th>\n",
       "      <td>NaN</td>\n",
       "      <td>0</td>\n",
       "    </tr>\n",
       "    <tr>\n",
       "      <th>1202</th>\n",
       "      <td>NaN</td>\n",
       "      <td>1</td>\n",
       "    </tr>\n",
       "  </tbody>\n",
       "</table>\n",
       "</div>"
      ],
      "text/plain": [
       "     comment  good/bad\n",
       "234      NaN         1\n",
       "237      NaN         1\n",
       "651      NaN         1\n",
       "787      NaN         0\n",
       "1202     NaN         1"
      ]
     },
     "execution_count": 21,
     "metadata": {},
     "output_type": "execute_result"
    }
   ],
   "source": [
    "train_data.loc[train_data.comment.isnull()][:5]"
   ]
  },
  {
   "cell_type": "code",
   "execution_count": 22,
   "id": "4b30228e-48b4-4c48-9939-7a78b72857d9",
   "metadata": {},
   "outputs": [
    {
     "name": "stdout",
     "output_type": "stream",
     "text": [
      "7363\n"
     ]
    }
   ],
   "source": [
    "train_data = train_data.dropna(how = 'any')\n",
    "print(len(train_data))"
   ]
  },
  {
   "cell_type": "code",
   "execution_count": 24,
   "id": "f0591e95-62d8-4f9a-801d-dca804e9fff7",
   "metadata": {},
   "outputs": [
    {
     "name": "stdout",
     "output_type": "stream",
     "text": [
      "전처리 후 테스트용 샘플의 개수 : 1847\n"
     ]
    },
    {
     "name": "stderr",
     "output_type": "stream",
     "text": [
      "C:\\Users\\joony\\AppData\\Local\\Temp/ipykernel_11192/3309750423.py:2: FutureWarning: The default value of regex will change from True to False in a future version.\n",
      "  test_data['comment'] = test_data['comment'].str.replace(\"[^ㄱ-ㅎㅏ-ㅣ가-힣 ]\",\"\") # 정규 표현식 수행\n",
      "C:\\Users\\joony\\AppData\\Local\\Temp/ipykernel_11192/3309750423.py:3: FutureWarning: The default value of regex will change from True to False in a future version.\n",
      "  test_data['comment'] = test_data['comment'].str.replace('^ +', \"\") # 공백은 empty 값으로 변경\n"
     ]
    }
   ],
   "source": [
    "test_data.drop_duplicates(subset = ['comment'], inplace=True) # document 열에서 중복인 내용이 있다면 중복 제거\n",
    "test_data['comment'] = test_data['comment'].str.replace(\"[^ㄱ-ㅎㅏ-ㅣ가-힣 ]\",\"\") # 정규 표현식 수행\n",
    "test_data['comment'] = test_data['comment'].str.replace('^ +', \"\") # 공백은 empty 값으로 변경\n",
    "test_data['comment'].replace('', np.nan, inplace=True) # 공백은 Null 값으로 변경\n",
    "test_data = test_data.dropna(how='any') # Null 값 제거\n",
    "print('전처리 후 테스트용 샘플의 개수 :',len(test_data))"
   ]
  },
  {
   "cell_type": "code",
   "execution_count": 25,
   "id": "d27f5238-d5da-4a97-a033-43f2511c1d69",
   "metadata": {},
   "outputs": [
    {
     "data": {
      "text/html": [
       "<div>\n",
       "<style scoped>\n",
       "    .dataframe tbody tr th:only-of-type {\n",
       "        vertical-align: middle;\n",
       "    }\n",
       "\n",
       "    .dataframe tbody tr th {\n",
       "        vertical-align: top;\n",
       "    }\n",
       "\n",
       "    .dataframe thead th {\n",
       "        text-align: right;\n",
       "    }\n",
       "</style>\n",
       "<table border=\"1\" class=\"dataframe\">\n",
       "  <thead>\n",
       "    <tr style=\"text-align: right;\">\n",
       "      <th></th>\n",
       "      <th>comment</th>\n",
       "      <th>good/bad</th>\n",
       "    </tr>\n",
       "  </thead>\n",
       "  <tbody>\n",
       "    <tr>\n",
       "      <th>0</th>\n",
       "      <td>대단히 재미있고 매력적일수 있었는데 이런 배우들을 가져다 요렇게밖에 못만드는것도 감...</td>\n",
       "      <td>0</td>\n",
       "    </tr>\n",
       "    <tr>\n",
       "      <th>1</th>\n",
       "      <td>재밌었습니다 액션도 최고였고 작화도 멋있었고 스토리도 좋았어요 다만 너무나도 기대를...</td>\n",
       "      <td>1</td>\n",
       "    </tr>\n",
       "    <tr>\n",
       "      <th>2</th>\n",
       "      <td>긴말 안한다 꼭 봐라 존잼이다</td>\n",
       "      <td>1</td>\n",
       "    </tr>\n",
       "    <tr>\n",
       "      <th>3</th>\n",
       "      <td>재밌었음 연기좋고 웃음도 빵빵 터졌음 대본을 배우들이 잘살린것 같음심각하지 않은 영...</td>\n",
       "      <td>1</td>\n",
       "    </tr>\n",
       "    <tr>\n",
       "      <th>4</th>\n",
       "      <td>재미있는데  류승용 아들역</td>\n",
       "      <td>1</td>\n",
       "    </tr>\n",
       "  </tbody>\n",
       "</table>\n",
       "</div>"
      ],
      "text/plain": [
       "                                             comment  good/bad\n",
       "0  대단히 재미있고 매력적일수 있었는데 이런 배우들을 가져다 요렇게밖에 못만드는것도 감...         0\n",
       "1  재밌었습니다 액션도 최고였고 작화도 멋있었고 스토리도 좋았어요 다만 너무나도 기대를...         1\n",
       "2                                  긴말 안한다 꼭 봐라 존잼이다          1\n",
       "3  재밌었음 연기좋고 웃음도 빵빵 터졌음 대본을 배우들이 잘살린것 같음심각하지 않은 영...         1\n",
       "4                                    재미있는데  류승용 아들역          1"
      ]
     },
     "execution_count": 25,
     "metadata": {},
     "output_type": "execute_result"
    }
   ],
   "source": [
    "test_data.head()"
   ]
  },
  {
   "cell_type": "code",
   "execution_count": 26,
   "id": "b5475e52-a157-410a-a744-80239168aff0",
   "metadata": {},
   "outputs": [],
   "source": [
    "stopwords = ['의','가','이','은','들','는','좀','잘','걍','과','도','를','으로','자','에','와','한','하다']"
   ]
  },
  {
   "cell_type": "code",
   "execution_count": 27,
   "id": "41cad0b3-2adf-43d0-94c8-29bf4370755b",
   "metadata": {},
   "outputs": [
    {
     "data": {
      "text/plain": [
       "['오다', '이렇다', '것', '도', '영화', '라고', '차라리', '뮤직비디오', '를', '만들다', '게', '나다', '뻔']"
      ]
     },
     "execution_count": 27,
     "metadata": {},
     "output_type": "execute_result"
    }
   ],
   "source": [
    "okt = Okt()\n",
    "okt.morphs('와 이런 것도 영화라고 차라리 뮤직비디오를 만드는 게 나을 뻔', stem = True)"
   ]
  },
  {
   "cell_type": "code",
   "execution_count": 28,
   "id": "d0b2a8f6-37f0-426c-8e38-290b1cf8a71d",
   "metadata": {},
   "outputs": [
    {
     "name": "stderr",
     "output_type": "stream",
     "text": [
      "100%|█████████████████████████████████████████████████████████████████████████████| 7363/7363 [00:20<00:00, 358.57it/s]\n"
     ]
    }
   ],
   "source": [
    "X_train = []\n",
    "for sentence in tqdm(train_data['comment']):\n",
    "    tokenized_sentence = okt.morphs(sentence, stem=True) # 토큰화\n",
    "    stopwords_removed_sentence = [word for word in tokenized_sentence if not word in stopwords] # 불용어 제거\n",
    "    X_train.append(stopwords_removed_sentence)"
   ]
  },
  {
   "cell_type": "code",
   "execution_count": 29,
   "id": "dc45610f-3072-425b-a05a-b569a6b8c35b",
   "metadata": {},
   "outputs": [
    {
     "name": "stdout",
     "output_type": "stream",
     "text": [
      "[['진짜', '오래', '감', '만에', '웃다', '보다', '영화', '이다', '새롭다', '스토리', '어색하다', '않다', '너무', '좋다', '많다', '사람', '보다', '좋다'], ['좌빨', '쓰레기', '조', '작용', '만들다', '젔', '늘다', '내용', '부실하다', '윤석열', '깔다', '없다', '그냥', '좌빨', '끼리', '쉬쉬', '쓰레기', '조', '작용', '영화', '한국', '영화', '또', '다른', '쓰레기', '선동', '용', '망작', '인데', '실패하다', 'ㅋㅋㅋ'], ['너무', '미국', '식', '코미디', '라', '호불호', '갈릴', '듯', '하지만', '샤를', '리즈', '테론', '미모', '연기', '열', '일', '함']]\n"
     ]
    }
   ],
   "source": [
    "print(X_train[:3])"
   ]
  },
  {
   "cell_type": "code",
   "execution_count": 31,
   "id": "7a23bcbe-4724-4a39-9c4d-e78963380fdc",
   "metadata": {},
   "outputs": [
    {
     "name": "stderr",
     "output_type": "stream",
     "text": [
      "100%|█████████████████████████████████████████████████████████████████████████████| 1847/1847 [00:09<00:00, 200.24it/s]\n"
     ]
    }
   ],
   "source": [
    "X_test = []\n",
    "for sentence in tqdm(test_data['comment']):\n",
    "    tokenized_sentence = okt.morphs(sentence, stem=True) # 토큰화\n",
    "    stopwords_removed_sentence = [word for word in tokenized_sentence if not word in stopwords] # 불용어 제거\n",
    "    X_test.append(stopwords_removed_sentence)"
   ]
  },
  {
   "cell_type": "code",
   "execution_count": 32,
   "id": "acdac2bb-7c93-4bc1-96de-b0cac4ac3fc4",
   "metadata": {},
   "outputs": [],
   "source": [
    "tokenizer = Tokenizer()\n",
    "tokenizer.fit_on_texts(X_train)"
   ]
  },
  {
   "cell_type": "code",
   "execution_count": 33,
   "id": "206bf0c2-fb29-4c71-bc02-d6eb8595244f",
   "metadata": {},
   "outputs": [
    {
     "name": "stdout",
     "output_type": "stream",
     "text": [
      "{'보다': 1, '영화': 2, '을': 3, '좋다': 4, '있다': 5, '너무': 6, '이다': 7, '없다': 8, '재밌다': 9, '되다': 10, '연기': 11, '적': 12, '같다': 13, '않다': 14, '다': 15, '만': 16, '로': 17, '스토리': 18, '에서': 19, '것': 20, '생각': 21, '배우': 22, '아니다': 23, '그': 24, '진짜': 25, '나오다': 26, '더': 27, '자다': 28, '안': 29, '인': 30, '만들다': 31, '사람': 32, '수': 33, '그냥': 34, '나': 35, '볼': 36, '감동': 37, '재미있다': 38, '하고': 39, '정말': 40, '연출': 41, '액션': 42, '고': 43, '게': 44, '못': 45, '보고': 46, '내': 47, '가다': 48, '때': 49, '싶다': 50, '시간': 51, '모르다': 52, '들다': 53, '많다': 54, '다시': 55, '최고': 56, '점': 57, '감독': 58, '까지': 59, '왜': 60, '말': 61, '요': 62, '그렇다': 63, '이렇다': 64, '느낌': 65, '사랑': 66, '장면': 67, '재미': 68, '저': 69, '내용': 70, '님': 71, '꼭': 72, '오다': 73, '거': 74, 'ㅋㅋ': 75, '평점': 76, '하나': 77, '많이': 78, '느끼다': 79, '주다': 80, '아쉽다': 81, '정도': 82, '알다': 83, '없이': 84, '년': 85, '지루하다': 86, '그리고': 87, '기대': 88, '이야기': 89, '작품': 90, '톰': 91, '마음': 92, '나다': 93, '우리': 94, '되어다': 95, '촛불': 96, '영': 97, '마지막': 98, '중': 99, '주인공': 100, '추천': 101, '임': 102, '함': 103, '홀랜드': 104, '개': 105, '지금': 106, '네': 107, 'ㅠㅠ': 108, '듯': 109, '인데': 110, '좋아하다': 111, '괜찮다': 112, '영상': 113, '두': 114, '또': 115, '분': 116, '성': 117, '에게': 118, '보기': 119, '역시': 120, '넘다': 121, '인생': 122, '크다': 123, '아': 124, '처음': 125, '기': 126, '한번': 127, '맨': 128, '받다': 129, '서': 130, '면': 131, '중간': 132, '지': 133, '어떻다': 134, '부터': 135, '킬링타임': 136, '게임': 137, '이고': 138, '하': 139, '명작': 140, '뭐': 141, '남다': 142, 'ㅋㅋㅋ': 143, '일': 144, '이나': 145, '역사': 146, '모든': 147, '라': 148, '때문': 149, '알': 150, '보여주다': 151, '해주다': 152, '킹스': 153, '이렇게': 154, '현실': 155, '끝': 156, '이해': 157, '대': 158, '속': 159, '원작': 160, '용': 161, '걸': 162, '전': 163, '눈물': 164, '맞다': 165, '부분': 166, '돈': 167, '몰입': 168, '기대하다': 169, '전개': 170, '차다': 171, '아깝다': 172, '감': 173, '안되다': 174, '이라': 175, '번': 176, '뻔하다': 177, '조금': 178, '라고': 179, '모두': 180, '야': 181, 'ㅎㅎ': 182, '별로': 183, '편': 184, '그래도': 185, '캐릭터': 186, '랑': 187, '내다': 188, '다른': 189, '소재': 190, '상미': 191, '줄': 192, '엔': 193, '재미없다': 194, 'ㅋ': 195, '추리': 196, '스파이더맨': 197, '제': 198, '국민': 199, '버리다': 200, '봄': 201, '라는': 202, '대한': 203, '시리즈': 204, '해보다': 205, '먹다': 206, '지만': 207, '시대': 208, '난': 209, '처럼': 210, '살다': 211, '매력': 212, '미치다': 213, '한국': 214, '가슴': 215, '서현': 216, '기억': 217, '이상': 218, '감정': 219, '오랜': 220, '믿다': 221, '위해': 222, 'ㅠ': 223, '최악': 224, '개연': 225, '아름답다': 226, '가볍다': 227, '끝나다': 228, '개인': 229, '느껴지다': 230, '위': 231, '계속': 232, '표현': 233, '여자': 234, '이라는': 235, '야하다': 236, '눈': 237, '시작': 238, '내내': 239, '결말': 240, '나름': 241, '유치하다': 242, '건': 243, '인간': 244, '정치': 245, '함께': 246, '깊다': 247, '이건': 248, '별': 249, '자체': 250, '딱': 251, '음악': 252, '같이': 253, '초반': 254, '낮다': 255, '노래': 256, '연기력': 257, '웃다': 258, '하지만': 259, '세상': 260, '돼다': 261, '남': 262, '에는': 263, '인지': 264, '무슨': 265, '보이다': 266, '로맨스': 267, '개봉': 268, '웃기다': 269, '대사': 270, '무엇': 271, '가장': 272, '이랑': 273, '에도': 274, '충분하다': 275, '영화로': 276, '움': 277, '분들': 278, '남자': 279, '말다': 280, '삶': 281, 'ㅜㅜ': 282, '죽다': 283, '솔직하다': 284, '아이': 285, '사실': 286, '감사하다': 287, '여': 288, '팬': 289, '나쁘다': 290, '애': 291, '근데': 292, '신선하다': 293, '쓰레기': 294, '대한민국': 295, '잊다': 296, '힘들다': 297, '끄다': 298, '뭔가': 299, '슬프다': 300, '코미디': 301, '기분': 302, '재다': 303, '특히': 304, '다르다': 305, '시키다': 306, '명': 307, '긴장감': 308, '후': 309, '급': 310, '완전': 311, '앞': 312, '력': 313, '관람': 314, '치다': 315, '반전': 316, '모습': 317, '작': 318, '대다': 319, '장르': 320, '이런': 321, '이번': 322, '배경': 323, '연': 324, '멋지다': 325, '인물': 326, '높다': 327, '귀엽다': 328, '이제': 329, '감성': 330, '무섭다': 331, '등': 332, '지다': 333, '아주': 334, '가족': 335, '씬': 336, '니': 337, '인가': 338, '아무': 339, '찾다': 340, '굿': 341, '이쁘다': 342, '여운': 343, '이지만': 344, '화': 345, '빠지다': 346, '영화관': 347, '요즘': 348, '얼굴': 349, '생각나다': 350, '중국': 351, '어리다': 352, '친구': 353, '이네': 354, '수준': 355, '시절': 356, '엄청': 357, '극': 358, '쓰다': 359, '한테': 360, '대해': 361, '자신': 362, '노잼': 363, '이유': 364, '한효주': 365, '즐겁다': 366, '마다': 367, '뿐': 368, '선동': 369, '극장': 370, '드리다': 371, '공감': 372, '차': 373, 'ㅎ': 374, '밖에': 375, '대단하다': 376, '사건': 377, '약간': 378, '다음': 379, '분위기': 380, '전혀': 381, '신': 382, '결국': 383, '의미': 384, '늘다': 385, '여주': 386, '잔잔하다': 387, '집중': 388, '풀다': 389, '감상': 390, '몇': 391, '빼다': 392, '얼마나': 393, '나라': 394, '추억': 395, '부족하다': 396, '건지다': 397, '울다': 398, '보지': 399, '이집트': 400, '살리다': 401, '제일': 402, '담다': 403, '화려하다': 404, '순애': 405, '라면': 406, '인상': 407, '훌륭하다': 408, '상황': 409, '이라고': 410, '서다': 411, '살': 412, '완벽하다': 413, '기다': 414, '해적': 415, '시': 416, '후반': 417, '아프다': 418, '출연': 419, '취향': 420, '적다': 421, '본': 422, '구': 423, '우리나라': 424, '애니': 425, '음': 426, '그저': 427, '보다는': 428, '반': 429, '새롭다': 430, '식': 431, '케미': 432, '관객': 433, '제대로': 434, '놀라다': 435, '편이': 436, '물': 437, '관계': 438, '무례하다': 439, '그때': 440, '순간': 441, 'ㅋㅋㅋㅋ': 442, '매우': 443, '그렇게': 444, '일본': 445, '힘': 446, '바라다': 447, '드라마': 448, '민주주의': 449, '따뜻하다': 450, '어렵다': 451, '타': 452, '냐': 453, '미국': 454, '들어가다': 455, '술': 456, '재': 457, '죽이다': 458, '아들': 459, '준': 460, '진심': 461, '허다': 462, '든': 463, '멋있다': 464, '다소': 465, '총': 466, '부': 467, '훨씬': 468, '선택': 469, '해': 470, '어색하다': 471, '들이다': 472, '그리다': 473, '데': 474, '아쉬움': 475, '이영화': 476, '간': 477, '죠': 478, '떨어지다': 479, '현': 480, '지키다': 481, '차라리': 482, '집': 483, '누구': 484, '범인': 485, '만나다': 486, '미가': 487, '비슷하다': 488, '스럽다': 489, '꽤': 490, '어울리다': 491, '전작': 492, '몰입도': 493, '좌파': 494, '일단': 495, '설정': 496, '존재': 497, '실제': 498, '너': 499, '나가다': 500, '주': 501, '귀': 502, '뭔': 503, '놈': 504, '듣다': 505, '마블': 506, '쉬다': 507, '찍다': 508, '간만': 509, '과정': 510, '짱': 511, '세': 512, '코믹': 513, '자극': 514, '필요하다': 515, '엔딩': 516, '아직도': 517, '이상하다': 518, '일이': 519, '예상': 520, '타임': 521, '어느': 522, '잘생기다': 523, '여러': 524, '시민': 525, '그래서': 526, '니까': 527, '옛날': 528, '예쁘다': 529, '유쾌하다': 530, '이지': 531, '답답하다': 532, '동안': 533, '등장': 534, '생기다': 535, '달다': 536, '오': 537, '비다': 538, '갈다': 539, '대박': 540, '당시': 541, '따르다': 542, '서로': 543, '얘기': 544, '포인트': 545, '전체': 546, '뒤': 547, '실화': 548, '강추': 549, '살인': 550, '보': 551, '중요하다': 552, '특유': 553, '평가': 554, '절대': 555, '이란': 556, '소리': 557, '대통령': 558, '넷플릭스': 559, '첫': 560, '혼자': 561, '가지': 562, '역대': 563, '다큐': 564, '바로': 565, '남기다': 566, '여성': 567, '역': 568, '놓다': 569, '그것': 570, '온': 571, '밉다': 572, '무비': 573, '그대로': 574, '사회': 575, '뛰어나다': 576, '조': 577, '웃음': 578, '라서': 579, '가지다': 580, '요소': 581, '만큼': 582, '즐기다': 583, '통해': 584, '넣다': 585, '응원': 586, '쓸다': 587, '실망': 588, '주연': 589, '진실': 590, '에서는': 591, '대선': 592, '제발': 593, '타다': 594, '다양하다': 595, '곳': 596, '쏘다': 597, '여서': 598, '흥미롭다': 599, '흐르다': 600, '궁금하다': 601, '정신': 602, '전부': 603, '전두환': 604, '맛': 605, '에요': 606, '소설': 607, '써다': 608, '따다': 609, '소름': 610, '선': 611, '배우다': 612, '냥': 613, '전쟁': 614, '맘': 615, '짜다': 616, '평': 617, '굳이': 618, '주술': 619, '뭘': 620, '년대': 621, '완성': 622, '후회': 623, '무난': 624, '돋보이다': 625, '무조건': 626, '선거': 627, '당하다': 628, '여기': 629, '과거': 630, '주제': 631, '해도': 632, '탄탄하다': 633, '또한': 634, '박': 635, '기도': 636, '진': 637, '칼': 638, '왕': 639, '악당': 640, '쯤': 641, '씨': 642, '대의': 643, '아직': 644, '자기': 645, '돋다': 646, '어디': 647, '문제': 648, '넘치다': 649, '코로나': 650, '티': 651, '확실하다': 652, '나이': 653, '역할': 654, '이름': 655, '이에요': 656, '미래': 657, '한국영': 658, '각본': 659, '빌런': 660, '다만': 661, '대만': 662, '상': 663, '형': 664, '오락': 665, '코': 666, '이후': 667, '수작': 668, '개그': 669, '안타깝다': 670, '그런': 671, '언차티드': 672, '마무리': 673, '비교': 674, '아저씨': 675, '읽다': 676, '소담': 677, '보단': 678, '히어로': 679, '상처': 680, '도대체': 681, '날': 682, '공포': 683, '욕': 684, '어': 685, '판': 686, '보내다': 687, '사이': 688, '건가': 689, '판타지': 690, '개다': 691, '흐름': 692, '어른': 693, '이준영': 694, '다루다': 695, '유머': 696, '어설프다': 697, 'ㅡㅡ': 698, '엄마': 699, '맞추다': 700, '세계': 701, '오히려': 702, '거의': 703, '흥미진진': 704, '고민': 705, '막': 706, '제목': 707, '에선': 708, '으로는': 709, '심하다': 710, '나일강': 711, '남편': 712, '중반': 713, '너무나': 714, '누가': 715, '모': 716, '둘': 717, '전달': 718, '터지다': 719, '경찰': 720, '위대하다': 721, '지루함': 722, '몇번': 723, '이딴': 724, '더하다': 725, '싫다': 726, '필요': 727, '만들어지다': 728, '깨다': 729, '흘리다': 730, '이루다': 731, '캐스팅': 732, '현재': 733, '불다': 734, '전형': 735, '억': 736, '살짝': 737, '죽': 738, '질': 739, '그나마': 740, '만으로도': 741, '역겹다': 742, '꿈': 743, '만에': 744, '죽음': 745, '관': 746, '물론': 747, '에서도': 748, '영화인': 749, '대안': 750, '잔인하다': 751, '법': 752, '발전': 753, '젊다': 754, '작가': 755, '설명': 756, '원': 757, '짧다': 758, '두다': 759, '에겐': 760, '뽑다': 761, 'ㅠㅠㅠ': 762, '행복하다': 763, '연기자': 764, '스타일': 765, '류': 766, '스럽게': 767, '조연': 768, '진부하다': 769, '최근': 770, '힘드다': 771, '진행': 772, '쿠키': 773, '묻다': 774, '스케일': 775, '액션씬': 776, '극장판': 777, '애니메이션': 778, '사': 779, '목소리': 780, '일어나다': 781, '배': 782, '깔끔하다': 783, '수도': 784, 'ㅡ': 785, '알바': 786, '바뀌다': 787, '예요': 788, '신파': 789, '볼때': 790, '인정': 791, '억지': 792, '스릴': 793, '황정민': 794, '머리': 795, '울': 796, '투표': 797, '여전하다': 798, '년전': 799, '만의': 800, '적당하다': 801, '검찰': 802, '지리다': 803, '답': 804, '언제': 805, '만하': 806, '회전': 807, '걸다': 808, '흘러가다': 809, '좀비': 810, '촬영': 811, '아버지': 812, '잼': 813, '돌아가다': 814, '말고': 815, '풍경': 816, '최우식': 817, '그럭저럭': 818, '교훈': 819, '런가': 820, '한다는': 821, '떠나다': 822, '송새벽': 823, '작화': 824, '예술': 825, '복수': 826, '안보': 827, '리뷰': 828, '덕분': 829, '떠오르다': 830, '오늘': 831, '바꾸다': 832, '억지로': 833, '이기다': 834, '기다리다': 835, '화보': 836, '담기다': 837, '메시지': 838, '뻔': 839, '신나다': 840, '그날': 841, '정의': 842, 'ㅜ': 843, '등등': 844, '평범하다': 845, '서사': 846, 'ㄹㅇ': 847, '오글거리다': 848, '윤석열': 849, '자동차': 850, '항상': 851, '똥': 852, '저런': 853, '힐링': 854, '더럽다': 855, '원래': 856, '빠르다': 857, '문': 858, '소중하다': 859, '노': 860, '엄청나다': 861, '가치': 862, '유타': 863, '언': 864, '싸우다': 865, '노력': 866, '자연': 867, '월': 868, '볼거리': 869, '희생': 870, '최고다': 871, '반갑다': 872, '편하다': 873, '이르다': 874, '포': 875, '상영': 876, '딸': 877, '주의': 878, '엉': 879, '아빠': 880, '피': 881, '참고': 882, '기자': 883, '땐': 884, '어드벤처': 885, '딱하다': 886, '제작': 887, '행동': 888, '마치': 889, '불구': 890, '당': 891, '터': 892, '당신': 893, '광주': 894, '정권': 895, '독특하다': 896, '박수': 897, '간다': 898, '추리물': 899, '부르다': 900, '사랑스럽다': 901, '바람': 902, '에게는': 903, '다가': 904, '얼': 905, '러닝': 906, '꿀잼': 907, '표정': 908, '조은지': 909, '묘사': 910, '땜': 911, '성하다': 912, '쪽': 913, '평이': 914, '뜨겁다': 915, '기존': 916, '화면': 917, '박근혜': 918, '실감': 919, '보이': 920, '망하다': 921, '상당하다': 922, '이광수': 923, '트': 924, '이라도': 925, '갈수록': 926, '잡다': 927, '불편하다': 928, '빨리': 929, '틈': 930, '순': 931, '척': 932, '결론': 933, '전투': 934, '기록': 935, '그게': 936, '디즈니': 937, '심장': 938, '싸다': 939, '똑같다': 940, '길다': 941, '씩': 942, '치고': 943, '단순하다': 944, '으로도': 945, '이야': 946, '자막': 947, '메세지': 948, '특별하다': 949, '틀다': 950, '세계관': 951, '안좋다': 952, '낫다': 953, '결혼': 954, '거리': 955, '당연하다': 956, '오래': 957, '울컥': 958, '방': 959, '보물': 960, '진지하다': 961, '넘어가다': 962, '책': 963, '바': 964, '저렇게': 965, '연애': 966, '시나리오': 967, '시선': 968, '흔하다': 969, '여행': 970, '비': 971, '며': 972, '나서다': 973, '빛': 974, '뭐라다': 975, '뛰다': 976, '더욱': 977, '짐': 978, '살아가다': 979, '가능하다': 980, '그러나': 981, '걸리다': 982, '갑자기': 983, '와로': 984, '존스': 985, '범죄': 986, '갖다': 987, '돌리다': 988, 'ㅎㅎㅎ': 989, '강하다': 990, '스릴러': 991, '원하다': 992, '로는': 993, '께': 994, '이상호': 995, '맥': 996, '변하다': 997, '심지어': 998, '키': 999, '만해': 1000, '이미지': 1001, '변신': 1002, 'ㄷㄷ': 1003, '길': 1004, '이며': 1005, '존나': 1006, '겪다': 1007, '입': 1008, '라도': 1009, '뜻': 1010, '뭉클하다': 1011, '이미': 1012, '웅장': 1013, '한데': 1014, '찌다': 1015, '추하다': 1016, '아무리': 1017, '병맛': 1018, '속편': 1019, '새': 1020, '기본': 1021, '다시다': 1022, 'ㅈㄴ': 1023, '산': 1024, '입장': 1025, '외': 1026, '지난': 1027, '시국': 1028, '얻다': 1029, '파': 1030, '멀다': 1031, '발견': 1032, '테러': 1033, '홍보': 1034, '점점': 1035, '되게': 1036, '진정하다': 1037, '루즈': 1038, '흥행': 1039, '의식': 1040, '관심': 1041, '잃다': 1042, '예고편': 1043, '억지스럽다': 1044, '대체': 1045, '감탄': 1046, '만족하다': 1047, '조진웅': 1048, '무겁다': 1049, '지나다': 1050, '그만': 1051, '늘': 1052, '까진': 1053, '느와르': 1054, '감다': 1055, '이선균': 1056, '좌빨': 1057, '호불호': 1058, '우주': 1059, '북한': 1060, '벌어지다': 1061, '반복': 1062, '살아나다': 1063, '치': 1064, '이면': 1065, '강하늘': 1066, '하루': 1067, '너무하다': 1068, '레전드': 1069, '크리스': 1070, '충격': 1071, '래': 1072, '권': 1073, '홈': 1074, '조합': 1075, '글': 1076, '탐정': 1077, '이리': 1078, '성우': 1079, '리메이크': 1080, '흥미': 1081, '찾아보다': 1082, '던지다': 1083, '정선': 1084, '작다': 1085, '누군가': 1086, '낭비': 1087, '깨': 1088, '수가': 1089, '비추다': 1090, '수많다': 1091, '섬세하다': 1092, '웃기': 1093, '보시': 1094, '언론': 1095, '소소하다': 1096, '토': 1097, '점수': 1098, '씽': 1099, '보통': 1100, '기대다': 1101, '사라지다': 1102, '강': 1103, '시도': 1104, '그걸': 1105, '걱정': 1106, '손': 1107, '색다르다': 1108, '젤': 1109, '따라가다': 1110, '우연히': 1111, '초': 1112, '젠': 1113, '열': 1114, '최애': 1115, '빨갱이': 1116, '신기하다': 1117, '까지는': 1118, '미도': 1119, '갈등': 1120, '조차': 1121, '라니': 1122, '빠져들다': 1123, '자본': 1124, '계시다': 1125, '뜨다': 1126, '한국인': 1127, '디테일': 1128, '추리소설': 1129, '계': 1130, '만화': 1131, '세대': 1132, '영원하다': 1133, '화가': 1134, '고구마': 1135, '머': 1136, '고생': 1137, '넷플': 1138, '동화': 1139, '피터': 1140, '세련되다': 1141, '어떤': 1142, '세번': 1143, '목적': 1144, '본인': 1145, '결과': 1146, '비주': 1147, '겁나다': 1148, '정부': 1149, '독재': 1150, '남녀': 1151, '갓': 1152, '인디아나': 1153, '해결': 1154, '적절하다': 1155, '전반': 1156, '크게': 1157, '댓글': 1158, '불쌍하다': 1159, '클리셰': 1160, '입다': 1161, '벌써': 1162, '정치인': 1163, '군': 1164, '놓치다': 1165, '동': 1166, '잘못': 1167, '김의성': 1168, '광장': 1169, '펭귄': 1170, '굉장하다': 1171, '졸다': 1172, '겠다': 1173, '미화': 1174, '굿굿': 1175, '필요없다': 1176, '보스': 1177, '깔다': 1178, '아픔': 1179, '차이': 1180, '로서': 1181, '다운': 1182, '다니다': 1183, '에서의': 1184, '등장인물': 1185, '어둠': 1186, '킬링': 1187, '어쩌면': 1188, '순수하다': 1189, '자랑스럽다': 1190, '부정': 1191, '민주': 1192, '산만하다': 1193, '뮤지컬': 1194, '여배우': 1195, '멍청하다': 1196, '능력': 1197, '미안하다': 1198, '년도': 1199, '깨닫다': 1200, '란': 1201, '슈퍼주니어': 1202, '은혁': 1203, '액션영화': 1204, '올해': 1205, '대신': 1206, '의심': 1207, '예전': 1208, '첨': 1209, '만큼은': 1210, '이기': 1211, '메이드': 1212, '장난': 1213, '몸': 1214, '보아': 1215, '닿다': 1216, '스': 1217, '망치다': 1218, '매': 1219, '후속작': 1220, '탄생': 1221, '챙기다': 1222, '눈빛': 1223, '빛나다': 1224, '동시': 1225, '망': 1226, '그림자': 1227, '편집': 1228, '애매하다': 1229, '이든': 1230, '분노': 1231, '닮다': 1232, '색감': 1233, '케': 1234, '안다': 1235, '덜': 1236, '후보': 1237, '덕': 1238, '개츠비': 1239, '이끌다': 1240, '류승룡': 1241, '즈': 1242, '용다': 1243, '발': 1244, '나르다': 1245, '잘만': 1246, '사투리': 1247, '다행': 1248, '시각': 1249, '방식': 1250, '이전': 1251, '전투씬': 1252, '행복': 1253, '보신': 1254, '성인': 1255, '네이버': 1256, '악역': 1257, '장점': 1258, '죄': 1259, '전편': 1260, '하비에르': 1261, '해내다': 1262, '싸움': 1263, '열연': 1264, '외모': 1265, '한편': 1266, '보고오다': 1267, '펑펑': 1268, '설경구': 1269, '시기': 1270, '정서': 1271, '약': 1272, '지도': 1273, '허무하다': 1274, '웰': 1275, '해석': 1276, '탑': 1277, '캐': 1278, '악마': 1279, '로써': 1280, '근래': 1281, '드': 1282, '혁명': 1283, '짓': 1284, '으로써': 1285, '고증': 1286, '완전하다': 1287, '배역': 1288, '어쩔': 1289, '잇다': 1290, '기승': 1291, '전결': 1292, '정확하다': 1293, '다가오다': 1294, '단': 1295, '비디오': 1296, '이어서': 1297, '누': 1298, '해봤다': 1299, '범': 1300, '선물': 1301, '센스': 1302, '발암': 1303, '시원하다': 1304, '대가': 1305, '유진': 1306, '철': 1307, '설레다': 1308, '압도': 1309, '뜬금': 1310, '그닥': 1311, '흠': 1312, '울리다': 1313, '이제야': 1314, '다시금': 1315, '지옥': 1316, '성공': 1317, '으로서': 1318, '세계대전': 1319, '미소': 1320, '청춘': 1321, '깊이': 1322, '진보': 1323, '슬픔': 1324, '감히': 1325, '떼다': 1326, '번은': 1327, '미모': 1328, '굳다': 1329, '팔이': 1330, '천재': 1331, '티비': 1332, '시원시원하다': 1333, '참신하다': 1334, '설마': 1335, '바르뎀': 1336, '맡다': 1337, '소': 1338, '진정': 1339, '민주화': 1340, '스트레스': 1341, '의문': 1342, '먼저': 1343, '인하다': 1344, '영웅': 1345, '어찌': 1346, '만족': 1347, '그동안': 1348, '타고': 1349, '휴': 1350, '놀다': 1351, '마': 1352, '세월호': 1353, '올': 1354, '난해하다': 1355, '동해': 1356, '상상': 1357, '각색': 1358, '가면': 1359, '한마디': 1360, '옷': 1361, '주진우': 1362, '으론': 1363, '섹시하다': 1364, '실패': 1365, '죄다': 1366, '팝콘': 1367, '폭력': 1368, '디카프리오': 1369, '카': 1370, '유명하다': 1371, '그거': 1372, '루': 1373, '참여': 1374, '긴장': 1375, '만은': 1376, '석': 1377, '정': 1378, '날다': 1379, '이니': 1380, '묘': 1381, '공포영화': 1382, '점도': 1383, '비극': 1384, '받아들이다': 1385, '로만': 1386, '식상하다': 1387, '오버': 1388, '겨울': 1389, '연속': 1390, '승리': 1391, '심': 1392, '가득': 1393, '존잼': 1394, '제외': 1395, '짓다': 1396, '만점': 1397, '떠올리다': 1398, '히': 1399, '꼴': 1400, '자유': 1401, '분명하다': 1402, '밤': 1403, '유치': 1404, '세력': 1405, '영국': 1406, '대로': 1407, '끼리': 1408, '망작': 1409, '핵': 1410, '엔딩크레딧': 1411, '각': 1412, '감사': 1413, '눈물나다': 1414, '주변': 1415, '로운': 1416, '사토': 1417, '보라': 1418, '으로만': 1419, '잠시': 1420, '글쎄': 1421, '들어오다': 1422, '옆': 1423, '국가': 1424, '파커': 1425, '와우': 1426, '풍': 1427, '카메라': 1428, '무': 1429, '괴물': 1430, '지르다': 1431, '올리다': 1432, '폭발': 1433, '돌아오다': 1434, '담백하다': 1435, '무한': 1436, '가깝다': 1437, '어이없다': 1438, '마크': 1439, '캐리': 1440, '섞이다': 1441, '기준': 1442, '자연스럽다': 1443, '일상': 1444, '울림': 1445, '호러': 1446, '계기': 1447, '공': 1448, '드물다': 1449, '최': 1450, '실': 1451, '끊기다': 1452, '오리엔트': 1453, '그런데': 1454, '부족함': 1455, '과연': 1456, '쇼': 1457, '때리다': 1458, '마냥': 1459, '조작': 1460, '위로': 1461, '올라가다': 1462, '번째': 1463, '이라서': 1464, '완벽': 1465, '익숙하다': 1466, '찰떡': 1467, '오지': 1468, '광화문': 1469, '몰다': 1470, '졸리다': 1471, '기반': 1472, '짜증': 1473, '단어': 1474, '좌좀': 1475, '스럽지': 1476, '그렇다고': 1477, '지는': 1478, '끊다': 1479, '재밋': 1480, '할머니': 1481, '하나같이': 1482, '지나가다': 1483, '급하다': 1484, '형님': 1485, '거부': 1486, '오랫': 1487, '왠지': 1488, '사다': 1489, '공부': 1490, '평론가': 1491, '반성': 1492, '어이': 1493, '소녀': 1494, '접': 1495, '세계사': 1496, '구성': 1497, '프리퀄': 1498, '세다': 1499, '포함': 1500, '조용하다': 1501, '겁니다': 1502, '후기': 1503, '는걸': 1504, '존경': 1505, '나중': 1506, '예정': 1507, '메인': 1508, '자주': 1509, '얼마': 1510, '거기': 1511, '설득': 1512, '기원': 1513, '기억나다': 1514, 'ㄷ': 1515, '띵작': 1516, '세월': 1517, '첫사랑': 1518, '거지': 1519, '일반': 1520, '플레이': 1521, '문화': 1522, '부자': 1523, '어디서': 1524, '멈추다': 1525, '여러분': 1526, '개혁': 1527, '남아': 1528, '괜히': 1529, '밋밋하다': 1530, '알리다': 1531, '자리': 1532, '판단': 1533, '영어': 1534, '효과': 1535, '달리': 1536, '열차': 1537, '목숨': 1538, '로움': 1539, '표': 1540, '웹툰': 1541, '발연기': 1542, '고양이': 1543, '관점': 1544, '오빠': 1545, '실망하다': 1546, '물다': 1547, '습': 1548, '정체': 1549, '성은': 1550, '반드시': 1551, '스크린': 1552, '멜로': 1553, '시즌': 1554, '금': 1555, '그만큼': 1556, '택시': 1557, '광': 1558, '특급': 1559, '편도': 1560, '장혁': 1561, '이냐': 1562, '옳다': 1563, '환상': 1564, '대전': 1565, '거나': 1566, '리암': 1567, '맥시': 1568, '와의': 1569, '짜임새': 1570, '신분': 1571, '갖추다': 1572, '상태': 1573, '로코': 1574, '백': 1575, '추다': 1576, '거대하다': 1577, '묵직하다': 1578, '짜증나다': 1579, '경': 1580, '편견': 1581, '앞두다': 1582, '좋아지다': 1583, '불': 1584, 'ㅈ': 1585, '어린이': 1586, '부족': 1587, '만이': 1588, '라스푸틴': 1589, '때우다': 1590, '민주당': 1591, '확': 1592, '애초': 1593, '이어지다': 1594, '마저': 1595, '에만': 1596, '성향': 1597, '풍자': 1598, '가보다': 1599, '언젠가': 1600, '직접': 1601, '어떡하다': 1602, '심심하다': 1603, '회사': 1604, '막히다': 1605, '참다': 1606, '오세훈': 1607, '바르다': 1608, '재난': 1609, '해피엔딩': 1610, '스파': 1611, '튀다': 1612, '엉망': 1613, '삼': 1614, '자두': 1615, '숨': 1616, '박다': 1617, '일품': 1618, '성장': 1619, '더빙': 1620, '들어서다': 1621, '조폭': 1622, '스타': 1623, '랄': 1624, '감각': 1625, '전세계': 1626, '심각하다': 1627, '동물': 1628, '성공하다': 1629, '문재인': 1630, '각자': 1631, '방향': 1632, '만으로': 1633, '케이': 1634, '인터뷰': 1635, '단점': 1636, '탄핵': 1637, '비우다': 1638, '과의': 1639, '전기톱': 1640, '연결': 1641, '용기': 1642, '물이': 1643, '무대': 1644, '이하': 1645, '줄거리': 1646, '의도': 1647, '성과': 1648, '향': 1649, '와는': 1650, '가득하다': 1651, '경험': 1652, '언제나': 1653, '불쾌하다': 1654, '임팩트': 1655, '와도': 1656, '아가': 1657, '착하다': 1658, '나은': 1659, '생': 1660, '고통': 1661, '유일하다': 1662, '웨이': 1663, '톤': 1664, '아이러니': 1665, '잠': 1666, '상기': 1667, '클래식': 1668, '티모시': 1669, '노출': 1670, '옷코츠': 1671, '이도': 1672, '촛불집회': 1673, '존': 1674, '롭고': 1675, '이용': 1676, '영환': 1677, '방금': 1678, '주말': 1679, '부모': 1680, '낳다': 1681, '운명': 1682, '면서': 1683, '남성': 1684, '중심': 1685, '신다': 1686, '매끄럽다': 1687, '모으다': 1688, '부끄럽다': 1689, '어차피': 1690, '버그': 1691, '군더더기': 1692, '왠만하다': 1693, '정보': 1694, '돌아보다': 1695, '탓': 1696, '혹은': 1697, '평생': 1698, '끼': 1699, '가진동': 1700, '어딘가': 1701, '새끼': 1702, '엑스맨': 1703, '기득권': 1704, '정석': 1705, '잠깐': 1706, '개돼지': 1707, '리얼': 1708, '돗': 1709, '감명': 1710, '칭찬': 1711, '대작': 1712, '아내': 1713, '쓸데없다': 1714, '인들': 1715, '빨': 1716, '가끔': 1717, '결': 1718, '청년': 1719, '유지': 1720, '도저히': 1721, '욕심': 1722, '저주': 1723, '코드': 1724, '하늘': 1725, '이겠다': 1726, '부모님': 1727, '색': 1728, '소름끼치다': 1729, '약하다': 1730, '무언가': 1731, '헐리웃': 1732, '기쁘다': 1733, '존중': 1734, '대하': 1735, '비행기': 1736, '게토': 1737, '새다': 1738, '체적': 1739, '접다': 1740, '효': 1741, '빵': 1742, '철학': 1743, '직업': 1744, '사고': 1745, '상관없다': 1746, '운동': 1747, '반하다': 1748, '늙다': 1749, '커버': 1750, '암': 1751, '및': 1752, '희다': 1753, '전설': 1754, '중후': 1755, '개성': 1756, '로남불': 1757, '영혼': 1758, '섞다': 1759, '화이팅': 1760, '딸리다': 1761, '용이': 1762, '기괴하다': 1763, '그렇지만': 1764, '결정': 1765, '생명': 1766, '절절': 1767, '일으키다': 1768, '늘어지다': 1769, '희망': 1770, '대표': 1771, '더불다': 1772, '졸작': 1773, '뇌': 1774, '밖': 1775, '포장': 1776, '네스': 1777, '보수': 1778, '흑인': 1779, '달리다': 1780, '퀄리티': 1781, '오르다': 1782, '존잘': 1783, '김대중': 1784, '그녀': 1785, '태어나다': 1786, '끔찍하다': 1787, '정말로': 1788, '대부분': 1789, '질질': 1790, '시점': 1791, '지능': 1792, '헐리우드': 1793, '화일': 1794, '처': 1795, '오브': 1796, '이루어지다': 1797, '사망': 1798, '콘래드': 1799, '드디어': 1800, '할리우드': 1801, '미스터리': 1802, '악': 1803, '주인': 1804, '검색': 1805, '옛': 1806, '론': 1807, '개꿀잼': 1808, '째': 1809, '드네': 1810, '그립다': 1811, '화끈하다': 1812, '크리스마스': 1813, '대중': 1814, '분명': 1815, '말로': 1816, '구나': 1817, '아이맥스': 1818, '주제가': 1819, '지겹다': 1820, '애기': 1821, '경우': 1822, '버전': 1823, '끝판': 1824, '고맙다': 1825, '채수빈': 1826, '권상우': 1827, '미묘하다': 1828, '평소': 1829, '그린': 1830, '우': 1831, '포스터': 1832, '탈': 1833, '나아가다': 1834, '뒤늦다': 1835, '넘어서다': 1836, '몽글몽글하다': 1837, '연인': 1838, '깜짝': 1839, '토비': 1840, '그야말로': 1841, '기르다': 1842, '강아지': 1843, '안해': 1844, '맨날': 1845, '깨물다': 1846, '누나': 1847, '잭': 1848, '차원': 1849, '휘': 1850, '치유': 1851, '펼치다': 1852, '짱깨': 1853, '거짓': 1854, '갠': 1855, '전개도': 1856, '군대': 1857, '성적': 1858, '왜곡': 1859, '틀리다': 1860, '벅차다': 1861, '해지': 1862, '저렇다': 1863, '케이트': 1864, '평타': 1865, '기술': 1866, '일부러': 1867, '초딩': 1868, '비밀': 1869, '그래픽': 1870, '잡고': 1871, '나타나다': 1872, '강렬하다': 1873, '모로': 1874, '인거': 1875, '졸라': 1876, '생략': 1877, '채우다': 1878, '페미': 1879, '집착': 1880, '만들기': 1881, '배신': 1882, '담배': 1883, '이재명': 1884, '밝히다': 1885, '신경': 1886, '다그': 1887, '바보': 1888, '늦다': 1889, '담담하다': 1890, '달': 1891, '온갖': 1892, '자르다': 1893, '방법': 1894, '다리': 1895, '스러운': 1896, '블랙코미디': 1897, '많아지다': 1898, '우울하다': 1899, '소화': 1900, '무시': 1901, '호강': 1902, '땅': 1903, '어떠하다': 1904, '메다': 1905, '어제': 1906, '끼다': 1907, '나머지': 1908, '처참하다': 1909, '프랑스': 1910, '몇몇': 1911, '당황': 1912, '다큐멘터리': 1913, '강력': 1914, '너무나도': 1915, '김': 1916, '통쾌하다': 1917, '간의': 1918, '항': 1919, '없어지다': 1920, '포기': 1921, '줍다': 1922, '불륜': 1923, '만약': 1924, '말고는': 1925, '제작비': 1926, '체': 1927, '성도': 1928, '리카': 1929, '쫌': 1930, '살인마': 1931, '붙다': 1932, '우정': 1933, '지루': 1934, '임용': 1935, '가리다': 1936, '수록': 1937, '길이': 1938, '레이': 1939, '생활': 1940, '저러다': 1941, '달라지다': 1942, '발음': 1943, '모험': 1944, '린다': 1945, '빵빵': 1946, '대감': 1947, '애쓰다': 1948, '신사': 1949, '감안': 1950, '혹시': 1951, '극단': 1952, '갈릴': 1953, '현대': 1954, '버스': 1955, '학살': 1956, '돌다': 1957, '우려': 1958, '남지': 1959, '의견': 1960, '타이틀': 1961, '그건': 1962, '무너지다': 1963, '고요': 1964, '보물찾기': 1965, '겉': 1966, '인가요': 1967, '예': 1968, '파도': 1969, '상대': 1970, '아끼다': 1971, '만족스럽다': 1972, '결코': 1973, 'ㅅㅂ': 1974, '매번': 1975, '인게': 1976, '층': 1977, '정치가': 1978, '두운': 1979, '복잡하다': 1980, '현장': 1981, '나나': 1982, '쫄깃': 1983, '최민식': 1984, '확인': 1985, '저리': 1986, '낫': 1987, '키우다': 1988, '이입': 1989, '열심히': 1990, '마르다': 1991, '아기': 1992, '리': 1993, '감흥': 1994, '수위': 1995, '기회': 1996, '꽉': 1997, '주지': 1998, '소개': 1999, '공짜': 2000, '특성': 2001, '실력': 2002, '로맨틱': 2003, '제임스': 2004, '취한': 2005, '커서': 2006, '속도': 2007, '빨다': 2008, '마주': 2009, '빌리다': 2010, '거울': 2011, '티키타카': 2012, '장소': 2013, '광고': 2014, '오마주': 2015, '지리': 2016, '부터는': 2017, '전종': 2018, '재앙': 2019, '질주': 2020, '덤': 2021, '누군지': 2022, '게다가': 2023, '로봇': 2024, '형제': 2025, '충': 2026, '외치다': 2027, '가능': 2028, '손색': 2029, '놀람': 2030, '집단': 2031, '인류': 2032, '대놓고': 2033, '논란': 2034, '뉴스': 2035, '응': 2036, '우린': 2037, '정리': 2038, '백인': 2039, '찾아가다': 2040, '인지도': 2041, '아줌마': 2042, '예측': 2043, '커플': 2044, '예매': 2045, '처절하다': 2046, '고전': 2047, '반영': 2048, '탁월하다': 2049, '붙이다': 2050, '대화': 2051, '내리다': 2052, '나일': 2053, '중학생': 2054, '주요': 2055, '재미나': 2056, '에피소드': 2057, '여기다': 2058, '낭만': 2059, '조우진': 2060, '깨지다': 2061, '깎다': 2062, '사운드': 2063, '절제': 2064, '겨우': 2065, '열망': 2066, '집안': 2067, '별거': 2068, '보다도': 2069, '홍콩': 2070, '할아버지': 2071, '마이클': 2072, '악평': 2073, '필': 2074, '바탕': 2075, '세훈': 2076, '강력하다': 2077, '팔': 2078, '남자배우': 2079, '성의': 2080, '달라': 2081, '비록': 2082, '과는': 2083, '속이다': 2084, '꾸다': 2085, '거슬리다': 2086, '닦다': 2087, '투': 2088, '박하': 2089, 'ㅠㅠㅠㅠ': 2090, '보이지': 2091, '가족영화': 2092, '애잔하다': 2093, '매다': 2094, '짬뽕': 2095, '교과서': 2096, '씁쓸하다': 2097, '전후': 2098, '명도': 2099, '언니': 2100, '밑': 2101, '두번째': 2102, '또다른': 2103, '편향': 2104, '추가': 2105, '드럽다': 2106, '펼쳐지다': 2107, '피해': 2108, '회': 2109, '에서만': 2110, '태우다': 2111, '다섯': 2112, '마력': 2113, '말투': 2114, '다치다': 2115, '게이': 2116, '심리': 2117, '벌이다': 2118, '대사도': 2119, '목사': 2120, '랑은': 2121, '알아보다': 2122, '스콧': 2123, '가사': 2124, '조직': 2125, '디테': 2126, '양': 2127, '평화': 2128, '형사': 2129, '너무도': 2130, '꺼지다': 2131, '새벽': 2132, '떨다': 2133, '예산': 2134, '이성': 2135, '벗어나다': 2136, '끌다': 2137, '브래너': 2138, '닥': 2139, '관련': 2140, '전쟁영화': 2141, '미리': 2142, '이의': 2143, '제시카': 2144, '차스테인': 2145, '국내': 2146, '배경음악': 2147, '샘': 2148, '변': 2149, '준비': 2150, '열정': 2151, '해리포터': 2152, '심판': 2153, '청산': 2154, '마동석': 2155, '부실하다': 2156, '잊혀지다': 2157, '뽑히다': 2158, '투자': 2159, '탈출': 2160, '퀄': 2161, '창': 2162, '연예인': 2163, '노골': 2164, '밝다': 2165, '넘기다': 2166, '채': 2167, '단계': 2168, '깨우다': 2169, '활동': 2170, '가까이': 2171, '이보': 2172, '무서움': 2173, '귀가': 2174, '듭니': 2175, '읍니': 2176, '항쟁': 2177, '금방': 2178, '빌다': 2179, '블랙': 2180, '상상력': 2181, '피라미드': 2182, '자세하다': 2183, '찾기': 2184, '방해': 2185, '광수': 2186, '끝내주다': 2187, '쏟아지다': 2188, '내주다': 2189, '화나다': 2190, '되새기다': 2191, '한잔': 2192, '말씀': 2193, '부실': 2194, '처리': 2195, '프로': 2196, '호화': 2197, '딱이다': 2198, '바라보다': 2199, '편의': 2200, '이자': 2201, '겜': 2202, '쾌감': 2203, '복선': 2204, '달콤하다': 2205, '거야': 2206, '쓸데없이': 2207, '하자': 2208, '갈리다': 2209, '입덕': 2210, '좀더': 2211, '주가': 2212, '넓다': 2213, '개판': 2214, '어스': 2215, '역다': 2216, '피해자': 2217, '위선': 2218, '변화': 2219, '캐릭': 2220, '졸': 2221, '끌리다': 2222, '싫어하다': 2223, '문득': 2224, '흥': 2225, '국정': 2226, '농단': 2227, '피닉스': 2228, '리오': 2229, '쑤시다': 2230, '파악': 2231, '이기도': 2232, '찌르다': 2233, '합': 2234, '뛰어넘다': 2235, '니슨': 2236, '꼬마': 2237, '워싱턴': 2238, '느리다': 2239, '첩보': 2240, '외국': 2241, '막판': 2242, '깜놀': 2243, '미나': 2244, '배우진': 2245, '사용': 2246, '지브리': 2247, '종': 2248, '가짜': 2249, '기사': 2250, '이해도': 2251, '구림': 2252, '전하': 2253, '적나라하다': 2254, '박하다': 2255, '아역': 2256, '냄새': 2257, '미루다': 2258, '마스터피스': 2259, '선사': 2260, '재현': 2261, '동심': 2262, '교체': 2263, '영화계': 2264, '찬양': 2265, '드러나다': 2266, '켜다': 2267, '북': 2268, '하고프다': 2269, '유발': 2270, '마키': 2271, '흔들리다': 2272, '범벅': 2273, '꿈꾸다': 2274, '자꾸': 2275, '대충': 2276, '아무튼': 2277, '훔치다': 2278, '피다': 2279, '킹': 2280, '펴다': 2281, '내놓다': 2282, '열리다': 2283, '장': 2284, '병': 2285, '흑': 2286, '숨기다': 2287, '실수': 2288, '기만': 2289, '근': 2290, '막장': 2291, '컨셉': 2292, '하나로': 2293, '웃': 2294, '녹다': 2295, '무기': 2296, '연극': 2297, '크레딧': 2298, '레옹': 2299, '곧': 2300, '빡치다': 2301, '조선': 2302, '유': 2303, '찬사': 2304, '의리': 2305, '사극': 2306, '무리': 2307, '지지': 2308, '단체': 2309, '드니': 2310, '은근': 2311, '무지하다': 2312, '사장': 2313, '판빙빙': 2314, '문제점': 2315, '따위': 2316, '적임': 2317, '올림픽': 2318, '부동산': 2319, '클레멘타인': 2320, '찬': 2321, '공화국': 2322, '모자라다': 2323, '찢다': 2324, '주행': 2325, '오그라들다': 2326, '생생하다': 2327, '제주도': 2328, '토미': 2329, '직전': 2330, '조국': 2331, '따라오다': 2332, '놀랍다': 2333, '폭도': 2334, '무능하다': 2335, '카리스마': 2336, '유독': 2337, '안나': 2338, '그림': 2339, '플롯': 2340, '태국': 2341, '플': 2342, '발생': 2343, '스크림': 2344, '사기': 2345, '편안하다': 2346, '두근두근': 2347, '전환': 2348, '적어도': 2349, '박정희': 2350, '가시': 2351, '얻어맞다': 2352, '쓰이다': 2353, '남친': 2354, '일반인': 2355, '리들리': 2356, '구찌': 2357, '캐리비안': 2358, '러시아': 2359, '정우성': 2360, '도전': 2361, '이선': 2362, '불가': 2363, '영화제': 2364, '불친절하다': 2365, '도시': 2366, '시청': 2367, '부담': 2368, '엠마': 2369, '에게도': 2370, 'ㅇㅇ': 2371, '종합': 2372, '호연': 2373, '가야': 2374, '홀로': 2375, '손예진': 2376, '변태': 2377, '줌': 2378, '일도': 2379, '우연': 2380, '치가': 2381, '광기': 2382, '버티다': 2383, '형식': 2384, '베이': 2385, '끝내다': 2386, '작년': 2387, '지인': 2388, '사연': 2389, '박진': 2390, '덩어리': 2391, '특이하다': 2392, '마저도': 2393, '차별': 2394, '가져가다': 2395, '어드벤쳐': 2396, '보장': 2397, '스스로': 2398, '유오성': 2399, '부로': 2400, '싱크로': 2401, '율': 2402, '자가': 2403, '상식': 2404, '살인자': 2405, '어수선하다': 2406, '밝혀지다': 2407, '기적': 2408, '격감': 2409, '벽': 2410, '고난': 2411, '잔': 2412, '선수': 2413, '젊음': 2414, '낮': 2415, '니당다': 2416, '심다': 2417, '암울하다': 2418, '갈아': 2419, '대통령선거': 2420, '악플': 2421, '직원': 2422, '불과': 2423, '지나': 2424, '설립': 2425, '저울': 2426, '섬': 2427, '본적': 2428, '지구': 2429, '천': 2430, '위트': 2431, '폭동': 2432, '한두': 2433, '도깨비': 2434, '으로의': 2435, '적폐': 2436, '파티': 2437, '도안': 2438, '환경': 2439, '실패하다': 2440, '위험하다': 2441, '모이다': 2442, '여인': 2443, '소장': 2444, '선전': 2445, '몰아치다': 2446, '한숨': 2447, '연상': 2448, '머릿속': 2449, '헌터': 2450, '단서': 2451, '위치': 2452, '상관': 2453, '친절하다': 2454, '지점': 2455, '훨': 2456, '성숙하다': 2457, '기발하다': 2458, '특송': 2459, '수고': 2460, '도입': 2461, '어쩜': 2462, '박히다': 2463, '천국': 2464, '외면': 2465, '밥': 2466, '앤드류': 2467, '찢어지다': 2468, '줄리아': 2469, '로버츠': 2470, '맡기다': 2471, '품다': 2472, '타란티노': 2473, '점주': 2474, '구경': 2475, '스필버그': 2476, '니콜라스': 2477, '오프닝': 2478, '던데': 2479, '어둡다': 2480, '송강호': 2481, '스포': 2482, '분량': 2483, '집회': 2484, '관객수': 2485, '하하': 2486, '검사': 2487, '헌신': 2488, '첨부': 2489, '경이': 2490, '춤': 2491, '사자': 2492, '그러하다': 2493, '청불': 2494, '킹메이커': 2495, '어린시절': 2496, '홍상수': 2497, '메': 2498, '초점': 2499, '뿌듯하다': 2500, '찔끔': 2501, '달려가다': 2502, '앤더슨': 2503, '비호감': 2504, '유튜브': 2505, '이상은': 2506, '공허하다': 2507, '판이': 2508, '박사': 2509, '타인': 2510, '잠들다': 2511, '과장': 2512, '마찬가지': 2513, '마파': 2514, '송운화': 2515, '본드': 2516, '짜릿하다': 2517, '뻥': 2518, '화하다': 2519, '다크': 2520, '호기심': 2521, '흠잡다': 2522, '맛있다': 2523, '감정이입': 2524, '정신병': 2525, '케릭': 2526, '롱': 2527, '봣': 2528, '화장실': 2529, '명장': 2530, '울면': 2531, '고찰': 2532, '신념': 2533, '띵': 2534, '세기': 2535, '참혹하다': 2536, '압권': 2537, '애인': 2538, '알리바이': 2539, '돌': 2540, '파이어': 2541, '분석': 2542, '이정': 2543, '재밋음': 2544, '뜯다': 2545, '유니버스': 2546, '칠하다': 2547, '후속': 2548, '기법': 2549, '썩': 2550, '된거': 2551, '혐오': 2552, '높이다': 2553, '달달': 2554, '간단하다': 2555, '구매': 2556, '통': 2557, '출동': 2558, '월드': 2559, '세뇌': 2560, '벌레': 2561, '오래전': 2562, '압': 2563, '회차': 2564, '기간': 2565, '바다': 2566, '가게': 2567, '지식': 2568, '극적': 2569, '한나': 2570, '명연기': 2571, '따스하다': 2572, '이형': 2573, '끈': 2574, '별개': 2575, '물의': 2576, '토록': 2577, '들리다': 2578, '초등학생': 2579, '좌편향': 2580, '납득': 2581, '이정재': 2582, '절반': 2583, '드라이브': 2584, '애정': 2585, '실컷': 2586, '도망치다': 2587, '보임': 2588, '설': 2589, '취급': 2590, '프롬': 2591, '시골': 2592, '듯이': 2593, '내일': 2594, '본격': 2595, '다녀오다': 2596, '아예': 2597, '체험': 2598, '희망이': 2599, '연말': 2600, '걸작': 2601, '맥락': 2602, '살아오다': 2603, '부인': 2604, '조명': 2605, '역사상': 2606, '뿌리': 2607, '최고봉': 2608, '꾸미다': 2609, '구멍': 2610, '그레이': 2611, '구도': 2612, '스페인': 2613, '데뷔': 2614, '무척': 2615, '동성애': 2616, '살기': 2617, '한스': 2618, '짐머': 2619, '믿음': 2620, '불한당': 2621, '부럽다': 2622, '실체': 2623, '아무렇다': 2624, '상징': 2625, '대비': 2626, '가히': 2627, '뜬금없이': 2628, '치고는': 2629, '재산': 2630, '혹평': 2631, '막다': 2632, '레': 2633, '난잡하다': 2634, '뽕': 2635, '적극': 2636, '지내다': 2637, '누님': 2638, '졸음': 2639, '균형': 2640, '곤': 2641, '쩌': 2642, '통수': 2643, '와중': 2644, '섹시': 2645, '수단': 2646, '질서': 2647, '말아먹다': 2648, '결투': 2649, '서스펜스': 2650, '하정우': 2651, '실존': 2652, '뒤죽박죽': 2653, '싫어지다': 2654, '불안': 2655, '과도': 2656, '운': 2657, '흡입': 2658, '이여': 2659, '취': 2660, '후회되다': 2661, '내면': 2662, '껏': 2663, '시종일관': 2664, '액션연기': 2665, 'ㅠㅜ': 2666, '여름': 2667, '대상': 2668, '동생': 2669, '사과': 2670, 'ㄹㅈㄷ': 2671, '화중': 2672, '절실': 2673, '독립': 2674, '지역': 2675, '망설이다': 2676, '오로지': 2677, '만남': 2678, 'ㅜㅠ': 2679, '레인': 2680, '공격': 2681, '보호': 2682, '워낙': 2683, '알려지다': 2684, '하이': 2685, '호흡': 2686, '사람과': 2687, '극혐': 2688, '인터넷': 2689, '쏙': 2690, '성소수자': 2691, '이득': 2692, '정점': 2693, '한심하다': 2694, '지치다': 2695, '의외로': 2696, '밀정': 2697, '국산': 2698, '신의': 2699, '기독교': 2700, '자료': 2701, '럴': 2702, '헛웃음': 2703, '자아내다': 2704, '사이코패스': 2705, '푹': 2706, '퍼즐': 2707, '찰지다': 2708, '한쪽': 2709, 'ㅇ': 2710, '당선': 2711, '상업': 2712, '자식': 2713, '신도': 2714, '박정민': 2715, '소모': 2716, '레드': 2717, '다니엘': 2718, '학교': 2719, '성격': 2720, '무색': 2721, '도덕': 2722, '판매': 2723, '명화': 2724, '이라니': 2725, '듣기': 2726, '용서': 2727, '쩔다': 2728, '대가리': 2729, '진중하다': 2730, '스칼렛': 2731, '요한슨': 2732, '덮다': 2733, '조조': 2734, '주변인': 2735, '일베': 2736, '디': 2737, '좌': 2738, '이러하다': 2739, '뚜렷하다': 2740, '못자다': 2741, '전의': 2742, '촌스럽다': 2743, '명분': 2744, '죄송하다': 2745, '논': 2746, '인식': 2747, '충실하다': 2748, '욕구': 2749, '숨다': 2750, '생존': 2751, '이니까': 2752, '칼날': 2753, '와이프': 2754, '뿐이다': 2755, '빈약하다': 2756, '올라오다': 2757, '자살': 2758, '그땐': 2759, '년작': 2760, '초등학교': 2761, '살때': 2762, '반대': 2763, '권력': 2764, '가라': 2765, '선하다': 2766, '형편': 2767, '크리스탈': 2768, '개미': 2769, '마리': 2770, '자녀': 2771, '재즈': 2772, '견디다': 2773, '넌': 2774, '어머니': 2775, '헉': 2776, '필수': 2777, '해외': 2778, '움직이다': 2779, '짚다': 2780, '유럽': 2781, '안함': 2782, '지켜보다': 2783, '라지': 2784, '빌드업': 2785, '랩': 2786, '녹이다': 2787, '애절하다': 2788, '몸매': 2789, '아마': 2790, '격': 2791, '부작': 2792, '지우다': 2793, '좌익': 2794, '놀란': 2795, '깃발': 2796, '독재자': 2797, '애틋하다': 2798, '널': 2799, '타령': 2800, '전태일': 2801, '리즈': 2802, '스런': 2803, '아가씨': 2804, '교묘하다': 2805, '밀려오다': 2806, '투자자': 2807, '여정': 2808, '띠': 2809, '운전': 2810, '남여': 2811, '인권': 2812, '읍': 2813, '런닝맨': 2814, '웬만하다': 2815, '노인': 2816, '한국판': 2817, '명의': 2818, '데이': 2819, '레저': 2820, '한가지': 2821, '성장하다': 2822, '징그럽다': 2823, '일수': 2824, '풋풋하다': 2825, '공주': 2826, '조심': 2827, '중년': 2828, '박성': 2829, '구원': 2830, '스펙': 2831, '마녀': 2832, '데리': 2833, '헛': 2834, '독재정': 2835, '정이': 2836, '팽귄': 2837, '어색': 2838, '하드': 2839, '팬심': 2840, '해당': 2841, '잔인함': 2842, '혀': 2843, '카피': 2844, '선방': 2845, '공중': 2846, '시위': 2847, '천만': 2848, '대치': 2849, '음향': 2850, '맥주': 2851, '기전': 2852, '열다': 2853, '빨갛다': 2854, '시리다': 2855, '의지': 2856, '붉다': 2857, '특': 2858, '서사시': 2859, '토마스': 2860, '훌륭': 2861, '곱씹다': 2862, '폴': 2863, '찌질하다': 2864, '베이비': 2865, '드라이버': 2866, '짝퉁': 2867, '다짐': 2868, '연결하다': 2869, '덜하다': 2870, '종류': 2871, '인종': 2872, '영역': 2873, '값': 2874, '엇': 2875, '덥다': 2876, '우리말': 2877, '객': 2878, '새록새록': 2879, '왕정': 2880, '보람': 2881, '꿀': 2882, '과학': 2883, '매너': 2884, '요리': 2885, 'ㅅ': 2886, '대장': 2887, '일대기': 2888, '물건': 2889, '정답': 2890, '부부': 2891, '이대로': 2892, '블록버스터': 2893, '속지': 2894, '거르': 2895, '미쟝센': 2896, '런던': 2897, '오랫동안': 2898, '오줌': 2899, '색깔': 2900, '테이크': 2901, '본질': 2902, '카르텔': 2903, '찾아오다': 2904, '또다시': 2905, '인기': 2906, '미술': 2907, '만난': 2908, '취재': 2909, '뒷': 2910, '수사': 2911, '어물': 2912, '일생': 2913, '그네': 2914, '셋': 2915, '개구리': 2916, '오타쿠': 2917, '옆구리': 2918, '서서히': 2919, '골': 2920, '쎄다': 2921, '목': 2922, '웹': 2923, '스윙': 2924, '김건희': 2925, '매료': 2926, '던': 2927, '시네마': 2928, '이념': 2929, '인내심': 2930, '침묵': 2931, '려고': 2932, '순이': 2933, '짜이다': 2934, '이라기': 2935, '식이': 2936, '기차': 2937, '무관': 2938, '마음속': 2939, '방역': 2940, '조심하다': 2941, '녹음': 2942, '윤도현': 2943, '복': 2944, '물질': 2945, '긴박하다': 2946, '악인': 2947, '나뉘다': 2948, '영향': 2949, '가정': 2950, '활용': 2951, '지배': 2952, '아련하다': 2953, '까지도': 2954, '아래': 2955, '자랑': 2956, '몬': 2957, '전도연': 2958, '물어보다': 2959, '퇴보하다': 2960, '잔뜩': 2961, '장국영': 2962, '출신': 2963, '데리다': 2964, '관람객': 2965, '강의': 2966, '집권': 2967, '몰래': 2968, '역사왜곡': 2969, '집합': 2970, '어휴': 2971, '증말': 2972, '이만': 2973, '스며들다': 2974, '안티': 2975, '카타르': 2976, '시스': 2977, '아역배우': 2978, '서창': 2979, '내버리다': 2980, '자유롭다': 2981, '라인업': 2982, '커피': 2983, '지은': 2984, '답답': 2985, '유태인': 2986, '사상': 2987, '접근': 2988, '모순': 2989, '소통': 2990, '뉴욕': 2991, '공포물': 2992, '저급': 2993, '할배': 2994, '당당하다': 2995, '오묘하다': 2996, '이래서': 2997, '민폐': 2998, '손가락': 2999, '환자': 3000, '황당': 3001, '부디': 3002, '주기': 3003, '가만히': 3004, '후퇴': 3005, '난국': 3006, '퀴어': 3007, '수치': 3008, '에서부터': 3009, '뚝뚝': 3010, '교수': 3011, '픽션': 3012, '저승': 3013, '맺다': 3014, '풀리다': 3015, '최선': 3016, '명성': 3017, '콧물': 3018, '파격': 3019, '옴': 3020, '사서': 3021, '이따': 3022, '선의': 3023, '의외': 3024, '유선': 3025, '의상': 3026, '게리': 3027, '유해진': 3028, '화질': 3029, '천천히': 3030, '지속': 3031, '로렌스': 3032, '남자친구': 3033, '억울하다': 3034, '호': 3035, '트랜스포터': 3036, '족': 3037, '탐욕': 3038, '명대사': 3039, '잃어버리다': 3040, '뒷이야기': 3041, '맛깔나다': 3042, '비현실적': 3043, '장예모': 3044, '잡탕': 3045, '물씬': 3046, '실험': 3047, '살해': 3048, '갚다': 3049, '작전': 3050, '명확하다': 3051, '악의': 3052, '질문': 3053, '제공': 3054, '잡히다': 3055, '기어': 3056, '먹기': 3057, '무려': 3058, '해먹': 3059, '악귀': 3060, '공정': 3061, '비난': 3062, '부패': 3063, '여자친구': 3064, '안쓰럽다': 3065, '성취': 3066, '허구': 3067, '윤리': 3068, '지경': 3069, '국제': 3070, '의하다': 3071, '무당': 3072, '찬란하다': 3073, '독': 3074, '옮기다': 3075, '파이': 3076, '더맨': 3077, '세트': 3078, '김혜수': 3079, '부가': 3080, '불가능하다': 3081, '괴롭다': 3082, '바이올렛': 3083, '에버': 3084, '가든': 3085, '심쿵': 3086, '이외': 3087, '땀': 3088, '얘': 3089, '부자연스럽다': 3090, '테이큰': 3091, '두렵다': 3092, '러브': 3093, '오래되다': 3094, '으로가': 3095, '가운데': 3096, '나오니': 3097, '염원': 3098, '곡성': 3099, '학년': 3100, '진하다': 3101, '구석': 3102, '이탈리아': 3103, '행위': 3104, '곡': 3105, '빈부격차': 3106, '눈감다': 3107, '치우다': 3108, '여자애': 3109, '명복': 3110, '일찍': 3111, '하니': 3112, '마이': 3113, '화영': 3114, '블': 3115, '절묘하다': 3116, '폰': 3117, '옵니다': 3118, '끌': 3119, '일리': 3120, '춤추다': 3121, '한계': 3122, '뚫리다': 3123, '션': 3124, '타입': 3125, '은밀': 3126, '라이': 3127, '쥐': 3128, '거장': 3129, '피하': 3130, 'ㅉ': 3131, '일본인': 3132, '지우': 3133, '강릉': 3134, '여러가지': 3135, '중요성': 3136, '아치': 3137, '이라고는': 3138, '치기': 3139, '데이먼': 3140, '왓챠': 3141, '개봉일': 3142, '준영': 3143, '향수': 3144, '가의': 3145, '마약': 3146, '조금씩': 3147, '쳐다보다': 3148, '위기': 3149, '신랄하다': 3150, '박희순': 3151, '배속': 3152, '용도': 3153, '어우러지다': 3154, '서울': 3155, '선정': 3156, '자라다': 3157, '가치관': 3158, '한치': 3159, '황당하다': 3160, '핸드폰': 3161, '라스': 3162, '폭망': 3163, '크루즈': 3164, '번역': 3165, '에디': 3166, '차분하다': 3167, '누리다': 3168, '걸치다': 3169, '계획': 3170, '요가': 3171, '질리': 3172, '안남': 3173, '적도': 3174, '에다가': 3175, '댓글알바': 3176, '며칠': 3177, '벨라': 3178, '즐거움': 3179, '자매': 3180, '베트맨': 3181, '총알': 3182, '단연': 3183, '상이': 3184, '에르': 3185, '큘': 3186, '벗다': 3187, '견자단': 3188, '친근하다': 3189, '엄브릿지': 3190, '모범': 3191, '아침': 3192, '검': 3193, '거창하다': 3194, '시스템': 3195, '양심': 3196, '동기': 3197, '암튼': 3198, '각각': 3199, '얼다': 3200, '플스': 3201, '광팬': 3202, '고개': 3203, '채다': 3204, '납치': 3205, '양산': 3206, '명예': 3207, '상실': 3208, '터미네이터': 3209, '파괴': 3210, '진짜진짜': 3211, '재개': 3212, '봉하': 3213, '신카이': 3214, '마코토': 3215, '해달라다': 3216, '비틀즈': 3217, '근처': 3218, '빈틈': 3219, '만원': 3220, '극복': 3221, '더니': 3222, '한순간': 3223, '정책': 3224, '정작': 3225, '으': 3226, '부의': 3227, '짠하다': 3228, '어쩐지': 3229, '망상': 3230, '소년': 3231, '불과하다': 3232, '털': 3233, '선생님': 3234, '슈주': 3235, '산타': 3236, '성현': 3237, '박살': 3238, '털다': 3239, '너희': 3240, '비판': 3241, '총격': 3242, '다수': 3243, '추모': 3244, '루프': 3245, '끊임없다': 3246, '실천': 3247, '비참하다': 3248, '좌석': 3249, '꾼': 3250, '벅차오르다': 3251, '왤케': 3252, '댕댕': 3253, '테마': 3254, '오징어': 3255, '정상': 3256, '주도': 3257, '행': 3258, '돌이키다': 3259, '만인': 3260, '황금': 3261, '전라도': 3262, '젖다': 3263, '저격': 3264, '치우치다': 3265, '칼질': 3266, '조지': 3267, '현명하다': 3268, '여태': 3269, '치료': 3270, '권하다': 3271, '린': 3272, '하고도': 3273, '줄다': 3274, '명절': 3275, '지지도': 3276, '신작': 3277, '건달': 3278, '학창시절': 3279, '절망': 3280, '전율': 3281, '과잉': 3282, '선진국': 3283, '자빠지다': 3284, '텐데': 3285, '마고': 3286, '작정': 3287, '이따위': 3288, '나약하다': 3289, '독일': 3290, '거치다': 3291, '정당화': 3292, '날리다': 3293, '꺼내다': 3294, '지고': 3295, '에게나': 3296, '지긋지긋하다': 3297, '생전': 3298, '건강하다': 3299, '욕망': 3300, '간간히': 3301, '까맣다': 3302, '조화': 3303, '팩트': 3304, '경고': 3305, '업다': 3306, '소비': 3307, '해오다': 3308, '얹다': 3309, '쩐다': 3310, '셈': 3311, '고루': 3312, '넷': 3313, '극우': 3314, '리도': 3315, '무게': 3316, '뵈다': 3317, '리지': 3318, '언어': 3319, '담': 3320, '외국인': 3321, '수없이': 3322, '째다': 3323, '모양': 3324, '부산': 3325, '떡밥': 3326, '외롭다': 3327, '탐험': 3328, '하디': 3329, '쿠': 3330, '젊은이': 3331, '범죄자': 3332, '곳곳': 3333, '둘째': 3334, '대면': 3335, '영재': 3336, '겨': 3337, '이나마': 3338, '개발': 3339, '채식': 3340, '작용': 3341, '비리': 3342, '뒤틀리다': 3343, '짜지다': 3344, '추격': 3345, '망각': 3346, '라이트': 3347, '혹': 3348, '학생': 3349, '미스터': 3350, '쓰기': 3351, '흔': 3352, '스포일러': 3353, '범죄영화': 3354, '워': 3355, '당장': 3356, '걷다': 3357, '공식': 3358, '수수께끼': 3359, '풀이': 3360, '미워하다': 3361, '쩔': 3362, '재료': 3363, '대책': 3364, '용하다': 3365, '조만간': 3366, 'ㅣ': 3367, '공통점': 3368, '순삭': 3369, '쉽다': 3370, '화판': 3371, '시급하다': 3372, '이제훈': 3373, '주먹': 3374, '입증': 3375, '여유': 3376, '께서': 3377, '부활': 3378, '휴대폰': 3379, '더욱더': 3380, '뿌리다': 3381, '은유': 3382, '간절하다': 3383, '되돌아보다': 3384, '빚': 3385, '러브스토리': 3386, '그려지다': 3387, '저기': 3388, '목록': 3389, '가수': 3390, '취해': 3391, '고등학생': 3392, '영화배우': 3393, '제사': 3394, '인간관계': 3395, '구현': 3396, '스푼': 3397, '난리': 3398, '대대': 3399, '젠더': 3400, '왜인': 3401, '희극': 3402, '반응': 3403, '서서': 3404, '포와르': 3405, '간지나다': 3406, '이랑은': 3407, '볼땐': 3408, '불행하다': 3409, '가져오다': 3410, '유의': 3411, '개별': 3412, '곱다': 3413, '닥터': 3414, '옥': 3415, '플러스': 3416, 'ㅅㄱ': 3417, '라기': 3418, '테': 3419, '소품': 3420, '초기': 3421, '떨어뜨리다': 3422, '대들다': 3423, '악몽': 3424, '몰려오다': 3425, '텅빈': 3426, '서글프다': 3427, '저리다': 3428, '비로소': 3429, '매트릭스': 3430, '트릴로지': 3431, '손해': 3432, '골든': 3433, '아날로그': 3434, '유람선': 3435, '때매': 3436, '피날레': 3437, '겁': 3438, '안고': 3439, '유도': 3440, '허상': 3441, '인문': 3442, '꺼': 3443, '뚫다': 3444, 'ㅉㅉ': 3445, '범의': 3446, '끝내기': 3447, '매끈하다': 3448, '개망작임': 3449, '파헤치다': 3450, '다다': 3451, '미장센': 3452, '겹': 3453, '비급': 3454, '도움': 3455, '이동해': 3456, '가요': 3457, '랄프': 3458, '윤두환': 3459, '밟다': 3460, '미로': 3461, '우애': 3462, '닭': 3463, '듬': 3464, '수염': 3465, '미겔': 3466, '지하철': 3467, '덴젤': 3468, '코인': 3469, '재능': 3470, '실현': 3471, '감수성': 3472, '슴': 3473, '또봇': 3474, '사로자다': 3475, '포스': 3476, '전용': 3477, '구분': 3478, '키스신': 3479, '예상외': 3480, '없애다': 3481, '헷갈리다': 3482, '세우다': 3483, '아리다': 3484, '멋': 3485, '방송': 3486, '에가': 3487, '전해지다': 3488, '구수하다': 3489, '킬': 3490, '보듬다': 3491, '꼬': 3492, '신비': 3493, '아아': 3494, '수의': 3495, '유시민': 3496, '결제': 3497, '구리다': 3498, '비중': 3499, '경계': 3500, '멀어지다': 3501, '재단': 3502, '상의': 3503, '듄': 3504, '스타워즈': 3505, '단편': 3506, '어르신': 3507, '에나': 3508, '플리': 3509, '주식': 3510, '평작': 3511, '클라이맥스': 3512, '중국영화': 3513, '최대한': 3514, '객관': 3515, '모름': 3516, '패션': 3517, '독립영화': 3518, '왠': 3519, '요시': 3520, '료': 3521, '노랗다': 3522, '사토루': 3523, '학': 3524, '윈슬렛': 3525, '뒤지다': 3526, '더더': 3527, '사이트': 3528, '튀어나오다': 3529, '최대': 3530, '당분간': 3531, '달리기': 3532, '물리다': 3533, '인즈': 3534, '박중훈': 3535, '슈트': 3536, '장구': 3537, '진행형': 3538, '신발': 3539, '루미': 3540, '맛집': 3541, '였음': 3542, '카체이싱': 3543, '클리': 3544, '안감': 3545, '주입': 3546, '패': 3547, '확신': 3548, '어가': 3549, '것임': 3550, '쫒다': 3551, '잔치': 3552, '그이': 3553, '엿보다': 3554, '화해': 3555, '아부지': 3556, '신화': 3557, '유덕화': 3558, '이예': 3559, '브로맨스': 3560, '투성이': 3561, '제이': 3562, '기리': 3563, '다나': 3564, '무미건조하다': 3565, '연성': 3566, '남고': 3567, '병원': 3568, '잉': 3569, '성경': 3570, '고백': 3571, '파일': 3572, '대변': 3573, '팀': 3574, '영화리뷰': 3575, '빼놓다': 3576, '싸하다': 3577, '왕자': 3578, '덜다': 3579, '확장': 3580, '뒷받침': 3581, '짝': 3582, '일텐데': 3583, '능가': 3584, '코메디': 3585, '놀리다': 3586, '입히다': 3587, '구로': 3588, '낼': 3589, '헐다': 3590, '배려': 3591, '들어주다': 3592, '요나': 3593, '스토커': 3594, '차승원': 3595, '주씨': 3596, '축하': 3597, '도곡': 3598, '에라도': 3599, '자마자': 3600, '측면': 3601, '깨어나다': 3602, '제니퍼': 3603, '밖에는': 3604, '무죄': 3605, '칭송': 3606, '누르다': 3607, '간신히': 3608, '냉정하다': 3609, '기생충': 3610, '노리다': 3611, '치정': 3612, '전문': 3613, '이시이': 3614, '마루타': 3615, '맥아더': 3616, '조건': 3617, 'ㄱ': 3618, '이래': 3619, '배트맨': 3620, '수행': 3621, '추상': 3622, '불안감': 3623, '합치다': 3624, '자신감': 3625, '얽히다': 3626, '버': 3627, '무리다': 3628, '대출': 3629, '괴롭히다': 3630, '택': 3631, '최후': 3632, '구려': 3633, '부터가': 3634, '히트': 3635, '분노하다': 3636, '리가': 3637, '안일하다': 3638, '명품': 3639, '설리': 3640, '불안하다': 3641, '무니': 3642, '한정': 3643, '레알': 3644, '다가가다': 3645, '자동': 3646, '감기': 3647, '손발': 3648, '동원': 3649, '수호': 3650, 'ㅆ': 3651, '육체': 3652, '아바타': 3653, '스치다': 3654, '전적': 3655, '실사': 3656, '다한': 3657, '각도': 3658, '사투': 3659, '안녕': 3660, '구축': 3661, '배꼽': 3662, '풍기다': 3663, '디지다': 3664, '죽여주다': 3665, '주네': 3666, '익숙': 3667, '멸망': 3668, '쓰레기통': 3669, '몬스터': 3670, '나로': 3671, '이병헌': 3672, '가르다': 3673, '본성': 3674, '멀리': 3675, '당첨': 3676, '사막': 3677, '화의': 3678, '찡하다': 3679, '광광': 3680, '공존': 3681, '규정': 3682, '밸런스': 3683, '고스트': 3684, '버스터': 3685, '소신': 3686, '다미': 3687, '쌍욕': 3688, '미스': 3689, '변호사': 3690, '일부': 3691, '만을': 3692, '탱': 3693, '부담스럽다': 3694, '짱개': 3695, '움직임': 3696, '골고루': 3697, '직관': 3698, '매국노': 3699, '뺏다': 3700, '놔두다': 3701, '빈': 3702, '팅': 3703, '강원도': 3704, '우와': 3705, '넘사벽': 3706, '좁다': 3707, '피자': 3708, '왕가위': 3709, '이참': 3710, '무방': 3711, '오금': 3712, '쥐다': 3713, '공산당': 3714, '모처럼': 3715, '감옥': 3716, '섭외': 3717, '전무후무': 3718, '지도자': 3719, '이브': 3720, '리스': 3721, '극치': 3722, '상임': 3723, '동네': 3724, '태도': 3725, '알라': 3726, '끝없다': 3727, '투캅스': 3728, '티나': 3729, '툼레이더': 3730, '뜸': 3731, '도무지': 3732, '드림': 3733, '헤어지다': 3734, '틴': 3735, '몇개': 3736, '우롱': 3737, '애가': 3738, '지독하다': 3739, '김윤석': 3740, '승부': 3741, '국적': 3742, '조아하다': 3743, '틀어놓다': 3744, '주성치': 3745, '공작': 3746, '똑똑하다': 3747, '엑': 3748, '그다지': 3749, '단지': 3750, '어깨': 3751, '괜츈': 3752, '얼렁뚱땅': 3753, '년후': 3754, '전문가': 3755, '컷': 3756, '원제': 3757, 'ㅈㄹ': 3758, '분과': 3759, '후원': 3760, '막상': 3761, '비용': 3762, '순애보': 3763, '전파': 3764, '신부': 3765, '형태': 3766, '중독': 3767, '등록': 3768, '최소': 3769, '유미': 3770, '고수': 3771, '봣는데': 3772, '대서': 3773, '수박': 3774, '핥다': 3775, '가문': 3776, '낯선': 3777, '위험': 3778, '깡패': 3779, '웃픈': 3780, '장식': 3781, '세르': 3782, '슬래셔': 3783, '정화': 3784, '한동안': 3785, '시험': 3786, '해드리다': 3787, '날짜': 3788, '요기': 3789, '만지다': 3790, '제기': 3791, '심정': 3792, '엔드게임': 3793, '그치다': 3794, '사도': 3795, '만년': 3796, '만화영화': 3797, '징글징글': 3798, '낯설다': 3799, '무술': 3800, '더디다': 3801, '문익환': 3802, '선배': 3803, '서클': 3804, '여론': 3805, '둘리': 3806, '통틀어': 3807, '스톤': 3808, '충족': 3809, '승객': 3810, '먹음': 3811, '기념': 3812, '공동체': 3813, '집다': 3814, '배드': 3815, '코엑스': 3816, '망가지다': 3817, '앞뒤': 3818, '성룡': 3819, '새삼': 3820, '증명': 3821, '생애': 3822, '보이스': 3823, '총리': 3824, '치하': 3825, '제품': 3826, '어벤져스': 3827, '이별': 3828, '풍부하다': 3829, '신세계': 3830, '스나이더': 3831, '기획': 3832, '만드': 3833, '틀림없다': 3834, '귀신': 3835, '사태': 3836, '슨': 3837, '스파이더': 3838, '제이콥': 3839, '키스': 3840, '싹': 3841, '놀': 3842, '장수': 3843, '열광하다': 3844, '소환': 3845, '상과': 3846, '달콤': 3847, '감초': 3848, '뽕짝': 3849, '스파이': 3850, '똑같이': 3851, '추구': 3852, '애로': 3853, '멀티': 3854, '요정': 3855, '어의': 3856, '떡': 3857, '각종': 3858, '저절로': 3859, '재밋다': 3860, '업': 3861, '체포': 3862, '참나': 3863, '메이': 3864, '실소': 3865, '그릇': 3866, '가미': 3867, '오달수': 3868, '유입': 3869, '마구': 3870, '좆불': 3871, '레이크': 3872, '조정석': 3873, '어리숙하다': 3874, '실속': 3875, '가도': 3876, '딛다': 3877, '조정': 3878, '햇': 3879, '시시하다': 3880, '한없이': 3881, '잘봣습니': 3882, '수면제': 3883, '니깐': 3884, '비롯': 3885, '상대로': 3886, '전략': 3887, '레아': 3888, '세이': 3889, '매일': 3890, '생소하다': 3891, '할인': 3892, '만도': 3893, '로맨스영화': 3894, '졸잼': 3895, '강간': 3896, '오이구': 3897, '획기': 3898, '한겨울': 3899, '주위': 3900, '예견': 3901, '고인': 3902, '치이다': 3903, '무지': 3904, '거사': 3905, '탄성': 3906, '잠수함': 3907, '빛과': 3908, '고함': 3909, '무고': 3910, '전과': 3911, '포디': 3912, '개쩜': 3913, '괴상하다': 3914, '어리석다': 3915, '부탁드리다': 3916, '으로서의': 3917, '연하다': 3918, '메우다': 3919, '개선': 3920, '부다': 3921, '유료': 3922, '이기주의': 3923, '높아지다': 3924, '바닥': 3925, '우선': 3926, '에스티': 3927, '바치다': 3928, '거미': 3929, '횃불': 3930, '어떻': 3931, '청소년': 3932, '양조위': 3933, '캡틴': 3934, '코난': 3935, '수상': 3936, '때깔': 3937, '한결같다': 3938, '티켓': 3939, '뇌리': 3940, '전이': 3941, '연관': 3942, '보급': 3943, '깨달음': 3944, '선명하다': 3945, '나레이션': 3946, '다재': 3947, '능': 3948, '무진': 3949, '미진': 3950, '수퍼': 3951, '신고': 3952, '어디가': 3953, '개념': 3954, '맞서다': 3955, '적재적소': 3956, '나아지다': 3957, '갈수': 3958, '관통': 3959, '울분': 3960, '치솟다': 3961, '물어': 3962, '혼란': 3963, '샹치': 3964, '저희': 3965, '주저': 3966, '댐': 3967, '쌓이다': 3968, '함성': 3969, '수능': 3970, '나누다': 3971, '통한': 3972, '신랑': 3973, '향연': 3974, '근현대사': 3975, '지향': 3976, '인양': 3977, '그만하다': 3978, '사람인': 3979, '킬러': 3980, '부드럽다': 3981, '인질': 3982, '도주': 3983, '잡지': 3984, '만화책': 3985, '가드': 3986, '화장': 3987, '갑작스럽다': 3988, '흐지부지': 3989, '되살리다': 3990, '라인': 3991, '멸': 3992, '원전': 3993, '하여금': 3994, '힘겹다': 3995, '시련': 3996, '외로움': 3997, '이서': 3998, '살림': 3999, '프리퀼': 4000, '휘두르다': 4001, '하품': 4002, '쏟다': 4003, '왜케': 4004, '홍콩영화': 4005, '충분': 4006, '워킹': 4007, '저지르다': 4008, '인걸': 4009, '히틀러': 4010, '바다로': 4011, '긍정': 4012, '다잡다': 4013, '뭐해': 4014, '장애물': 4015, '보석같다': 4016, '지기': 4017, '꽃': 4018, '동정': 4019, '학원': 4020, '조선족': 4021, '한시': 4022, '장치': 4023, '테넷': 4024, '가관': 4025, '잘나다': 4026, '최강': 4027, '낭비하다': 4028, '하고는': 4029, '자의식': 4030, '민족': 4031, '경제': 4032, '가버리다': 4033, '장애인': 4034, '거지같다': 4035, '교회': 4036, '토피아': 4037, '영남': 4038, '불리다': 4039, '헬기': 4040, '정신차리다': 4041, '거짓말': 4042, '로비': 4043, '전지현': 4044, '처칠': 4045, '위주': 4046, '딥': 4047, '호쾌': 4048, '꿀잠': 4049, '명탐정': 4050, '개방': 4051, '핫': 4052, '페이스': 4053, '한참': 4054, '잘맞다': 4055, '강조': 4056, '메튜본': 4057, '케이블': 4058, '관상': 4059, '민망하다': 4060, '데이지': 4061, '보편': 4062, '가난하다': 4063, '머물다': 4064, '파란': 4065, '끝내': 4066, '띄다': 4067, '서도': 4068, '쫀쫀': 4069, '뚜': 4070, '물음': 4071, '리더': 4072, '행사': 4073, '엿': 4074, '명량': 4075, '어처구니': 4076, '쿨쿨': 4077, '치타': 4078, '포트': 4079, '간나': 4080, '빨르다': 4081, '썩다': 4082, '밧줄': 4083, '삼류': 4084, '인연': 4085, '도구': 4086, '브': 4087, '보나': 4088, '박찬욱': 4089, '그랬는데': 4090, '지저분하다': 4091, '베': 4092, '대다수': 4093, '노스': 4094, '쏠쏠하다': 4095, '페미니즘': 4096, '크리스토퍼': 4097, '남북': 4098, '녀': 4099, '한개': 4100, '무간도': 4101, '아시': 4102, '출현': 4103, '줄어들다': 4104, '셜록홈즈': 4105, '쫓다': 4106, '종종': 4107, '에로영화': 4108, 'ㄱㅅ': 4109, '아웃': 4110, '갑툭튀': 4111, '기세': 4112, '베풀다': 4113, '이한열': 4114, '열사': 4115, '아무래도': 4116, '꿀잼임': 4117, '어김없이': 4118, '수입': 4119, '키드': 4120, '신안군': 4121, '식사': 4122, '건너다': 4123, '덧': 4124, '윌': 4125, '검다': 4126, '징': 4127, '송중기': 4128, '가다가': 4129, '매치': 4130, '전세': 4131, '다듬다': 4132, '노무현': 4133, '발성': 4134, '비쥬': 4135, '든지': 4136, '탄압': 4137, '탁재훈': 4138, '코드네임': 4139, '분노의질주': 4140, '짙다': 4141, '짐승': 4142, '신인': 4143, '회수': 4144, '주목': 4145, '몬스터헌터': 4146, '특별': 4147, '마음껏': 4148, '전진': 4149, '수상한': 4150, '조사': 4151, '라며': 4152, '르': 4153, '거미줄': 4154, '콘서트': 4155, '다드': 4156, '법정': 4157, '활': 4158, '딕': 4159, '단조롭다': 4160, '사기꾼': 4161, '구만': 4162, '피곤하다': 4163, '누리': 4164, '투쟁': 4165, '재밋었어': 4166, '뭉': 4167, '고스': 4168, '조아': 4169, '졸리': 4170, '라라': 4171, '흉내내': 4172, '자격': 4173, '올바르다': 4174, '랜드': 4175, '불면증': 4176, '최상급': 4177, '십': 4178, '마스크': 4179, '부재': 4180, '더치': 4181, '라스트': 4182, '사이먼': 4183, '이요': 4184, '메타': 4185, '여론조사': 4186, '빼': 4187, '보안': 4188, '출전': 4189, '쭉': 4190, '하필': 4191, '유명배우': 4192, '드리프트': 4193, '요약': 4194, '영드': 4195, '올드': 4196, '자아': 4197, '심은경': 4198, '안정': 4199, '기한': 4200, '역풍': 4201, '불면': 4202, '껍데기': 4203, '도와주다': 4204, '대륙': 4205, '존슨': 4206, '사기영화': 4207, '해방': 4208, '공산주의': 4209, '예고': 4210, '미약': 4211, '하리': 4212, '인사': 4213, '선샤인': 4214, '스턴': 4215, '유추': 4216, '로프': 4217, '마구잡이': 4218, '올레': 4219, '장가': 4220, '볼걸': 4221, '이구': 4222, '숲속': 4223, '신데렐라': 4224, '가능성': 4225, '벼락': 4226, '뜻밖': 4227, '별루': 4228, '의향': 4229, '십자가': 4230, '회개': 4231, '혈중': 4232, '알콜': 4233, '농도': 4234, '무장': 4235, '자존심': 4236, '정치체제': 4237, '어메이징': 4238, '좌절': 4239, '감점': 4240, '헤엄': 4241, '올려놓다': 4242, '주차': 4243, '재주': 4244, '두르다': 4245, '페': 4246, '기물': 4247, '잘쓰다': 4248, '띄우다': 4249, '고통스럽다': 4250, '상속': 4251, '평이하다': 4252, '심오하다': 4253, '인셉션': 4254, '나란하다': 4255, '차기작': 4256, '처자': 4257, '마눌': 4258, '샬라메': 4259, '스티븐': 4260, '로우': 4261, '헤어스타일': 4262, '공연': 4263, '일자리': 4264, '분해': 4265, '물가': 4266, '상승': 4267, '독자': 4268, '신지': 4269, '아따': 4270, '르포': 4271, '명인': 4272, '최적화': 4273, '밍': 4274, '하든': 4275, '변성': 4276, '현이': 4277, '어찌나': 4278, '둥': 4279, '해리': 4280, '질렌할': 4281, '의의': 4282, '환하다': 4283, '신중하다': 4284, '확확': 4285, '면적': 4286, '산다': 4287, '짤': 4288, '수용': 4289, '루시': 4290, '입문': 4291, '분투': 4292, '기기': 4293, '만큼의': 4294, '뉴': 4295, '큰일': 4296, '홍': 4297, '경과': 4298, '쌍': 4299, '대견하다': 4300, '알맹이': 4301, '현대인': 4302, '착오': 4303, '결재': 4304, '이혼': 4305, '엽기': 4306, '쇼킹': 4307, '생기': 4308, '퀼리티': 4309, '지니다': 4310, '콜린': 4311, '퍼스': 4312, '쉬': 4313, '거꾸로': 4314, '괴리감': 4315, '윤회': 4316, '커다랗다': 4317, '멋대로': 4318, '이어폰': 4319, '성별': 4320, '가격': 4321, '무리하다': 4322, '회상': 4323, '대략': 4324, '따로': 4325, '영화음악': 4326, '흘러나오다': 4327, '몽글몽글': 4328, '나전': 4329, '에바': 4330, '또또': 4331, '케어': 4332, '노벨상': 4333, '분하다': 4334, '건아': 4335, '공산': 4336, '떡하니': 4337, '용인': 4338, '오리': 4339, '스릴러물': 4340, '미달': 4341, '재밋는': 4342, '클럽': 4343, '힘내다': 4344, '휴먼': 4345, '원도': 4346, '로라': 4347, '박물관': 4348, '나사': 4349, '나와라': 4350, '자하': 4351, '영화사': 4352, '죽지': 4353, '고작': 4354, '장악': 4355, '짱구': 4356, '건드리다': 4357, 'ㅇㅇㅇㅇ': 4358, '깨달': 4359, '눕다': 4360, '발악': 4361, '추악하다': 4362, '발휘': 4363, '패밀리맨': 4364, '작곡가': 4365, '전자': 4366, '후자': 4367, '궁금': 4368, '잉글리쉬': 4369, '페이': 4370, '셀프': 4371, '기소': 4372, '맥과이어': 4373, '클린': 4374, '전차': 4375, '이명박': 4376, '엔딩씬': 4377, '공리': 4378, '거임': 4379, '우물': 4380, '눈물샘': 4381, '절': 4382, '개꿀': 4383, '시카고': 4384, '친척': 4385, '제보': 4386, '황홀하다': 4387, '쾌속': 4388, '롤러코스터': 4389, '상봉': 4390, '박원순': 4391, '노년': 4392, '냉철하다': 4393, '의대': 4394, '값지다': 4395, '어쩌라고': 4396, '홀렌드': 4397, '급격하다': 4398, '도감': 4399, '현금': 4400, '스무': 4401, '인력': 4402, '홧팅': 4403, '댸니쇼': 4404, '방기': 4405, '파이다': 4406, '막대': 4407, '원조': 4408, '컷신': 4409, '장용': 4410, '컨텐츠': 4411, '유교': 4412, '틱': 4413, '출발': 4414, '봉준호': 4415, '밨': 4416, '룰': 4417, '넘겨주다': 4418, '나홍진': 4419, '박보영': 4420, '윤혁': 4421, '에그': 4422, '진국': 4423, '시리': 4424, '철저하다': 4425, '반함': 4426, '리즈시절': 4427, '대여': 4428, '수만': 4429, '올려주다': 4430, '왜봐': 4431, '날조': 4432, '외출': 4433, '게더': 4434, '배달': 4435, '트롤': 4436, '속상하다': 4437, '량': 4438, '커리어': 4439, '안습': 4440, '나불대다': 4441, '특색': 4442, '고자': 4443, '참상': 4444, '만능': 4445, '불필요하다': 4446, '반군': 4447, '잡혀가다': 4448, '왕좌': 4449, '모레': 4450, '도로': 4451, '하나요': 4452, '가물가물': 4453, '대도': 4454, '경상도': 4455, '국가대표': 4456, '진동': 4457, '주유소': 4458, '맑다': 4459, '저음': 4460, '절정': 4461, '미아': 4462, '세바스찬': 4463, '반려견': 4464, '사진': 4465, '매년': 4466, '덜덜': 4467, '수컷': 4468, '틀': 4469, '톰하디': 4470, '베베': 4471, '휴지': 4472, '퐁퐁': 4473, '내미다': 4474, '연민': 4475, '대답': 4476, '굴': 4477, '스테이크': 4478, '드론': 4479, '코스프레': 4480, '타무라': 4481, '앵무새': 4482, '아비정전': 4483, '생일': 4484, '장난감': 4485, '드르륵': 4486, '탁': 4487, '고도': 4488, '자괴': 4489, '작자': 4490, '흥이': 4491, '요지경': 4492, '분출': 4493, '대낮': 4494, '매튜': 4495, '최진실': 4496, '방대하다': 4497, '무시무시하다': 4498, '무릎': 4499, '꿇다': 4500, '촌': 4501, '다라': 4502, '횡포': 4503, '힐': 4504, '굽다': 4505, '댄스': 4506, '디스': 4507, '트릭': 4508, '채피': 4509, '퍼지다': 4510, '너저분하다': 4511, '대고': 4512, '모욕': 4513, '쉐': 4514, '건만': 4515, '중점': 4516, '강말금': 4517, '담편': 4518, '놀이': 4519, '로남': 4520, '딘': 4521, '흡사하다': 4522, '블란챗': 4523, '서연': 4524, '중구': 4525, '난방': 4526, '제네시스': 4527, '미학': 4528, '능숙하다': 4529, '비기닝': 4530, '사회주의': 4531, '천하다': 4532, '대중문화': 4533, '핸들링': 4534, '좌지우지': 4535, '불어': 4536, '만큼이나': 4537, '전복': 4538, '상보': 4539, '비행': 4540, '알콜중독': 4541, '포드': 4542, '이스트': 4543, '자본주의': 4544, '병사': 4545, '양반': 4546, '사신': 4547, '한복': 4548, '인원': 4549, 'ㅋㅋㄱㅋ': 4550, '꽁': 4551, '종일': 4552, '일부분': 4553, '쓴다': 4554, '이상하': 4555, '래미': 4556, '서양인': 4557, '아이디어': 4558, '창의': 4559, '이틀': 4560, '오류': 4561, '드라마틱': 4562, '연초': 4563, '범위': 4564, '통장': 4565, '그러면': 4566, '멀쩡하다': 4567, '중병': 4568, '무모하다': 4569, '비명': 4570, '어쩌': 4571, '힘쓰다': 4572, '치부': 4573, '튜브': 4574, '백마': 4575, '숨막히다': 4576, '아시아': 4577, '만듭': 4578, '불순': 4579, '현란하다': 4580, '본전': 4581, '개똥': 4582, '제거': 4583, '질투': 4584, '다른사람': 4585, '반면': 4586, '컬러': 4587, '아루': 4588, '영화감독': 4589, '사죄': 4590, '싸구려': 4591, '밖엔': 4592, '천만이': 4593, '다애': 4594, '고이': 4595, '포효': 4596, '리부트': 4597, '팬티': 4598, '추정': 4599, '원칙': 4600, '사오다': 4601, '잘알다': 4602, '기업가': 4603, '차인표': 4604, '바쁘다': 4605, '더러워지다': 4606, '고발': 4607, '진실되다': 4608, '적의': 4609, '싱겁다': 4610, '설레임': 4611, '경쾌하다': 4612, '딕션': 4613, '월세': 4614, '장군': 4615, '구제': 4616, '여명': 4617, '이었음': 4618, '찝찝하다': 4619, '합성': 4620, '축복': 4621, '서비스': 4622, '도나': 4623, '쟁쟁': 4624, '빌라': 4625, '마련': 4626, '대리': 4627, '화살': 4628, '죄값': 4629, '늘리다': 4630, '최대로': 4631, '조잡하다': 4632, '릭먼': 4633, '판사': 4634, '재일교포': 4635, '지지자': 4636, '거듭': 4637, '나기': 4638, '하야토': 4639, '마유': 4640, '따윈': 4641, '덕구': 4642, '나문희': 4643, '맴': 4644, '사랑받다': 4645, '찔리다': 4646, '꼭꼭': 4647, '오래도록': 4648, '에서야': 4649, '행운': 4650, '곁': 4651, '그대': 4652, '복합': 4653, '불행': 4654, '역설': 4655, '부끄러움': 4656, '차량': 4657, '고정관념': 4658, '갇히다': 4659, '불법': 4660, '대립': 4661, '공백': 4662, '인공': 4663, '앤딩': 4664, '웬': 4665, '말끔': 4666, '유사하다': 4667, '해피': 4668, '종지부': 4669, '어지간하다': 4670, '위안': 4671, '분열': 4672, '조우': 4673, '교감': 4674, '명곡': 4675, '가엽': 4676, '케루': 4677, '대물': 4678, '미녀': 4679, '맛없다': 4680, '거도': 4681, '보정': 4682, '몰이': 4683, '혼신': 4684, '휩쓸다': 4685, '찌라시': 4686, '일지': 4687, '윗': 4688, '돌이': 4689, '미스트': 4690, '넘버원': 4691, '만세': 4692, '삐': 4693, '구체': 4694, '한국사': 4695, '만판': 4696, '순위': 4697, '격인': 4698, '레온': 4699, '지스토리': 4700, '퇴색': 4701, '개도': 4702, '거른다': 4703, '김고은': 4704, '요인': 4705, '대조': 4706, '몰락하다': 4707, '통화': 4708, '시사회': 4709, '끝없이': 4710, '요란': 4711, '시내': 4712, '애꿎': 4713, '끼리끼리': 4714, '국회': 4715, '확고하다': 4716, '기쁨': 4717, '먹방': 4718, '노래방': 4719, '유부녀': 4720, '심지': 4721, '김수현': 4722, '오나라': 4723, '김희원': 4724, '정신없이': 4725, '사사건건': 4726, '박해일': 4727, '하드캐리': 4728, '여지': 4729, '의사': 4730, '주의보': 4731, '정민': 4732, '능청': 4733, '진영화': 4734, '씨앗': 4735, '배설물': 4736, '산업': 4737, '척추': 4738, '직시': 4739, '느그': 4740, '소가': 4741, '유명': 4742, '각성': 4743, '엄': 4744, '식다': 4745, '두근거리다': 4746, '활공': 4747, '대기업': 4748, '허영': 4749, '위스키': 4750, '감회': 4751, '메가박스': 4752, '내려가다': 4753, '롯데': 4754, '하여튼': 4755, '괜춘': 4756, '드하': 4757, '일가': 4758, '이불': 4759, '광활하다': 4760, '싱그럽다': 4761, '우파': 4762, '에서나': 4763, '기절': 4764, '지사': 4765, '월일': 4766, '섬뜩하다': 4767, '송신': 4768, '노답': 4769, '블레이드': 4770, '부딪히다': 4771, '발자취': 4772, '타고나다': 4773, '문명': 4774, '결단': 4775, '김치': 4776, '유치뽕': 4777, '공효진': 4778, '소년만화': 4779, '체고': 4780, '유가족': 4781, '규명': 4782, '장비': 4783, '로버트': 4784, '악질': 4785, '친일': 4786, '가입': 4787, '쿠데타': 4788, '말리다': 4789, '감사히': 4790, '둥이': 4791, '나위': 4792, '땡기다': 4793, '멘스': 4794, '시궁창': 4795, '배치': 4796, '낮잠': 4797, '널리': 4798, '고질': 4799, '본래': 4800, '허허': 4801, '김우빈': 4802, '화비': 4803, '오열': 4804, '세라': 4805, '미션': 4806, '쿨하다': 4807, '미숙': 4808, '천원': 4809, '대판': 4810, '로랑': 4811, '딴': 4812, '결심': 4813, '개취': 4814, '에여': 4815, '여요': 4816, '안달': 4817, '버겁다': 4818, '남동생': 4819, '성차별': 4820, '꼰대': 4821, '직진': 4822, '훈남': 4823, '적합': 4824, '첩': 4825, '보전': 4826, '구형': 4827, '안녕하다': 4828, '제조': 4829, '검열': 4830, '꽃길': 4831, '장난없다': 4832, '뼈': 4833, '마셈': 4834, '천주교': 4835, '엮': 4836, '쓰리다': 4837, '몰리': 4838, '모험물': 4839, '퀸': 4840, '잼남': 4841, '아르': 4842, '동영상': 4843, '화란': 4844, '몰리다': 4845, '선악': 4846, '혼탁': 4847, '고뇌': 4848, '허세': 4849, '금전': 4850, '맴돈다': 4851, '한석규': 4852, '진창': 4853, '깔리다': 4854, '티스': 4855, '특이': 4856, '따돌리다': 4857, '경쟁': 4858, '예술가': 4859, '예민하다': 4860, '뭐임': 4861, '긴박': 4862, '박용우': 4863, '공해': 4864, '판다': 4865, '싸이코': 4866, '모가디슈': 4867, '베이스': 4868, '향후': 4869, '헤어': 4870, '견줄만': 4871, '한구석': 4872, '잘살다': 4873, '촉촉하다': 4874, '중국말': 4875, '중국인': 4876, '극찬': 4877, '실마리': 4878, '상큼': 4879, '쥬리': 4880, '약속': 4881, '미세하다': 4882, '잣': 4883, '부작용': 4884, '므': 4885, '부도': 4886, '이슈': 4887, '건조하다': 4888, '군부': 4889, '꼬이다': 4890, '사이코': 4891, '흑형': 4892, '에이전트': 4893, '종말': 4894, '도하': 4895, '돼지': 4896, '화제': 4897, '골짜기': 4898, '커밍': 4899, '음주': 4900, '하마터면': 4901, '대형': 4902, '연장': 4903, '멀티버스': 4904, '이쯤': 4905, '안질리다': 4906, '염': 4907, '꼼꼼하다': 4908, '대통': 4909, '무책임하다': 4910, '충돌': 4911, '환불': 4912, '우월': 4913, '잡아가다': 4914, '익살스럽다': 4915, '기업': 4916, '말기': 4917, '채널': 4918, '개월': 4919, '안토니오': 4920, '허망': 4921, '선보이다': 4922, '강박': 4923, '삼촌': 4924, 'ㄴ': 4925, '바퀴': 4926, '질리다': 4927, '시신': 4928, '사항': 4929, '무취': 4930, '인륜': 4931, '환': 4932, '일제': 4933, '부채': 4934, '절규': 4935, '심야': 4936, '콜': 4937, '만치': 4938, '신속': 4939, '구출': 4940, '매트': 4941, '고무': 4942, '공장': 4943, '인스타': 4944, '진기하다': 4945, '마법': 4946, '킴': 4947, '그리움': 4948, '한탄': 4949, '자칫': 4950, '부각': 4951, '맙시': 4952, '타도': 4953, '유물': 4954, '어케': 4955, '쉣': 4956, '빙': 4957, '링': 4958, '낙하산': 4959, '절벽': 4960, '고르다': 4961, '찌푸리다': 4962, '시끄럽다': 4963, '청소': 4964, '자제': 4965, '낚시': 4966, '재방': 4967, '예능': 4968, '보이스피싱': 4969, '고갈': 4970, '댓': 4971, '방치': 4972, '대요': 4973, '라이언': 4974, '옹이': 4975, '불러일으키다': 4976, '내려놓다': 4977, '밴드': 4978, '하임': 4979, '불꽃': 4980, '컬처': 4981, '쌉싸름하다': 4982, '즉흥': 4983, '관광': 4984, '분동': 4985, '줄리': 4986, '지후': 4987, '난해': 4988, '사의': 4989, '파장': 4990, '어마': 4991, '익사': 4992, '어른스럽다': 4993, '깨문': 4994, '흡사': 4995, '역량': 4996, '지침': 4997, '우웩': 4998, '귀찮다': 4999, '정돈': 5000, '책임': 5001, '부유하다': 5002, '동창회': 5003, '과대': 5004, '리넷': 5005, '원더우먼': 5006, '여객선': 5007, '초청': 5008, '일어난다': 5009, '뱃': 5010, '꼬옥': 5011, '주체': 5012, '와이': 5013, '방이': 5014, '좇으': 5015, '추앙': 5016, '사정봉': 5017, '오토바이': 5018, '애국': 5019, '배신자': 5020, '미흡하다': 5021, '동료': 5022, '쿵푸팬더': 5023, '디즈니랜드': 5024, '낙관': 5025, '성찰': 5026, '렉': 5027, 'ㅁㅊ': 5028, '조장': 5029, '잠도': 5030, '저녁': 5031, '출품': 5032, '하트': 5033, '폭로': 5034, '조승우': 5035, '여동생': 5036, '크루': 5037, '발판': 5038, '팬서비스': 5039, '진상': 5040, '때때로': 5041, '생얼': 5042, '아려': 5043, '아마도': 5044, '평범': 5045, '섹슈얼': 5046, '훈훈하다': 5047, '씬들': 5048, '툭툭': 5049, '복싱': 5050, '불평': 5051, '반쪽': 5052, '하루하루': 5053, '패기': 5054, '다분하다': 5055, '앗': 5056, '경의': 5057, '하나님': 5058, '소녀시대': 5059, '비웃다': 5060, '정혜인': 5061, '즙': 5062, '어서': 5063, '콜라보': 5064, '빗대다': 5065, '모함': 5066, '개재': 5067, '밋음': 5068, '큐': 5069, '가방': 5070, '추격자': 5071, '욕먹다': 5072, '갈구다': 5073, '궁': 5074, '시야': 5075, '되풀이': 5076, '폭탄': 5077, '리스트': 5078, '뺨': 5079, '동질감': 5080, '요하': 5081, '교환': 5082, '닳다': 5083, '유체이탈': 5084, '주장': 5085, '핵심': 5086, '런닝': 5087, '세심': 5088, '또는': 5089, '도르다': 5090, '최초': 5091, '달러': 5092, '마당': 5093, '쵝오': 5094, '최소한': 5095, '킬림': 5096, '반려동물': 5097, '테슬라': 5098, '모티브': 5099, '대성공': 5100, '꼽히다': 5101, '영광': 5102, '음악감독': 5103, '따라서': 5104, '에다': 5105, '꽂다': 5106, '육아': 5107, '출산': 5108, '의무': 5109, '님들': 5110, '내기': 5111, '복종': 5112, '원숭이': 5113, '쯧쯧': 5114, '삼가다': 5115, '닝': 5116, '무료': 5117, '잼민': 5118, '티빙': 5119, '물속': 5120, '경악': 5121, '금치': 5122, '길거리': 5123, '행인': 5124, '경찰서': 5125, '앜': 5126, '망치': 5127, '은희': 5128, '페드로': 5129, '번개': 5130, '산산조각': 5131, '브라이언': 5132, '싱어': 5133, '교차': 5134, '씹다': 5135, '돕다': 5136, '민': 5137, '치매': 5138, '착각': 5139, '몹시': 5140, '졸이다': 5141, '이오': 5142, '빵터지다': 5143, '봣음': 5144, '더러': 5145, '청': 5146, '유머러스하다': 5147, '다그치다': 5148, '무사하다': 5149, '엑스': 5150, '데이빗': 5151, '때로는': 5152, '점검': 5153, '드립': 5154, '승화': 5155, '산드라': 5156, '언터처블': 5157, '따지다': 5158, '오스카': 5159, '야말로': 5160, '피어스': 5161, '귀멸': 5162, '핵대중': 5163, '임창정': 5164, '투하': 5165, '폐': 5166, '윤아': 5167, '지난날': 5168, '사르다': 5169, '참전': 5170, '언급': 5171, '사정': 5172, '웨인': 5173, '잊어버리다': 5174, '밑바닥': 5175, '로보캅': 5176, '콘스탄틴': 5177, '방지': 5178, '속히': 5179, '까지의': 5180, '장단점': 5181, '낮추다': 5182, '춥다': 5183, '쓰래': 5184, '시퀀스': 5185, 'ㄷㄷㄷ': 5186, '유사': 5187, '키라': 5188, '저능': 5189, '상치': 5190, '용산': 5191, '가슴속': 5192, '품': 5193, '외교': 5194, '첩보물': 5195, '아이언맨': 5196, '전국': 5197, '솔': 5198, '성장기': 5199, '건들': 5200, '배은': 5201, '여사': 5202, '위화': 5203, '깨우치다': 5204, '이롭다': 5205, '정칙': 5206, '정교하다': 5207, '모도': 5208, '윤석렬': 5209, '똑바로': 5210, '차리다': 5211, '개떡같다': 5212, '이맘': 5213, '부정선거': 5214, '엉뚱하다': 5215, '코앞': 5216, '살육': 5217, '인정받다': 5218, '파국': 5219, '프로메테우스': 5220, '이분': 5221, '긁다': 5222, '대체로': 5223, '미행': 5224, '무능': 5225, '여경': 5226, '서영희': 5227, '자임': 5228, '앉다': 5229, '순하다': 5230, '답지': 5231, '불호': 5232, '읭': 5233, '묶다': 5234, '독기': 5235, '패배하다': 5236, '제의': 5237, '분야': 5238, '실행': 5239, '꾸준하다': 5240, '실리': 5241, '토끼': 5242, '깜': 5243, '지지율': 5244, '치밀다': 5245, '쩝': 5246, '라디오': 5247, '에이': 5248, '차이다': 5249, '묶인': 5250, '야무지다': 5251, '숙면': 5252, '초등': 5253, '피고': 5254, '허무': 5255, '쪽팔리다': 5256, '버튼': 5257, '토로': 5258, '이뤄지다': 5259, '외치': 5260, '건네다': 5261, '다기': 5262, '카츠': 5263, '수어': 5264, '린치': 5265, '승자': 5266, '황홀경': 5267, '한텐': 5268, '시장': 5269, '번방': 5270, '하급': 5271, '소리내다': 5272, '국': 5273, '흐뭇하다': 5274, '용두사미': 5275, '무심코': 5276, '머스탱': 5277, '쉘비': 5278, '존예': 5279, '점프': 5280, '난후': 5281, '나선': 5282, '젠장': 5283, '재밌넼': 5284, '닉': 5285, '맴돌다': 5286, '스구루': 5287, '페론': 5288, '아르헨티나': 5289, '짜증스럽다': 5290, '정성': 5291, '보관': 5292, '아카데미': 5293, '부앙': 5294, '뎀': 5295, '떡칠': 5296, '최신': 5297, '미만': 5298, '권율': 5299, '한층': 5300, '저번': 5301, '바로잡다': 5302, '에야': 5303, '공약': 5304, '오직': 5305, '임시완': 5306, 'ㅓ': 5307, '명탐정코난': 5308, '한물가다': 5309, '은자': 5310, '성질': 5311, '유저': 5312, '떄': 5313, '뮤즈': 5314, '시인': 5315, '인종차별': 5316, '주의자': 5317, '훗날': 5318, '촛불시위': 5319, '무색무취': 5320, '설현': 5321, '대주': 5322, '국뽕': 5323, '독창': 5324, '모에': 5325, '속죄': 5326, '성인영화': 5327, '다지다': 5328, '진성': 5329, '공평하다': 5330, '적당': 5331, '파다': 5332, '저만': 5333, '추적': 5334, '최애영': 5335, '뒤통수': 5336, '나발': 5337, '은혜': 5338, '나무라다': 5339, '원인': 5340, '단면': 5341, '소문': 5342, '라고는': 5343, '정우': 5344, '초반씬': 5345, '작위': 5346, '응응': 5347, '사도세자': 5348, '이태리': 5349, '섹': 5350, '개입': 5351, '참으로': 5352, '연휴': 5353, '개멋': 5354, '시시': 5355, '껄렁하다': 5356, '스킵': 5357, '엔드': 5358, '타이밍': 5359, '엄지': 5360, '첨밀밀': 5361, '승인': 5362, '교장': 5363, '효율': 5364, '하차': 5365, '뭉글': 5366, '줄다리기': 5367, '초적': 5368, '붕괴': 5369, '반민정': 5370, '특선': 5371, '기울어지다': 5372, '치면': 5373, '로나': 5374, '호소': 5375, '마모루': 5376, '인증': 5377, '끼치다': 5378, '식민지': 5379, '돌려주다': 5380, '시나': 5381, '멍청이': 5382, '인터스텔라': 5383, '혐': 5384, '획일': 5385, '헛된': 5386, '조차도': 5387, '근본': 5388, '으로나': 5389, '정치성향': 5390, '김향기': 5391, '인맥': 5392, '데스': 5393, '뉘앙스': 5394, '스코트랜드': 5395, '운동권': 5396, '다분': 5397, '지름': 5398, '후련하다': 5399, '비정상': 5400, '정치권': 5401, '침몰': 5402, '다이빙벨': 5403, '행보': 5404, '화물': 5405, '아미': 5406, '해머': 5407, '맹인': 5408, '무지개': 5409, '넘어지다': 5410, '몫': 5411, '숨기': 5412, '단순': 5413, '맘껏': 5414, '공자': 5415, '기합': 5416, '듣보잡': 5417, '핀': 5418, '잖다': 5419, '뮌헨': 5420, '회담': 5421, '군인': 5422, '베리': 5423, '기저': 5424, '블랙유머': 5425, '난무': 5426, '멧': 5427, '수교': 5428, '책임지다': 5429, '서막': 5430, '쵝': 5431, '순식간': 5432, '약자': 5433, '검투사': 5434, '가필드': 5435, '한지': 5436, 'ㄴㄴ': 5437, '마타하리': 5438, '껀': 5439, '도도': 5440, '호들갑': 5441, '이순신': 5442, '저항': 5443, '존윅': 5444, '자율': 5445, '베르테르': 5446, '산이': 5447, '옥스포드': 5448, '중이': 5449, '아메리카': 5450, '발레': 5451, '류작': 5452, '두뇌': 5453, '흔적': 5454, '배다': 5455, '후유증': 5456, '아하': 5457, '끄덕': 5458, '안이': 5459, '전여친': 5460, '성원': 5461, '환생하다': 5462, '아트': 5463, '한수': 5464, '안시성': 5465, '쿠엔틴': 5466, '오라': 5467, '개간': 5468, '덩케르크': 5469, '어나': 5470, '양면': 5471, '팬픽': 5472, '트레일러': 5473, '날림': 5474, '백만': 5475, '학대': 5476, '써주다': 5477, '부탁': 5478, '덕질': 5479, '맨몸': 5480, '라든가': 5481, 'ㅛ': 5482, '누적': 5483, '개막': 5484, '오는': 5485, '자고': 5486, '윤회사상': 5487, '불사조': 5488, '기사단': 5489, '스트리밍': 5490, '저조하다': 5491, '어그': 5492, '헨리': 5493, '재밋어': 5494, '퍼스트': 5495, '진지': 5496, '조선시대': 5497, '무재': 5498, '굉음': 5499, '비싸다': 5500, '브래드': 5501, '건전': 5502, '기하': 5503, '그간': 5504, '에세': 5505, '오늘이': 5506, '편파': 5507, '평등': 5508, '맞이': 5509, '점준': 5510, '제로': 5511, '출근': 5512, '도장': 5513, '고대': 5514, '낭': 5515, '사리': 5516, '의원': 5517, '반감': 5518, '근원': 5519, '아이템': 5520, '저쩌구': 5521, '앙': 5522, '베댓': 5523, '감추다': 5524, '광구': 5525, '폐가': 5526, '러': 5527, '런': 5528, 'ㄸ': 5529, '몸짓': 5530, '대박나다': 5531, '헤드샷': 5532, '오해': 5533, '점줌': 5534, '바램': 5535, '좔좔': 5536, '벌리다': 5537, '혜성': 5538, '토니': 5539, '반지': 5540, '제왕': 5541, '생존자': 5542, '시너지': 5543, '알아듣다': 5544, '역쉬': 5545, '낯': 5546, '파트': 5547, '자금': 5548, '옹호': 5549, '기이하다': 5550, '차이나': 5551, '트랜스포머': 5552, '까지만': 5553, '발매': 5554, '절대로': 5555, '털리다': 5556, '근성': 5557, '강요': 5558, '명불허전': 5559, '짱짱맨': 5560, '자세': 5561, '빌보드': 5562, '셜록': 5563, '끊어지다': 5564, '다투다': 5565, '도착': 5566, '목포': 5567, '관성': 5568, '그남자': 5569, '지나치다': 5570, '베스': 5571, '증오': 5572, '장학우': 5573, '광둥어': 5574, '도일': 5575, '민심': 5576, '텍사스': 5577, '민감하다': 5578, '앵글': 5579, '닥치다': 5580, '흑역사': 5581, '질감': 5582, '정통': 5583, '즐': 5584, '회로': 5585, '섹스': 5586, '불문': 5587, '풀': 5588, '피식': 5589, '엘레나': 5590, '이라든지': 5591, '박소': 5592, '벌': 5593, '에마': 5594, '갱스터': 5595, '눈높이': 5596, '더군다나': 5597, '일임': 5598, '초라하다': 5599, '귀하다': 5600, '주관': 5601, '계정': 5602, '턱': 5603, '광대': 5604, '대학생': 5605, '창고': 5606, '일인': 5607, '중뽕': 5608, '고등학교': 5609, '네이션': 5610, '흔들다': 5611, '폭등': 5612, '심화': 5613, '출산율': 5614, '퍼주': 5615, '대북': 5616, '미사일': 5617, '발사': 5618, '드레이크': 5619, '혼돈': 5620, '국면': 5621, '품격': 5622, '끼우다': 5623, '오늘날': 5624, '최상': 5625, '판치다': 5626, '눈부시다': 5627, '시사': 5628, '박신혜': 5629, '시종': 5630, '오정세': 5631, '비율': 5632, '파리': 5633, '공간': 5634, '어쨌든': 5635, '얘길': 5636, '취할': 5637, '맥시멈': 5638, '까지가': 5639, '그딴': 5640, '암살': 5641, '트레인': 5642, '레지던트이블': 5643, '자영': 5644, '업자': 5645, '통일': 5646, '대명사': 5647, '검토': 5648, '짓거리': 5649, '꼬리': 5650, '힌트': 5651, '바란': 5652, '검증': 5653, '발짝': 5654, '유재석': 5655, '유령': 5656, '스멀스멀': 5657, '급전': 5658, '대학교': 5659, '오케스트라': 5660, '기유': 5661, '헌': 5662, '곁들이다': 5663, '국정원': 5664, '터전': 5665, '미지': 5666, '지적장애': 5667, '크리스틴': 5668, '스튜어트': 5669, '오타': 5670, '캬': 5671, '지식인': 5672, '숙이다': 5673, '진영': 5674, '정해진': 5675, '닛츠': 5676, '눈밭': 5677, '한판': 5678, '멘트': 5679, '동굴': 5680, '배우자': 5681, '가후': 5682, '분간': 5683, '추': 5684, '발랄하다': 5685, '이분법': 5686, '이라곤': 5687, '림': 5688, '까발리다': 5689, '살이': 5690, '지하실': 5691, '유쾌': 5692, '한껏': 5693, '영화장르': 5694, '통과': 5695, '압축': 5696, '미스캐스팅': 5697, '펀치': 5698, '넘어오다': 5699, '자각': 5700, '사하나': 5701, '뛰어가다': 5702, '마초': 5703, '보가': 5704, '막스': 5705, '공기': 5706, '모성애': 5707, '톰크루즈': 5708, '런닝타임': 5709, '비례': 5710, '무협': 5711, '이호정': 5712, '대로의': 5713, '대국': 5714, '인디애나': 5715, '가기': 5716, '볼맛': 5717, '동갑': 5718, '당췌': 5719, '질병': 5720, '친언니': 5721, '장황하다': 5722, '나미': 5723, '꽃뱀': 5724, '성범죄자': 5725, '연주': 5726, '라이브': 5727, '토모': 5728, '낡다': 5729, '안젤리나': 5730, '외계인': 5731, '타이타닉': 5732, '자시다': 5733, '각인': 5734, '나열': 5735, '떼': 5736, '우기': 5737, '둘이서': 5738, '외딴': 5739, '베네딕트': 5740, '쟁취': 5741, '간첩': 5742, '지구온난화': 5743, '분도': 5744, '치닫다': 5745, '레이첼': 5746, '아담': 5747, '내적': 5748, '외우다': 5749, '부하': 5750, '눈앞': 5751, '예수님': 5752, '정수': 5753, '후딱': 5754, '드릅': 5755, '수갑': 5756, '멸치': 5757, '다사': 5758, '피겨': 5759, '낸시': 5760, '옥사나': 5761, '경기': 5762, '하딩': 5763, '김아중': 5764, '되찾다': 5765, '캐빈': 5766, '강시': 5767, '휴머니즘': 5768, '일보': 5769, '도리': 5770, '큐티': 5771, '자박': 5772, '꼼': 5773, '브래드피트': 5774, '살벌하다': 5775, '문장': 5776, '잡': 5777, '화평': 5778, '바이오하자드': 5779, '가가': 5780, '통찰': 5781, '소수': 5782, '입각': 5783, '동양': 5784, '포커스': 5785, '음식': 5786, '세루': 5787, '원픽': 5788, '블루': 5789, '신동': 5790, '어쩌지': 5791, '미성년': 5792, '후진': 5793, '탈모': 5794, '탄탄': 5795, '거치': 5796, '구루': 5797, '격전': 5798, '검심': 5799, '필터': 5800, '철수': 5801, '고려': 5802, '킨': 5803, '극한': 5804, '발발': 5805, '지노': 5806, '띠용': 5807, '블랑코': 5808, '입지': 5809, '어간': 5810, '당한': 5811, '생명체': 5812, '참사': 5813, '골다': 5814, '감미롭다': 5815, '래퍼': 5816, '성교육': 5817, '폐쇄적': 5818, 'ㅎㄷㄷ': 5819, '찰리': 5820, '조종사': 5821, '수정': 5822, '무관심': 5823, '건너': 5824, '소식': 5825, '동떨어지다': 5826, '지우학': 5827, '톡톡하다': 5828, '역사영화': 5829, '라곤': 5830, '평균': 5831, '덕인': 5832, '시트': 5833, '타이': 5834, '호위': 5835, '조니뎁': 5836, '탕': 5837, '여태껏': 5838, '사귀다': 5839, '권리': 5840, '신앙': 5841, '사춘기': 5842, '쿵덕': 5843, '공신': 5844, '외신': 5845, '았': 5846, '내뱉다': 5847, '숨쉬다': 5848, '바나': 5849, '우화': 5850, '추노': 5851, '클로즈업': 5852, '깔깔': 5853, '파시즘': 5854, '자긍심': 5855, '멧돼지': 5856, '마디': 5857, '개쩔음': 5858, '프레': 5859, '어째': 5860, '목표': 5861, '되돌아가다': 5862, '맥아담스': 5863, '성현아': 5864, '김서형': 5865, '썪': 5866, '없슴': 5867, '특수': 5868, '우상': 5869, '오랜만': 5870, '로망': 5871, '상대방': 5872, '꾀': 5873, '얼뜨기': 5874, '함대': 5875, '캔': 5876, '나이스': 5877, 'ㅎㅎㅎㅎ': 5878, '나탈리': 5879, '현시': 5880, '카오스': 5881, '보어전쟁': 5882, '보어인': 5883, '비유': 5884, '애거': 5885, '사악하다': 5886, '백퍼': 5887, '포레스트': 5888, '샴페인': 5889, '영조': 5890, '잔득': 5891, '딸아이': 5892, '숀': 5893, '젔': 5894, '쉬쉬': 5895, '샤를': 5896, '테론': 5897, '재회': 5898, '탐방': 5899, '맛깔': 5900, '노래실력': 5901, '입시': 5902, '하녀': 5903, '엮겨운': 5904, '탄식': 5905, '절로': 5906, '장본인': 5907, '쿼터': 5908, '하일': 5909, '분실물': 5910, '군자': 5911, '횡단': 5912, '헐벗': 5913, '고결하다': 5914, '탄복': 5915, '애시': 5916, '유니크': 5917, '뫼비우스': 5918, '사납다': 5919, '쑥대밭': 5920, '일제시대': 5921, '버블': 5922, '얌': 5923, '냉': 5924, '카메라맨': 5925, '돌비': 5926, '마침': 5927, '개이득': 5928, '괜춘했어': 5929, '멍하니': 5930, '에브리데이': 5931, '경력': 5932, '직인': 5933, '제작자': 5934, '까지나': 5935, '길어지다': 5936, '경향': 5937, '같다톰': 5938, '이웃': 5939, '밉살스레': 5940, '악동': 5941, '트레져': 5942, '끓이다': 5943, '음식물': 5944, '타케루': 5945, '구록': 5946, '따른': 5947, '구성은': 5948, '표방': 5949, '동물실험': 5950, '자행': 5951, 'ㅗ': 5952, '백마탄왕자': 5953, '백설공주': 5954, '대학시절': 5955, '몸조심': 5956, '스텦들': 5957, '미우다': 5958, '위성': 5959, '회전기': 5960, '호평': 5961, '사느랗다': 5962, '부러': 5963, '그리스도': 5964, '사하다': 5965, '주시': 5966, '사흘': 5967, '아멘': 5968, '저자': 5969, '대모': 5970, '렵': 5971, '나왓습니': 5972, '잼드': 5973, '택할': 5974, '학부': 5975, '법보': 5976, '군부독재': 5977, '실태': 5978, '일사이': 5979, '쭈욱': 5980, '그러기에': 5981, '사소하다': 5982, '즉': 5983, '버릇': 5984, '카테고리': 5985, '재활용': 5986, '확성기': 5987, '가죽': 5988, '벗기다': 5989, '와일드': 5990, '회귀': 5991, '이구나': 5992, '매가': 5993, '도망': 5994, '처서': 5995, '토욜': 5996, '자유시간': 5997, '허락': 5998, '컷던': 5999, '컷음': 6000, '조로': 6001, '시급': 6002, '거입': 6003, '참가': 6004, '추측': 6005, '행방': 6006, '퍼펙트': 6007, '자존감': 6008, '이케맨': 6009, '한다해': 6010, '후대': 6011, '알아채다': 6012, '페이크': 6013, '이문식': 6014, '안내상': 6015, '기주봉': 6016, '박준형': 6017, '구지': 6018, '밍좀': 6019, '이천만': 6020, '위대': 6021, '숫자': 6022, '고적': 6023, '부풀리다': 6024, '돈안': 6025, '용띠': 6026, '삼합회': 6027, '위력': 6028, '미키': 6029, '루크': 6030, '읭스러움내': 6031, '저렴하다': 6032, '셀리': 6033, '시티': 6034, '엔젤': 6035, '해안': 6036, '꼰': 6037, '주기도문': 6038, '선거권': 6039, '싱크': 6040, '백인호': 6041, '서강준': 6042, '듯음': 6043, '래서': 6044, '뽀': 6045, '샤시': 6046, '치즈인더트랩': 6047, '불가능': 6048, '오연서': 6049, '듀사': 6050, '박해진': 6051, '이시고': 6052, '벽돌': 6053, '급진': 6054, '핳': 6055, '서신애': 6056, '입양': 6057, '그레이스': 6058, '기초': 6059, '간직': 6060, '양육': 6061, '유년기': 6062, '동양인': 6063, '모성': 6064, '당위': 6065, '태양': 6066, '노을': 6067, '닫다': 6068, '화성인': 6069, '그로': 6070, '숙명': 6071, '오토': 6072, '타비': 6073, '우스': 6074, '전보': 6075, '만족도': 6076, '패륜': 6077, '승리자': 6078, '민호': 6079, '트뉴트': 6080, '뉴트': 6081, '작고': 6082, '찐득하다': 6083, '로즈메리': 6084, '이점': 6085, '마차': 6086, '드루': 6087, '이그': 6088, '마카': 6089, '금도': 6090, '증': 6091, '우두': 6092, '해괴': 6093, '틱톡': 6094, '긐': 6095, '피우지': 6096, '우아': 6097, '썰렁하다': 6098, '어금니': 6099, '여백': 6100, '예의': 6101, '바하': 6102, '멘델스존': 6103, '베르크': 6104, '영원성': 6105, '앙꼬없는': 6106, '찐빵': 6107, '오은영': 6108, '정보량': 6109, '도해': 6110, '햇음': 6111, '익숙해지다': 6112, '전부일': 6113, '수미': 6114, 'ㅉㅉㅉ': 6115, '호의': 6116, '합당': 6117, '죗값': 6118, '국장': 6119, '공정하다': 6120, '일구다': 6121, '세워지다': 6122, '생물학': 6123, '불변': 6124, '선천': 6125, '우월하다': 6126, '제작사': 6127, '짤막하다': 6128, '밀': 6129, '마상': 6130, '모트': 6131, '알러뷰': 6132, '끼어들다': 6133, '성동일': 6134, '햐': 6135, '다공': 6136, '흥남': 6137, '샤캬': 6138, '빵쩜읍': 6139, '펑프푸풍': 6140, '쪼큼': 6141, '대머리': 6142, '모닝': 6143, '생계': 6144, '보조': 6145, '뫃아진': 6146, '이음': 6147, '최익현': 6148, '바루': 6149, '개운하다': 6150, '쿠테타': 6151, '부전': 6152, '함량': 6153, '멘사': 6154, '회원': 6155, '준걸': 6156, '재밋으면': 6157, '바텐더': 6158, '칵테일': 6159, '논스톱': 6160, '어쩜그리': 6161, '롯': 6162, '램지': 6163, '도라에몽': 6164, '성수대교': 6165, '느긋하다': 6166, '드팬': 6167, '이남': 6168, '그리스': 6169, '또봄': 6170, '넹': 6171, '롤모델': 6172, '재밌쭙니': 6173, '게점': 6174, '침대': 6175, '뻘갱이들': 6176, '천박하다': 6177, '치졸': 6178, '종북': 6179, '현주소': 6180, '개역': 6181, '드라마틱하다': 6182, '평의': 6183, '굳히다': 6184, '아티스트': 6185, '이실': 6186, '션트': 6187, '푹푹': 6188, '일본만화': 6189, '직장': 6190, '민간인': 6191, '조사해': 6192, '먼지털이': 6193, '성능': 6194, '쫙': 6195, '별하나': 6196, '준애': 6197, '임청하': 6198, '장민': 6199, '뭘더': 6200, '흉터': 6201, '키보': 6202, '블랙위도우': 6203, '완내스': 6204, '박박': 6205, '레절레': 6206, '허니': 6207, 'ㄹㅇㅜㅜ': 6208, '승차': 6209, '언능': 6210, '노회찬': 6211, '촟불': 6212, '해만': 6213, '홈즈': 6214, '어우': 6215, '어거지': 6216, '핑크': 6217, '쌍피': 6218, '어댄좌': 6219, '아쀨락좌': 6220, '조각상': 6221, '감격': 6222, '합체': 6223, '이편': 6224, '레트': 6225, '강남': 6226, '아파트': 6227, '친밀하다': 6228, '주차장': 6229, '아오지': 6230, '탄광': 6231, '뿡뿡': 6232, '콜린스': 6233, '마스': 6234, '미셸': 6235, '사탕': 6236, '볼타': 6237, '형아': 6238, '에프': 6239, '토리': 6240, '주문': 6241, '박자': 6242, '환가': 6243, '앵': 6244, '먹물': 6245, '동막골': 6246, '실베스터': 6247, '스텔론': 6248, '마악': 6249, '깨나': 6250, '수사극': 6251, '뭘말': 6252, '도봉': 6253, '톰양꿍': 6254, '덕후': 6255, '김전일': 6256, '불쾌감': 6257, '키치': 6258, '야쿠자': 6259, '시가': 6260, '비탕': 6261, '얇다': 6262, '축소': 6263, '미국드라마': 6264, '정차': 6265, '사법': 6266, '이드': 6267, '리언': 6268, '머피': 6269, '토머스': 6270, '배종옥': 6271, '송옥숙': 6272, '지붕': 6273, '삼종셋트': 6274, 'ㅡㅡㅗ': 6275, '개쩔드': 6276, '최고점': 6277, '라미': 6278, '카라멜': 6279, '투어': 6280, '오디션': 6281, '에스엠': 6282, '돰': 6283, '대중성': 6284, '슨상님': 6285, '구강': 6286, '아우': 6287, '옛말': 6288, '실시간': 6289, '폐해': 6290, '라운드': 6291, '대니': 6292, '디아': 6293, '살길': 6294, '바랬다': 6295, '괴상망칙': 6296, '밸리댄스': 6297, '애왕': 6298, '도배': 6299, '북부': 6300, '휘발유': 6301, '뿜어': 6302, '휘발': 6303, '김창수': 6304, '볼뻔': 6305, '스티브': 6306, '있넼': 6307, '계승': 6308, '엽문': 6309, '금지': 6310, '울음': 6311, '공항': 6312, '뿜어내다': 6313, '띄어쓰기': 6314, '독수리': 6315, '도용': 6316, '차이점': 6317, '레디': 6318, '셔누': 6319, '오리다': 6320, '술집': 6321, '마담': 6322, '콧소리': 6323, '재곤': 6324, '혜경': 6325, '썰다': 6326, '난도': 6327, '홀리': 6328, '슅': 6329, '콩고기': 6330, '가보': 6331, '뇨': 6332, '로그인': 6333, '좀비랜드': 6334, '어정쩡하다': 6335, '야마다': 6336, '유키': 6337, '타쿠미': 6338, '볼레로': 6339, '잠기': 6340, '카드': 6341, '콜센터': 6342, '어딨다': 6343, '채권': 6344, '추심': 6345, '스펙트럼': 6346, '아비': 6347, '평면': 6348, '주욱': 6349, '번의': 6350, '인트로': 6351, '커피숍': 6352, '소음': 6353, '기울다': 6354, '축출': 6355, '치루었으': 6356, '발달': 6357, '이왕이면': 6358, '오케이': 6359, '구조': 6360, '압박': 6361, '마려운': 6362, '여당': 6363, '스피디': 6364, '전속력': 6365, '순간이동': 6366, '쌓다': 6367, '군복': 6368, '일편단심': 6369, '채닝': 6370, '테이': 6371, '텀': 6372, '말햇': 6373, '매매': 6374, '가바': 6375, '효부': 6376, '딱좋다': 6377, '포맷': 6378, '아른거리다': 6379, '옷차림': 6380, '쓰러지다': 6381, '용의자': 6382, '로미오': 6383, '줄리엣': 6384, '희곡': 6385, '배급사': 6386, '진득': 6387, '아지랑이': 6388, '불효': 6389, '가출': 6390, '붕대': 6391, '주옥': 6392, '윤승아': 6393, '윤여정': 6394, '폭죽': 6395, '재밋는건': 6396, '저쪽': 6397, '불하': 6398, '죄명': 6399, '주근깨': 6400, '번진': 6401, '마스카라': 6402, '손현주': 6403, '탄도': 6404, '리필': 6405, '기능': 6406, '코메': 6407, '디액션': 6408, '께서는': 6409, '파이널': 6410, '반올림': 6411, '찌들다': 6412, '충의': 6413, '노조': 6414, '말살': 6415, '광풍': 6416, '정설': 6417, '내추럴': 6418, '투입': 6419, '이상주의': 6420, '몰살': 6421, '재치': 6422, '돈처': 6423, '발라': 6424, '반비례': 6425, '매장': 6426, '바르셀로나': 6427, '횡행': 6428, '클린트': 6429, '우드': 6430, '국도극장': 6431, '영웅본색': 6432, '프로파간다': 6433, '머좀': 6434, '군말': 6435, '웠던': 6436, '말년': 6437, '청나라': 6438, '물증': 6439, '심증': 6440, '가정교육': 6441, '대피': 6442, '상아': 6443, '김지은': 6444, 'ㅋㄱㅋㅋ': 6445, '유후': 6446, '가루': 6447, '먼지': 6448, '이형도': 6449, '꼽습니': 6450, '악물다': 6451, '알츠하이머': 6452, '안소니': 6453, '홉킨스': 6454, '부흥': 6455, '별표': 6456, '어보': 6457, '샹각합니': 6458, '묘함': 6459, '최애캐': 6460, '곯다': 6461, '생연': 6462, '리렌': 6463, '리즘': 6464, '어느새다': 6465, '류삘': 6466, '터치': 6467, '겉멋': 6468, '조기': 6469, '은퇴': 6470, '폭스': 6471, '마티': 6472, '화색': 6473, '별루임': 6474, '마감': 6475, '허용': 6476, '내의': 6477, '컬트': 6478, '임기응변': 6479, '응변': 6480, '톰쿠르즈': 6481, '이주승': 6482, '번갈아': 6483, '지출': 6484, '국정원장': 6485, '개끼': 6486, '반미': 6487, '선생': 6488, '슈야': 6489, '이동': 6490, '피치': 6491, '소원': 6492, '이역': 6493, '엄격하다': 6494, '성정체성': 6495, '데려오다': 6496, '원고': 6497, '전남편': 6498, '까막눈': 6499, '훤하': 6500, '러샤': 6501, '폐기': 6502, '후다닥': 6503, '기보': 6504, '숙제': 6505, '시조새': 6506, '수빈': 6507, '임광수': 6508, '미이라': 6509, '훅': 6510, '구경이': 6511, '벌다': 6512, '용감하다': 6513, '주술사': 6514, '존내': 6515, '끅끅대': 6516, '안데르센': 6517, '재한': 6518, '코스튬': 6519, '길가메쉬': 6520, '관계자': 6521, '무렵': 6522, '호빗': 6523, '자비': 6524, '부부싸움': 6525, '딩': 6526, '애매모호하다': 6527, '똘망똘망': 6528, '단주': 6529, '병장': 6530, '휴가': 6531, '아루견빈': 6532, '꽝': 6533, '거참': 6534, '들르다': 6535, '타국': 6536, '왼': 6537, '부스러기': 6538, '면역': 6539, '냉동': 6540, '궁합': 6541, '조의': 6542, '단추': 6543, '말죽거리잔혹사': 6544, '삶다': 6545, '재판': 6546, '인디아': 6547, '속작': 6548, '헬조선': 6549, '랄것': 6550, '외적': 6551, '삭히다': 6552, '가라앉히다': 6553, '양치질': 6554, '헬': 6555, '서툴다': 6556, '상동': 6557, '정치용': 6558, '담대하다': 6559, '스테판': 6560, '인천공항': 6561, '없넹': 6562, '네트': 6563, '베닝': 6564, '호아킨': 6565, '닮음': 6566, '뒷골목': 6567, '레이서': 6568, '물리학': 6569, '초인': 6570, '기타': 6571, '어쨋': 6572, '선언': 6573, '펑크': 6574, '타이어': 6575, '여신': 6576, '증언': 6577, '파고들다': 6578, '가만': 6579, '값어치': 6580, '유출': 6581, '로지': 6582, '호프': 6583, '패망': 6584, '시로': 6585, '군의관': 6586, '붙잡히다': 6587, '인천': 6588, '상륙작전': 6589, '도구로': 6590, '처벌': 6591, '다크나이트': 6592, '접점': 6593, '핀트': 6594, '구체화': 6595, '버시': 6596, '귀감': 6597, '빌뇌르': 6598, '면알': 6599, '겸': 6600, '유희': 6601, '노하우': 6602, '오지랖': 6603, '섥혀': 6604, '아무렴': 6605, '풀어지다': 6606, '대입': 6607, '해답': 6608, '호랑이': 6609, '마여': 6610, '환수': 6611, '심해지다': 6612, '찍기': 6613, '신공': 6614, '찻자': 6615, '해상': 6616, '국가채무': 6617, '만찬': 6618, '물리': 6619, '반의': 6620, '화기': 6621, '장로': 6622, '플레이스테이션': 6623, '오삼': 6624, '손꼽다': 6625, '까운': 6626, '취존': 6627, '사단': 6628, '유전': 6629, '무전': 6630, '유죄': 6631, '시원': 6632, '파토': 6633, '진의': 6634, '주역': 6635, '너머': 6636, '아득하다': 6637, '열매': 6638, '기선': 6639, '전학생': 6640, '츠카사': 6641, '하세베': 6642, '친하다': 6643, '사촌': 6644, '벼움': 6645, '때론': 6646, '베켄세일': 6647, '딧': 6648, '허둥지둥': 6649, '쫓아가다': 6650, '겹처': 6651, '버려진': 6652, '이순재': 6653, '시해': 6654, '폴리네시아': 6655, '습작': 6656, '조도': 6657, '쌍둥이': 6658, '퍼트렸으': 6659, '어쩌란건': 6660, '기계': 6661, '써니': 6662, '맥용': 6663, '핑계': 6664, '대지': 6665, '모호하다': 6666, '혜수': 6667, '엉터리': 6668, '퍽': 6669, '이거지': 6670, '오감': 6671, '식도락': 6672, '그닥그': 6673, '티남': 6674, '웨': 6675, '흐미': 6676, '띵띵': 6677, '엄창록같': 6678, '질끈': 6679, '즁': 6680, '쫄깃해': 6681, '관찰자': 6682, '알레한드로': 6683, '무쌍': 6684, '돋보다': 6685, '소탕': 6686, '작동': 6687, '냉혹하다': 6688, '강대국': 6689, '주도하다': 6690, '최종': 6691, '메이트': 6692, '새드': 6693, '사만': 6694, '신천지': 6695, '응원가': 6696, '사토시': 6697, '빅뱅': 6698, '줄라': 6699, '앨범': 6700, '장인정신': 6701, '그닥걍': 6702, '지성이면': 6703, '감천': 6704, '속담': 6705, '야수': 6706, '게왜': 6707, '마키쨩': 6708, '내보내다': 6709, '측': 6710, '화파': 6711, '레오나르도': 6712, '캐나다': 6713, '설경': 6714, '물살': 6715, '떠내려가다': 6716, '회색곰': 6717, '추락': 6718, '피츠제랄드': 6719, '톰하디였': 6720, '갑판': 6721, '발버둥': 6722, '월드컵': 6723, '터키': 6724, '윤영하': 6725, '소령': 6726, '비범하다': 6727, '스타트': 6728, '잡음': 6729, '박력': 6730, '쓸리다': 6731, '로켓포': 6732, '어따': 6733, '단언컨대': 6734, '어분': 6735, '작장면': 6736, '앤': 6737, '해서웨이': 6738, '여한': 6739, '그런대로': 6740, '부마항쟁': 6741, '적응': 6742, '유형': 6743, '로더': 6744, '꽁냥꽁': 6745, '대형견': 6746, '바이오': 6747, '발렌타인': 6748, '골룸': 6749, '테이블': 6750, '레어이': 6751, '두텁다': 6752, '인의': 6753, '밀당': 6754, '한몫': 6755, '밋었': 6756, '개웃': 6757, '기네': 6758, '여주보': 6759, '수려': 6760, '년뒤': 6761, '연등': 6762, '하딘': 6763, '뭣같': 6764, '겨울방학': 6765, '예시': 6766, '참석': 6767, '이바지': 6768, '세운': 6769, '내셔널': 6770, '트레': 6771, '거울씬': 6772, '신나요': 6773, '사주다': 6774, '환장하다': 6775, '법썩': 6776, '부림': 6777, '여고생': 6778, '명연': 6779, '굿굿굿둣굿구굿': 6780, '프랑스혁명': 6781, '대등하다': 6782, '인류사': 6783, '너와나': 6784, '두고두고': 6785, '대대손손': 6786, '치루었어': 6787, '선곡': 6788, '대학로': 6789, '뒷모습': 6790, '아이스크림': 6791, '향기롭다': 6792, '얽매이다': 6793, '고딩': 6794, '우마': 6795, '프라임': 6796, '호비다': 6797, '지방': 6798, '전문대': 6799, '마흔': 6800, '볼맛나': 6801, '강동원': 6802, '옆길': 6803, '낄낄대다': 6804, '스파이디': 6805, '민시': 6806, '풍랑': 6807, '방랑': 6808, '에혀': 6809, '임순례': 6810, '유연석': 6811, '박원상': 6812, '김강현': 6813, '김원해': 6814, '숨바꼭질': 6815, '도발': 6816, '그럴듯하다': 6817, '넓이': 6818, '취하': 6819, '영활': 6820, '연습': 6821, '세련': 6822, '간미연': 6823, '매그니토': 6824, '퀵실버': 6825, '졸귀': 6826, '쩡개': 6827, '글코': 6828, '왓슴': 6829, '스폰서': 6830, '유색인종': 6831, '에로': 6832, '제물': 6833, '벌겋다': 6834, '핏물': 6835, '용광로': 6836, '철물': 6837, '뼛조각': 6838, '경배': 6839, '생수': 6840, '바꿈': 6841, '깊숙이': 6842, '미스터고': 6843, '맨하탄': 6844, '피기': 6845, 'ㅁ': 6846, '짜장': 6847, '바퀴벌레': 6848, '이야말로': 6849, '속임수': 6850, '리펜슈탈': 6851, '지표': 6852, '애니메': 6853, '능청스': 6854, '얍삽': 6855, '유호': 6856, '고마': 6857, '신기원': 6858, '유기견': 6859, '크나크다': 6860, '얼른': 6861, '무속': 6862, '동아시아': 6863, '재탕': 6864, '압축시키다': 6865, '요점': 6866, '들보': 6867, '유인원': 6868, '개피': 6869, '장서': 6870, '박스오피스': 6871, '저가': 6872, '흑백': 6873, '유니콘': 6874, '견찰': 6875, '신종': 6876, '어으': 6877, '정선경': 6878, '모유': 6879, '해안가': 6880, '외로': 6881, '은교': 6882, '유연하다': 6883, '결합': 6884, '도우': 6885, '토핑': 6886, '중경삼림': 6887, '들소리': 6888, '가혹': 6889, '맛다시': 6890, '비빔': 6891, '양념': 6892, '구관': 6893, '명관': 6894, '진리': 6895, '멍멍': 6896, '중대': 6897, '필사': 6898, '전갈': 6899, '노령': 6900, '내심': 6901, '틀어막다': 6902, '넵': 6903, '쪼': 6904, '련': 6905, '레스토랑': 6906, '포크': 6907, '간사하다': 6908, '보고서': 6909, '김판호': 6910, '공권력': 6911, '무너뜨릴': 6912, 'ㄱㄷㅅ': 6913, '전날': 6914, '과음': 6915, '일욜': 6916, '퇴진': 6917, '미처': 6918, '적확하다': 6919, '북받치다': 6920, '오소소': 6921, '무력': 6922, '연행': 6923, '푸릇푸릇': 6924, '퇴치': 6925, 'ㅅㄷㅁ': 6926, '구간': 6927, '시간여행': 6928, '탐정소설': 6929, '밤새우다': 6930, '내러티브': 6931, '만화방': 6932, '늦둥이': 6933, '보배': 6934, '서투르다': 6935, '미끄러지다': 6936, '불완전': 6937, '탈피': 6938, '으로부터': 6939, '눈요기': 6940, '민족주의': 6941, '고약하다': 6942, '땔': 6943, '에든': 6944, '휙휙': 6945, '딸뻘': 6946, '엮이': 6947, '심상정': 6948, '기아': 6949, '로고': 6950, '패틴슨': 6951, '호감': 6952, '남로당': 6953, '유신헌법': 6954, '껌': 6955, '검둥이': 6956, '처치': 6957, '함껌': 6958, '제수': 6959, '널뛰기': 6960, '밤샘': 6961, '이어진': 6962, '말듯': 6963, '부여잡다': 6964, '살라': 6965, '가식': 6966, '호탕': 6967, '싳': 6968, '복수혈전': 6969, '나영': 6970, '숨소리': 6971, '내쉬다': 6972, '임파': 6973, '형상': 6974, '혜선': 6975, '징징거리다': 6976, '침착하다': 6977, '최면': 6978, '로다': 6979, '모토로라': 6980, '레이저': 6981, '보라색': 6982, '지폐': 6983, '카페': 6984, '체리': 6985, '몰딩': 6986, '인테리어': 6987, '방울방울': 6988, '뚱뚱': 6989, '살다보면': 6990, '아보': 6991, '디다': 6992, '단역': 6993, '조음': 6994, '쓰나미': 6995, '스패': 6996, '적절': 6997, '쩡': 6998, '짬': 6999, '갓차티드': 7000, '잠자다': 7001, '유일': 7002, '고고': 7003, '만연하다': 7004, '부정부패': 7005, '고령화가족': 7006, '날쪼': 7007, '중졸': 7008, '암살자': 7009, '태생': 7010, '미련': 7011, '보대': 7012, '세종': 7013, '장영실': 7014, '고달프다': 7015, '억척스럽다': 7016, '고모': 7017, '몰랏는데': 7018, '용품': 7019, '회사원': 7020, '노빠꾸': 7021, '하여간': 7022, '만으론': 7023, '숭숭': 7024, '카체': 7025, '싱': 7026, '비엠': 7027, '랭글러': 7028, '스크린샷': 7029, '쏠쏠': 7030, '밀전': 7031, '쥐맘': 7032, '쥐약': 7033, '사료': 7034, '샬생': 7035, '욘': 7036, '분후': 7037, '벌렁대다': 7038, '정망': 7039, '특징': 7040, '열렬하다': 7041, '리하': 7042, '어슬픈': 7043, '버거운': 7044, '순교': 7045, '법칙': 7046, '친절해지다': 7047, '남겨지다': 7048, '젋': 7049, '신흥': 7050, '마이너스': 7051, '무의미': 7052, '한현민': 7053, '마는': 7054, '언행': 7055, '아이방': 7056, '속닥이다': 7057, '야기': 7058, '낚': 7059, '가련하다': 7060, '처지': 7061, '솟구치다': 7062, '말코': 7063, '비치': 7064, '하트넷': 7065, '약점': 7066, '코로': 7067, '매미': 7068, '거북이': 7069, '송운화님': 7070, '굵직하다': 7071, '다이어리': 7072, '식파': 7073, '뮬란': 7074, '손잡다': 7075, '모방': 7076, '짜릿짜릿': 7077, '점밑': 7078, '문학작품': 7079, '다양성': 7080, '상담': 7081, '소의': 7082, '맥키': 7083, '느긋느긋': 7084, '템포': 7085, '준법': 7086, '궁금증': 7087, '동수': 7088, '태석': 7089, '빠져나가다': 7090, '땡': 7091, '고래': 7092, '뱃속': 7093, '금은': 7094, '보화': 7095, '눈꼽': 7096, '만큼도': 7097, '따름': 7098, '이스라엘': 7099, '에리': 7100, '귓뱅맹': 7101, '청주': 7102, '서초동': 7103, '알아주다': 7104, '전대': 7105, '최루탄': 7106, '전초전': 7107, '초장': 7108, '지오': 7109, '레오네': 7110, '재밋고': 7111, '쩔어요': 7112, '컴백': 7113, '메리제인': 7114, '퉁퉁': 7115, '브로': 7116, '마운틴': 7117, '히스': 7118, '레져': 7119, '고후': 7120, '콜바': 7121, '피에르': 7122, '베르제': 7123, '평화롭다': 7124, '관기': 7125, '파이팅': 7126, '무뚝뚝하다': 7127, '맷': 7128, '인도': 7129, '선거운동': 7130, '서치': 7131, '니뽄풍': 7132, '허탈하다': 7133, '레고': 7134, '엑셀': 7135, '런트': 7136, '끝일': 7137, '풍요': 7138, '행복감': 7139, '류성룡': 7140, '따오밍스': 7141, '꽃보다남자': 7142, '주온': 7143, '할렘': 7144, '전래': 7145, '영적': 7146, '칸나': 7147, '뛰어다니다': 7148, '타지': 7149, '이중': 7150, '확증편향': 7151, '자위': 7152, '꽁트': 7153, '요동치다': 7154, '감당': 7155, '오로라': 7156, '연하': 7157, '놓이다': 7158, '늦봄': 7159, '만춘': 7160, '순전하다': 7161, '얼빡샷좀': 7162, '흐헝헝헝': 7163, '초불': 7164, '알포인트': 7165, '고왜': 7166, '늘어나다': 7167, '시크릿': 7168, '기가맥힌다': 7169, '하이퍼': 7170, '리얼리즘': 7171, '황인식': 7172, '합기도': 7173, '누더기': 7174, '조인성': 7175, '머싯': 7176, '끈임': 7177, '갈라치': 7178, '하고의': 7179, '밥그릇': 7180, '셈난': 7181, '미군': 7182, '재난영화': 7183, '공주고': 7184, '롤코': 7185, '용어': 7186, '쉴드': 7187, '우습다': 7188, '벌처': 7189, '대도시': 7190, '부숴': 7191, '인명': 7192, '차례': 7193, '음파': 7194, '반파': 7195, '슈퍼빌런': 7196, '가두다': 7197, '제재': 7198, '봄얘': 7199, '해안선': 7200, '김기덕': 7201, '기레기': 7202, '깡통': 7203, '중아': 7204, '만셰': 7205, '늑대인간': 7206, '모티프': 7207, '산촌': 7208, '사면': 7209, '이나라': 7210, '구점': 7211, '소감': 7212, '등짝': 7213, '시원시원': 7214, '뺑': 7215, '류류': 7216, '따갑다': 7217, '추잡하다': 7218, '광신도': 7219, '공안': 7220, '일억': 7221, '나하': 7222, '오후': 7223, '현역': 7224, '윌버그': 7225, '틈틈하다': 7226, '한드': 7227, '무안하다': 7228, '시늉': 7229, '부임': 7230, '본기': 7231, '메이커': 7232, '후짐': 7233, '오랄': 7234, '섭종해': 7235, '님의새': 7236, '핑거': 7237, '스미스': 7238, '중세': 7239, '픽사': 7240, '인사이드아웃': 7241, '소울': 7242, '아몬드': 7243, 'ㅇㅎㄹㄱ': 7244, 'ㅃㄱㅇ': 7245, '일본제국': 7246, '벌린': 7247, '잘나오다': 7248, '명성황후': 7249, '화서': 7250, '아베': 7251, '지시': 7252, '위배': 7253, '변국': 7254, '식해': 7255, '혼구녕': 7256, '내야': 7257, '얼기설기': 7258, '개무시': 7259, '동무': 7260, '초연': 7261, '몸로': 7262, '여섯': 7263, '복제': 7264, '마피아': 7265, '외곽': 7266, '운전기사': 7267, '가다듬다': 7268, '독성': 7269, '사업자': 7270, '영세': 7271, '홈피': 7272, '화학물질': 7273, '가급': 7274, '나왓으': 7275, '트럴': 7276, '에드': 7277, '유신': 7278, '반일': 7279, '고향': 7280, '자도': 7281, '로맨틱코미디': 7282, '타키': 7283, '미츠하': 7284, '사시미': 7285, '오만': 7286, '시체': 7287, '줄줄이': 7288, '수괴놈': 7289, '백만원': 7290, '맹글었노': 7291, '속국': 7292, '제이크': 7293, '내리막': 7294, '운빨': 7295, '었는지': 7296, '빰': 7297, '주궈': 7298, '칠': 7299, '밧다': 7300, '주로': 7301, '차갑다': 7302, '값싸다': 7303, '차만': 7304, '찡찡거리다': 7305, '눈살': 7306, '타투': 7307, '터팩': 7308, '개떵': 7309, '발레리나': 7310, '하므다': 7311, '실연': 7312, '다람쥐': 7313, '렁': 7314, '이빨': 7315, '대나무': 7316, '수화': 7317, '멋저': 7318, '조끼': 7319, '꼴갑': 7320, '형수': 7321, '욕설': 7322, '헤치다': 7323, '역주행': 7324, '동일하다': 7325, '범좌': 7326, '수법': 7327, '임년': 7328, '가로': 7329, '쟈움': 7330, '콜렛': 7331, '닥치고': 7332, '본방': 7333, '사수': 7334, '동강': 7335, '엇갈리다': 7336, '욕함': 7337, '기습키스': 7338, '해달': 7339, '라카': 7340, '밀다': 7341, '참모': 7342, '거땜': 7343, '칸': 7344, '대박듄': 7345, '찌개': 7346, '지네': 7347, '오래오래': 7348, '올드스쿨': 7349, '용한': 7350, '맛보다': 7351, '사뭇': 7352, '적응하다': 7353, '오광': 7354, '카판': 7355, '다우니': 7356, '주드로': 7357, '영국인': 7358, '독타': 7359, '과소': 7360, '쿠퍼': 7361, '팝': 7362, '뭣': 7363, '뜻대로': 7364, '좌충우돌': 7365, '후의': 7366, '맴도': 7367, '스럽지도': 7368, '사이비': 7369, '인마': 7370, '처단': 7371, '무어': 7372, '메릴': 7373, '스티': 7374, '립': 7375, '헹운': 7376, '에일리언': 7377, '밀덕': 7378, '곡해': 7379, '차근하다': 7380, '지적': 7381, '강제': 7382, '아웃팅': 7383, '곤지암': 7384, '불친절': 7385, '에반게리온': 7386, '신세기': 7387, '황수정': 7388, '스코틀랜드인': 7389, '꼬꼬': 7390, '무가': 7391, '일그러지다': 7392, '모형': 7393, '가왜': 7394, '민가': 7395, '괴담': 7396, '나대다': 7397, '관종': 7398, '사나이': 7399, '아름이': 7400, '람보': 7401, '미국인': 7402, '변형': 7403, '온기': 7404, '금융자본': 7405, '재밋습니': 7406, '집대성': 7407, '부잣집': 7408, '트렌디': 7409, '버프': 7410, '봤숩니': 7411, '막장드라마': 7412, '깨우침': 7413, '뵬수': 7414, '도없슴': 7415, '굴러가다': 7416, '스핑크스': 7417, '람': 7418, '전등': 7419, '유적': 7420, '구의': 7421, '리지웨이': 7422, '렌트': 7423, '유람': 7424, '사립탐정': 7425, '분가': 7426, '구름': 7427, '파멸하다': 7428, '피우다': 7429, '핀걸': 7430, '무마': 7431, '임신': 7432, '컬링': 7433, '영미': 7434, '번복': 7435, '산부인과': 7436, '난이': 7437, '음해': 7438, '이민석': 7439, '거악': 7440, '충만': 7441, '백미': 7442, '임밸류': 7443, '필모': 7444, '쫌더': 7445, '실습': 7446, '트윗': 7447, 'ㅃ': 7448, 'ㅏ': 7449, '펭수': 7450, '구리': 7451, '푸근하다': 7452, '겸비': 7453, '직위': 7454, '돌려막기': 7455, '플로리다': 7456, '프로젝트': 7457, '의성': 7458, '갓띵작': 7459, '헤헤': 7460, '우히히': 7461, '깨닭': 7462, '담보': 7463, '닜었': 7464, '잘해주다': 7465, '고문': 7466, '아씨': 7467, '라네': 7468, '스따': 7469, '김일성': 7470, '유착': 7471, '내연': 7472, '외연': 7473, '실상': 7474, '한빛': 7475, '개살구': 7476, '비포': 7477, '애프터': 7478, '개속': 7479, '화병': 7480, '닥스': 7481, '로다주': 7482, '넋': 7483, '패착': 7484, '보새': 7485, '간판': 7486, '재밋었다': 7487, '포화': 7488, '화룡': 7489, '품위': 7490, '알럽': 7491, '간지': 7492, '그러니까': 7493, '짱꼴라': 7494, '반말': 7495, '중앙시장': 7496, '니지마': 7497, '공처': 7498, '모씨': 7499, '단독': 7500, '스타크': 7501, '싸대기': 7502, '갈겨': 7503, '사생활': 7504, '답진': 7505, '배제': 7506, '초보': 7507, '비정하다': 7508, '코믹씬': 7509, '섀도우': 7510, '키즈': 7511, '올라타다': 7512, '주기도': 7513, '음뭘': 7514, '가세': 7515, '스퇄': 7516, '더록': 7517, '콘에어': 7518, '비키다': 7519, '거대': 7520, '백신': 7521, '남캐': 7522, '삐뚤어지다': 7523, '채플린': 7524, '나치': 7525, '스코필드': 7526, '진과': 7527, '육신': 7528, '깝': 7529, '우여곡절': 7530, '버민': 7531, '베놈': 7532, '지껄이다': 7533, '조력자': 7534, '갑질': 7535, '베르뎀': 7536, '민주공화국': 7537, '갱단': 7538, '해대': 7539, '배심원': 7540, '번지르르하다': 7541, '윅': 7542, '난쟁이': 7543, '자루': 7544, '괴리': 7545, '명랑만화': 7546, '마라톤': 7547, '요안': 7548, '양식': 7549, '유레카': 7550, '띠티티디': 7551, '으로써는': 7552, '첨으로': 7553, '점자': 7554, '팬덤': 7555, '윤석': 7556, '뮤': 7557, '엄태구': 7558, '고가': 7559, '우리네': 7560, '제한': 7561, '허탕': 7562, '로켓단': 7563, '천방지축': 7564, '줫던': 7565, '점줫다고해': 7566, '대물리다': 7567, '계쏙': 7568, '소국': 7569, '낭독': 7570, '사쿠라': 7571, '썩소': 7572, '띨띨한': 7573, '띨띨한거': 7574, '사제총': 7575, '기와': 7576, '띨띨하': 7577, '띨띨': 7578, '완죤': 7579, '가정사': 7580, '마무': 7581, '다양해지다': 7582, '개암': 7583, '부조화': 7584, '마르지': 7585, '낭떠러지': 7586, '자그마하다': 7587, '새싹': 7588, '덮어놓고': 7589, '곰곰': 7590, '마르': 7591, '리트': 7592, '번만': 7593, '인과관계': 7594, '삽입': 7595, '모니터링': 7596, '일영': 7597, '만날': 7598, '정령': 7599, '베를린': 7600, '습지': 7601, '악랄하다': 7602, '마젠타': 7603, '쇠': 7604, '솓': 7605, '오름': 7606, '기웃': 7607, '블룸': 7608, '보보스': 7609, '정지우': 7610, '안성기': 7611, '격리': 7612, '도둑': 7613, '염병': 7614, '마술사기단': 7615, 'ㄱㄱ': 7616, '서늘하다': 7617, '쓸쓸하다': 7618, '공상': 7619, '과학소설': 7620, '구기다': 7621, '리바운드': 7622, '덩크': 7623, '야심': 7624, '한시각': 7625, '남아돌다': 7626, '군캉스': 7627, '징징대다': 7628, '부턴': 7629, '통상': 7630, '치켜세우다': 7631, '홍금보': 7632, '원표': 7633, '트리오': 7634, '는야': 7635, '불량': 7636, '울트라맨': 7637, '나니': 7638, '미우라': 7639, '쌩얼': 7640, '무적': 7641, '흐어': 7642, '쟈': 7643, '요런': 7644, '특대': 7645, '팬데믹': 7646, '고영상': 7647, '셔터': 7648, '갓난아기': 7649, '펭': 7650, '탑인': 7651, '시장님': 7652, '활짝': 7653, '연달': 7654, '무릅쓰': 7655, '건물': 7656, '옥상': 7657, '민원': 7658, '탐정물': 7659, '경관': 7660, '어긋나다': 7661, '안주': 7662, '미션임파서블': 7663, '맥케이': 7664, '무식하다': 7665, '도미노피자': 7666, '사먹다': 7667, '배리': 7668, '방언': 7669, '셨음': 7670, '봉합': 7671, '기막히다': 7672, '아포칼립스': 7673, '컬': 7674, '랭': 7675, '대사당': 7676, '실러': 7677, '원한': 7678, '영국영화': 7679, '낚엿': 7680, '두기': 7681, '태주': 7682, '빠삐용': 7683, '도도하다': 7684, '수도승': 7685, '재밋었음': 7686, '힝': 7687, '업뗘': 7688, '뿌엥': 7689, '갠찮': 7690, '강신일': 7691, '씬스틸러': 7692, '적군': 7693, '아늑하다': 7694, '공교육': 7695, '정상화': 7696, '근육': 7697, '빙구': 7698, '그지같다': 7699, '응얼거리다': 7700, '하층': 7701, '유권자': 7702, '대외': 7703, '어쨌건': 7704, '석방': 7705, '머임': 7706, '핀처': 7707, '직설': 7708, '영화개봉': 7709, '음주운전': 7710, '꺼리다': 7711, '나락되': 7712, '소닉': 7713, '기비': 7714, '주얼': 7715, '팔마': 7716, '미국영화': 7717, '외지': 7718, '아무나': 7719, '고깃배': 7720, '해주': 7721, '자전거': 7722, '속초': 7723, '약국': 7724, '배타': 7725, '물고기': 7726, '선원': 7727, '까다롭다': 7728, '멀미': 7729, '힐러': 7730, '웽': 7731, '아누': 7732, '예토전생': 7733, '샌드맨': 7734, '치료받다': 7735, '레이미': 7736, '고유': 7737, '거품': 7738, '지금껏': 7739, '일본애니': 7740, '롬': 7741, '남극': 7742, '여행가': 7743, '떨리다': 7744, '아이고': 7745, '가오': 7746, '상위': 7747, '아니메': 7748, '군데군데': 7749, '건축학개론': 7750, '수지': 7751, '재창': 7752, '망명': 7753, '전직': 7754, '자로': 7755, '이방인': 7756, '트레이드마크': 7757, '성큼': 7758, '여행기': 7759, '참작': 7760, '배드캅': 7761, '자백': 7762, '호화롭다': 7763, '목걸이': 7764, '상자': 7765, '큼지막하다': 7766, '브루스': 7767, '콧물때문': 7768, '인중': 7769, '샷건': 7770, '안경': 7771, '자리다': 7772, '술회': 7773, '회관': 7774, '오덕': 7775, '정모': 7776, '하라': 7777, '홀덤': 7778, '달짝찌': 7779, '오마쥬': 7780, '혼종': 7781, '입담': 7782, '쟈밌어': 7783, '금연': 7784, '쫓아내다': 7785, '빡시다': 7786, '루시퍼': 7787, '구인': 7788, '김지원': 7789, '김성령': 7790, '뒤편': 7791, '어머님': 7792, '세분': 7793, '그겨울': 7794, '과감': 7795, '고블린': 7796, '웃겻음': 7797, '쫄보': 7798, '몽상가': 7799, '망상가': 7800, '정식': 7801, '년차': 7802, '꼬맹이': 7803, '편편': 7804, '끄덕이다': 7805, '직선': 7806, '두보': 7807, '이강': 7808, '쓰랙이': 7809, '난감하다': 7810, '늪': 7811, '동명': 7812, '벽면': 7813, '기함': 7814, '입체': 7815, '불타다': 7816, '양자경': 7817, '근접하다': 7818, '쾐찮': 7819, '금요일': 7820, '월요병': 7821, '길손': 7822, '부처': 7823, '온라인': 7824, '시놉시스': 7825, '마침표': 7826, '팍박': 7827, '심금': 7828, '패턴': 7829, '중도': 7830, '까메오': 7831, '방점': 7832, '젖가슴': 7833, '재밌넴': 7834, '송해': 7835, '만수무강': 7836, '거른거': 7837, '핵꿀잼': 7838, '키키': 7839, '어도': 7840, '시대정신': 7841, '풀기': 7842, '두갈': 7843, '리모컨': 7844, '판타지영화': 7845, '직고': 7846, '스물': 7847, '터프': 7848, '평가절하': 7849, '빗자루': 7850, '대걸레': 7851, '구타': 7852, '극성': 7853, '루승룡': 7854, '부업': 7855, '빗겨': 7856, '하드보일드': 7857, '고어영화': 7858, '관찮음': 7859, '재수없다': 7860, '티파니': 7861, '앤코': 7862, '망가뜨릴려': 7863, '백배': 7864, '최자': 7865, '망령': 7866, '빗다': 7867, '잊지맙시': 7868, '환갑': 7869, '시가전': 7870, '볼드모트': 7871, '번빼봄': 7872, '네네': 7873, '야니': 7874, '표절': 7875, '황': 7876, '상우': 7877, '소명': 7878, '내년': 7879, '음모론': 7880, '인민': 7881, '중공': 7882, '악한': 7883, '거란': 7884, '유작': 7885, '구식': 7886, '프로듀서': 7887, '스포츠': 7888, '두루': 7889, '선임': 7890, '해파리': 7891, '발꿈치': 7892, '전통문화': 7893, '숨죽': 7894, '항거': 7895, '독립운동가': 7896, '자문': 7897, '굴욕': 7898, '치욕스럽다': 7899, '서든': 7900, '몸소': 7901, '동상': 7902, '이몽': 7903, '얼핏': 7904, '두목': 7905, '취집': 7906, '퐁탄시티': 7907, '키로': 7908, '김지영': 7909, '가닥': 7910, '순찰': 7911, '차안': 7912, '도망가다': 7913, '비려': 7914, '김유정': 7915, '의자': 7916, '무지랭이': 7917, '좌우': 7918, '부패하다': 7919, '흐리다': 7920, '이승만': 7921, '한결같이': 7922, '하향': 7923, '올드팝': 7924, '최근영': 7925, '읭읭읭읭': 7926, '읊어주': 7927, '신격화': 7928, '김재규': 7929, '휴그랜트': 7930, '합창': 7931, '완결': 7932, '더렵혀진': 7933, '티벳': 7934, '분컷': 7935, '하이라이트': 7936, '재벌': 7937, '공학': 7938, '서부': 7939, '개지': 7940, '려': 7941, '전문성': 7942, '가르치다': 7943, '준수': 7944, '여민주': 7945, '진행중': 7946, '잼잼': 7947, '궤': 7948, '흥해랏': 7949, '실학': 7950, '생방송': 7951, '부합': 7952, '부응': 7953, '방관': 7954, '곸': 7955, '드릴': 7956, '드웰러': 7957, '사전': 7958, '서툽니': 7959, '딥슬립': 7960, '주무시다': 7961, '방학': 7962, '조카': 7963, '민주주의자': 7964, '조커': 7965, '히노': 7966, '일출': 7967, '띵작이': 7968, '노무': 7969, '주르륵': 7970, '크리스트': 7971, '불신': 7972, '홀': 7973, '티켓팅': 7974, '유해': 7975, '조수': 7976, '번식': 7977, '태백': 7978, '장선': 7979, '엮어냈': 7980, '듬뿍': 7981, '아부심벨': 7982, '아스완': 7983, '공사': 7984, '언덕': 7985, '텀블벅': 7986, '불씨': 7987, '카톡': 7988, '하야': 7989, '차마': 7990, '구호': 7991, '교복': 7992, '붙잡다': 7993, '노소': 7994, '쓰레기봉투': 7995, '주섬주섬': 7996, '추워지다': 7997, '핫팩': 7998, '출발점': 7999, '매혹': 8000, '아메리칸': 8001, '기관총': 8002, '코카인': 8003, '개졸잼': 8004, '런타임': 8005, '정적': 8006, '폐기물': 8007, '종량제': 8008, '봉투': 8009, '맞혔다': 8010, '범행': 8011, '리제': 8012, '초조': 8013, '너므': 8014, '오리진': 8015, '품질': 8016, '공중전': 8017, '닥치': 8018, '재밋을듯': 8019, '실의': 8020, '요원': 8021, '과보': 8022, '궤변': 8023, '헐렁하다': 8024, '행각': 8025, '대처': 8026, '여겨지다': 8027, '갤가좃': 8028, '가까워지다': 8029, '예기': 8030, '한낮': 8031, '둘러쌓다': 8032, '유세': 8033, '중인': 8034, '오기': 8035, '일어': 8036, '처분': 8037, '하염없이': 8038, '탐구': 8039, '정지': 8040, '요동': 8041, '열라봣다': 8042, '빈약': 8043, '필독': 8044, '허약하다': 8045, '파워': 8046, '풀함': 8047, '방면': 8048, '삼키다': 8049, '비스테': 8050, '전범': 8051, '수십만': 8052, '군수': 8053, '물자': 8054, '이과': 8055, '계통': 8056, '대환영': 8057, '국방력': 8058, '강화': 8059, '몰지각하다': 8060, '고우리': 8061, '견고하다': 8062, '개헌': 8063, '흠집': 8064, '의역': 8065, '하타': 8066, '문두': 8067, '성괴': 8068, '관흥': 8069, '렌즈': 8070, '일기토': 8071, '함점': 8072, '삼국지': 8073, '덧글': 8074, '또렷하다': 8075, '김광석': 8076, '마누라': 8077, '인간성': 8078, '최하': 8079, '혐의': 8080, '익히다': 8081, '협찬': 8082, '신현준': 8083, '박근혜정부': 8084, '해결사': 8085, '강윤': 8086, '네박자': 8087, '차기': 8088, '알차다': 8089, '세금': 8090, '반시민': 8091, '변곡점': 8092, '김무열': 8093, '장의사': 8094, '페스': 8095, '개임': 8096, '헝거게임': 8097, '일치': 8098, '여행자': 8099, '행태': 8100, '조개': 8101, '탁구실력': 8102, '시대극': 8103, '고참': 8104, '파묻히다': 8105, '중임': 8106, '우울': 8107, '오글오글': 8108, '놀림': 8109, '일기': 8110, '소지섭': 8111, '도이치': 8112, '콸콸': 8113, '콸': 8114, '우롱차': 8115, '띤': 8116, '땅콩': 8117, '녹지': 8118, '녹': 8119, '회복': 8120, '리붓': 8121, '박휘순': 8122, '티저': 8123, '볼보': 8124, '빼기': 8125, '모하비': 8126, '크라이슬러': 8127, '구리면': 8128, '신병이': 8129, '불운': 8130, '지면': 8131, '촞불정신': 8132, '역차별': 8133, '퉤': 8134, '중국집': 8135, '웍': 8136, '볶다': 8137, '모험영화': 8138, '보수주의자': 8139, '으로선': 8140, '잘생겻음': 8141, '짜깁다': 8142, '간문제': 8143, '격정': 8144, '코끼리': 8145, '북극곰': 8146, '선서': 8147, '도웁시': 8148, '가브리엘': 8149, '메모': 8150, '애니매이션': 8151, '우순경': 8152, '펙트': 8153, '후암동': 8154, '슬쩍': 8155, '즈음': 8156, '짛았어': 8157, '매니아': 8158, 'ㄲ': 8159, '몰두하다': 8160, '통통': 8161, '장담': 8162, '니지': 8163, '왕따': 8164, '모르겄슴': 8165, '만듬새': 8166, '타겟팅': 8167, '이진': 8168, '쫄깃했다': 8169, '찌': 8170, '질의': 8171, '재영': 8172, '이를': 8173, '한눈팔다': 8174, '연애의온도': 8175, '기울기': 8176, '해고': 8177, '농성': 8178, '스페인어': 8179, '스페인인': 8180, '것마츠타': 8181, '헤븐': 8182, '용정': 8183, '부리다': 8184, '새로이': 8185, '귀중하다': 8186, '욬': 8187, '줄줄': 8188, '폼': 8189, '투박': 8190, '번호': 8191, '조회': 8192, '에게만': 8193, '귓물': 8194, '집념': 8195, '송두리째': 8196, '썬더': 8197, '엔틱': 8198, '의수': 8199, '무지막지': 8200, '문제해결': 8201, '풍파': 8202, '끌어내리다': 8203, '실사영화': 8204, '물애': 8205, '커뮤': 8206, '맥카이': 8207, '투신': 8208, '주희': 8209, '일어나고': 8210, '제레미': 8211, '레너': 8212, '견찰집단': 8213, '꼬집다': 8214, '나머진': 8215, '따라잡다': 8216, '델마와루이스': 8217, '윤종빈': 8218, '굿굿굿': 8219, '킹즈': 8220, '묵': 8221, '쩌는데': 8222, '괜탆아': 8223, '외세': 8224, '반짝반짝': 8225, '핑도': 8226, '원수': 8227, '밀랍': 8228, '인형': 8229, '샴쌍둥이': 8230, '패리스': 8231, '엘리샤': 8232, '커스버트': 8233, '잭슨': 8234, '킹콩': 8235, '콩잼': 8236, '한니발': 8237, '겁쟁이': 8238, '확대': 8239, '이아': 8240, '믹스': 8241, '가량': 8242, '시기하다': 8243, '반신반의': 8244, '어드밴쳐': 8245, 'ㅑ': 8246, '저릿하다': 8247, '망처': 8248, '브랜드': 8249, '이콘': 8250, '봄끝': 8251, '난적': 8252, '글구': 8253, '양치기': 8254, 'ㅇㅅㅇㅎ': 8255, '이시스': 8256, '밀러': 8257, '버티고': 8258, '딱딱하다': 8259, '키쇼': 8260, '호호': 8261, '짦': 8262, '소심하다': 8263, '띵작이긴': 8264, '수령': 8265, '가로막다': 8266, '이정표': 8267, '녹아내리다': 8268, '아이파크': 8269, '예언': 8270, '부조리하다': 8271, '요긴': 8272, '분한': 8273, '옛스럽다': 8274, '화만': 8275, '급똥': 8276, '마려웠': 8277, '눈꺼풀': 8278, '지켜츄': 8279, '마티즈': 8280, '듀': 8281, '스톰브레이커': 8282, '범놈': 8283, '방영금지': 8284, '생채기': 8285, '돌아서다': 8286, '재판소': 8287, '쇼부': 8288, '후안': 8289, '무치': 8290, '하물며': 8291, '수나': 8292, '진실하다': 8293, '대쪽': 8294, '기개': 8295, '행년': 8296, '파산하다': 8297, '부관': 8298, '편식': 8299, '문과': 8300, '우마오당': 8301, '챙': 8302, '조울증': 8303, '피해망상증': 8304, '양가': 8305, '우뢰매': 8306, '발발하다': 8307, '패권': 8308, '침략': 8309, '약탈': 8310, '젠틀맨': 8311, '랠프': 8312, '더보': 8313, '일과': 8314, '골드': 8315, '뇌물': 8316, '퍼센트': 8317, '간반': 8318, '파이트클럽': 8319, '찍지마라': 8320, '지옥문': 8321, '유나': 8322, '집어넣다': 8323, '졸려웠음': 8324, '동감': 8325, '밨는데': 8326, '여윽시': 8327, '깨점': 8328, '보삼': 8329, '임기': 8330, '안남다': 8331, '반짝이다': 8332, '킹누': 8333, '콘서트장': 8334, '파의': 8335, '나무': 8336, '생쁨': 8337, '여또': 8338, '더봄': 8339, '독버섯': 8340, '영위': 8341, '어정': 8342, '소릴': 8343, '절감': 8344, '날아가다': 8345, '쭈꾸미': 8346, '조여': 8347, '간혹': 8348, '연출스탭': 8349, '겡끼': 8350, '메리크리스마스': 8351, '녕': 8352, '재림': 8353, '류준': 8354, '열의': 8355, '염정아': 8356, '이은주': 8357, '까먹다': 8358, '개잼': 8359, '휴지통': 8360, '어어': 8361, '러헝엉': 8362, '텐트': 8363, '창모': 8364, '쌩쑈': 8365, '툭하면': 8366, '등대': 8367, '책장': 8368, '대윤': 8369, '수도권': 8370, '윤입니': 8371, '추카': 8372, '대체역사': 8373, '창정': 8374, '이형은': 8375, '함정': 8376, '임권택': 8377, '꼼짝': 8378, '취함': 8379, '맹목': 8380, '하느님': 8381, '높길레': 8382, '선민의식': 8383, '쉴드치다': 8384, '믄': 8385, '놀래다': 8386, '금기': 8387, '미래세': 8388, '영도자': 8389, '시피': 8390, '줄곧': 8391, '불행중': 8392, '국민학교': 8393, '자연스레': 8394, '대갈': 8395, '부차': 8396, '오전': 8397, '해경이': 8398, '주일미군': 8399, '대기': 8400, '생목숨': 8401, '팽목항': 8402, '호통': 8403, '왕도': 8404, '간곡': 8405, '권유': 8406, '꼬드겨': 8407, '잠실': 8408, '듭니다런닝타임': 8409, '여분': 8410, '컨디션': 8411, '씬최공': 8412, '수시로': 8413, '연가': 8414, '심중': 8415, '콩트': 8416, '영감': 8417, '특기': 8418, '전투력': 8419, '계위': 8420, '크으': 8421, '없댜': 8422, '아디': 8423, '가난': 8424, '에로씬': 8425, '정비': 8426, '소나': 8427, '식모': 8428, '다정': 8429, '비소': 8430, '관대하다': 8431, '삼삼하다': 8432, '삼삼이': 8433, '육육': 8434, '액면가': 8435, '평화주의자': 8436, '내부': 8437, '공무원': 8438, '옥스퍼드': 8439, '동문': 8440, '자의': 8441, '설인': 8442, '진흙탕': 8443, '밀리': 8444, '바가지': 8445, '핏줄': 8446, '갈망': 8447, '장녀': 8448, '오페라': 8449, '하우스': 8450, '꼬아놔': 8451, '출시': 8452, '뭣때메': 8453, '아들내미': 8454, '뚝': 8455, '스테이': 8456, '기사도': 8457, '박해': 8458, '피어': 8459, '바른길': 8460, '저력': 8461, '퇴장': 8462, '반세기': 8463, '프렌차이즈': 8464, '크러시': 8465, '쟈몬': 8466, '귀환': 8467, '김유행': 8468, '조잡': 8469, '병신': 8470, '괴망': 8471, '참담하다': 8472, '리기': 8473, '개임팬': 8474, '피싱': 8475, '액': 8476, '천정명': 8477, '압살': 8478, '밥맛': 8479, '심리전': 8480, '아어': 8481, '소용': 8482, '별안간': 8483, '옷코츠보': 8484, '느닷없다': 8485, '콜라': 8486, '밍숭맹숭': 8487, '고리타분하다': 8488, '선역': 8489, '해치다': 8490, '시보': 8491, '얀': 8492, '광주시': 8493, '인주': 8494, '넔': 8495, '금고': 8496, '양복': 8497, '글래디에이터': 8498, '포폴': 8499, '장백지': 8500, '쇼맨': 8501, '찿': 8502, 'ㄱㅐ': 8503, '악취': 8504, '살아생전': 8505, '날수': 8506, '지목': 8507, '타당': 8508, '압권이': 8509, '가상하다': 8510, '겨눠놓': 8511, '걸어가다': 8512, '뒷문': 8513, '차별성': 8514, '블록': 8515, 'ㅋㄱㅋ': 8516, '렉터': 8517, '진단': 8518, '비틀리다': 8519, '부류': 8520, '도지': 8521, '천지': 8522, '돈오점수': 8523, '돈오돈수': 8524, '강수연': 8525, '종두': 8526, '빵점': 8527, '적적하다': 8528, '테잎': 8529, '은둔': 8530, '정비공': 8531, '보금자리': 8532, '부유': 8533, '빼앗다': 8534, '봉인': 8535, '광고주': 8536, '버젼': 8537, '한돌': 8538, '동호': 8539, '원희': 8540, '주전': 8541, '머뭇거리다': 8542, '로테': 8543, '알베르트': 8544, '초월': 8545, '별반': 8546, '거물': 8547, '울프': 8548, '밀주': 8549, '유통': 8550, '축적': 8551, '개츠': 8552, '룩': 8553, '옆집': 8554, '날쌘': 8555, '턱선': 8556, '금발': 8557, '농담': 8558, '캐러웨이': 8559, '길잡이': 8560, '형도': 8561, '뷰캐넌': 8562, '멀리건': 8563, '기인': 8564, '자격지심': 8565, '드리우다': 8566, '전화': 8567, '옅다': 8568, '박아': 8569, '무명': 8570, '체육관': 8571, '댄스씬': 8572, '명당': 8573, '튀기다': 8574, '흑백씬': 8575, '명석하다': 8576, '배탈': 8577, '판권': 8578, '골치': 8579, '색깔론': 8580, '외다': 8581, '여기저기': 8582, '쉬움': 8583, '카메론디아즈': 8584, '문법': 8585, '영구': 8586, '저장': 8587, '치의': 8588, '흐트러짐': 8589, '정심': 8590, '스또리': 8591, '뿌시': 8592, '액숀물': 8593, '헐겁다': 8594, '르와르': 8595, '흉내': 8596, '외적인': 8597, '변명': 8598, '엄창나': 8599, '가해자': 8600, '싹둑': 8601, '샤오미': 8602, '샤오룬': 8603, '청혼': 8604, '실로': 8605, '매칭': 8606, '업무': 8607, '부딧히던': 8608, '핑키': 8609, '파트너': 8610, '부시': 8611, '주권': 8612, '회의': 8613, '데오퓨': 8614, '기복': 8615, '밤길': 8616, '치마': 8617, '붕떠': 8618, '남자라면': 8619, '핑': 8620, '트랙': 8621, '부호': 8622, '전씨': 8623, '차로': 8624, '갸우뚱': 8625, '끓다': 8626, '로판': 8627, '깨끗하다': 8628, '대본': 8629, '저예산영화': 8630, '자폭': 8631, '물임': 8632, '어쩌다': 8633, '츄': 8634, '무기고': 8635, '방위산업': 8636, '점거': 8637, '장갑차': 8638, '탈취': 8639, '배후': 8640, '북파': 8641, '공작원': 8642, '연루': 8643, '안과': 8644, '싼마이': 8645, '정연': 8646, '조롱': 8647, '아성': 8648, '어리둥절하다': 8649, '개늠들': 8650, '빙빙': 8651, '엄복동': 8652, '무거': 8653, '메박': 8654, '컴': 8655, '루이': 8656, '아취': 8657, '마들렌': 8658, '사라': 8659, '애먼': 8660, '스텔라': 8661, '읺았잖아': 8662, '어요': 8663, '히로인': 8664, '뻣뻣하다': 8665, '뿜뿜하': 8666, '줄이다': 8667, '엇네': 8668, '여진구': 8669, '해감': 8670, '오픈': 8671, '원님': 8672, '구성요소': 8673, '상인': 8674, '우비다': 8675, '장화': 8676, '단화': 8677, '봄첫': 8678, '두개골': 8679, '가늠': 8680, '유행': 8681, '사후세계': 8682, '사람사람': 8683, '애완동물': 8684, '특유하다': 8685, '중이병': 8686, '가구': 8687, '만요': 8688, '폭풍': 8689, '스튜디오': 8690, '소멸': 8691, '쩐': 8692, '시라소니': 8693, '직': 8694, '허비하다': 8695, '불의': 8696, '데도': 8697, '덕이': 8698, '꼬실때': 8699, '멍하다': 8700, '등잔': 8701, '엄습해': 8702, '동하': 8703, '인수': 8704, '수익': 8705, '흉악': 8706, '격투씬': 8707, '되레': 8708, '작태': 8709, '밝혀내다': 8710, 'ㅇㅐ': 8711, '횟불': 8712, '몽': 8713, '주사파': 8714, '화형': 8715, '발단': 8716, '따분하다': 8717, '슈루탄씬': 8718, '쫌나': 8719, '붙이': 8720, '북조선': 8721, '재일한국인': 8722, '니혼진': 8723, '멸시': 8724, '을씨년스럽다': 8725, '준호': 8726, '밋': 8727, '병들다': 8728, '강렬': 8729, '스피커': 8730, '심약하다': 8731, '플러그': 8732, '공황': 8733, 'ㅐ': 8734, '타율': 8735, '낮아지다': 8736, '마빡': 8737, '기여': 8738, '웅': 8739, '피트': 8740, '인제': 8741, '캠벨': 8742, '닭살': 8743, '신중': 8744, '리더쉽': 8745, '선출': 8746, '루팡': 8747, '백수': 8748, '소리치다': 8749, '대성통곡': 8750, '이영애': 8751, '대출받다': 8752, '술사': 8753, '동일': 8754, '업종': 8755, '종사': 8756, '올린다': 8757, 'ㄴㄷ': 8758, '금더': 8759, '교황': 8760, '버드': 8761, '베사': 8762, '메무초': 8763, '스탈': 8764, '찰나': 8765, '지라': 8766, '장어영': 8767, 'ㅇㅈ': 8768, '쓸모없이': 8769, '추리씬': 8770, '웟던': 8771, '레골라스': 8772, '분장': 8773, '오라버니': 8774, '신비하다': 8775, '거좀': 8776, '웰케': 8777, '지혈': 8778, '민결': 8779, '웹드': 8780, '천만배': 8781, '보건': 8782, '우동': 8783, '당국': 8784, '피해망상': 8785, '창조자': 8786, '멸망하다': 8787, '터널': 8788, '반격': 8789, '군중': 8790, '고조': 8791, '한장': 8792, '어짜구': 8793, '스텝': 8794, '원망': 8795, '리차드': 8796, '는바': 8797, '분안': 8798, '붕어빵': 8799, '뭉치다': 8800, '상사': 8801, '콘텐츠': 8802, '힒듬': 8803, '바람둥이': 8804, '잔잔': 8805, '인방': 8806, '귿': 8807, '배스킨라빈스': 8808, '맛보기': 8809, '유종': 8810, '구한': 8811, '문자': 8812, '칼잡이': 8813, '윤': 8814, '해질녘': 8815, '자취': 8816, '짖다': 8817, '우크라이나': 8818, '침공': 8819, '데자뷰': 8820, '임박': 8821, '록': 8822, '릭': 8823, '셨': 8824, '찰': 8825, 'ㅇㅅㄴ': 8826, 'ㅈㄹㅇ': 8827, 'ㅇㄷㅅ': 8828, 'ㅁㅇㅇ': 8829, 'ㄱㅇㄱ': 8830, '눈짓': 8831, '굿후': 8832, '뭐노': 8833, '기력': 8834, '괜시리': 8835, '양주': 8836, '장사': 8837, '더구나': 8838, '쫄': 8839, '명찰': 8840, '공임': 8841, '잘뽑다': 8842, '다룸': 8843, '우세': 8844, '럼': 8845, '연변': 8846, '착': 8847, '견주어': 8848, '면상': 8849, '만행': 8850, '오입': 8851, '차오르다': 8852, '어벤저스': 8853, '홈쪽': 8854, '불가하다': 8855, '일색': 8856, '갑': 8857, '습성': 8858, '반려': 8859, '선빈': 8860, '격차': 8861, '레베카': 8862, '퍼거슨': 8863, '깨월': 8864, '비아': 8865, '스키': 8866, '이익': 8867, '시안': 8868, '침': 8869, '봣눈디': 8870, '재밋엉': 8871, '부풀다': 8872, '훌훌': 8873, '빅웃음': 8874, '다쳣는데': 8875, '분만': 8876, '아라곤': 8877, '할로윈': 8878, '이웃사람': 8879, '깜둥이': 8880, '계륜미': 8881, '설킨': 8882, '어지로웠': 8883, '구색': 8884, '텐션': 8885, '이비': 8886, '난하다': 8887, '어터케': 8888, '수진': 8889, '요별': 8890, '신민아': 8891, '옥에티': 8892, '설음': 8893, '로맨틱영화': 8894, '종교': 8895, '울궈': 8896, '임수정': 8897, '풀꽃': 8898, '연약하다': 8899, '띄우기': 8900, '강화하다': 8901, '짜르': 8902, '빌붙다': 8903, '민중': 8904, '민초': 8905, '기부': 8906, '구사': 8907, '후작': 8908, '난생': 8909, '홀린': 8910, '주중': 8911, '빠뜨리다': 8912, '꽉꽉': 8913, '끝장': 8914, '퉁': 8915, '고급': 8916, '미춋다': 8917, '안기다': 8918, '향역': 8919, '음원': 8920, '물괴': 8921, '물괴괴물': 8922, '랜': 8923, '절임': 8924, '열등감': 8925, '수구': 8926, '꼴통': 8927, '종특': 8928, '지들': 8929, '불리하다': 8930, '쪽바리': 8931, '서하': 8932, '설날': 8933, '정웅인': 8934, '조마조마': 8935, '우상호': 8936, '의원님': 8937, '진구': 8938, '비호': 8939, '복판': 8940, '무제한': 8941, '미짱': 8942, '리브': 8943, '계시': 8944, '애깅이': 8945, '경직': 8946, '알아차리다': 8947, '인성': 8948, '비슷': 8949, '초이스': 8950, '통령': 8951, '씹덕': 8952, '부심': 8953, '부리고': 8954, '발표': 8955, '만회': 8956, '크아': 8957, '보도': 8958, '비장하다': 8959, '뻐꾸기': 8960, '듀란듀란': 8961, '챠트': 8962, '보샘': 8963, '무리수': 8964, '남발': 8965, '주간': 8966, '특화된': 8967, '스파이어': 8968, '대구': 8969, '오신': 8970, '발상': 8971, '니콜': 8972, '전라남도': 8973, '압해대교': 8974, '목포시': 8975, '자차': 8976, '대중교통': 8977, '취소': 8978, '구석구석': 8979, '염소': 8980, '뿔': 8981, '전무': 8982, '처음처럼': 8983, '원망하다': 8984, '이현': 8985, '중립': 8986, '분발': 8987, '통신사': 8988, '지진': 8989, '마터스': 8990, '잔혹하다': 8991, '못지않다': 8992, '듯함': 8993, '닉슨': 8994, '라영': 8995, '스폰지': 8996, '재수입': 8997, '위키': 8998, '진명': 8999, '루로나롬': 9000, '바르도': 9001, '장만옥': 9002, '유가령': 9003, '힙한척': 9004, '페미니스트': 9005, '힙스터': 9006, '물리치료': 9007, '취저당할': 9008, '젖': 9009, '도둑질': 9010, '갸좋아': 9011, '무숙자': 9012, '렌스': 9013, '콩': 9014, '멱살': 9015, '기왕': 9016, '파쿠르': 9017, '선호': 9018, '난사': 9019, '주어지다': 9020, '심예': 9021, '백지': 9022, '우정은': 9023, '후더닛': 9024, '브스': 9025, '칸트': 9026, '정신건강': 9027, '차편': 9028, '파란하늘': 9029, '파란색': 9030, '좃불': 9031, '판독': 9032, '수도꼭지': 9033, '왤다': 9034, '원스': 9035, '어폰': 9036, '헤이트': 9037, '바스터즈': 9038, '인장': 9039, '새기다': 9040, '왔슴다': 9041, '윤네집': 9042, '야외': 9043, '연습장': 9044, '한일': 9045, '송도': 9046, '중화권': 9047, '안지은': 9048, '권선': 9049, '징악': 9050, '개존잼': 9051, '하여가': 9052, '형언': 9053, '법원': 9054, '몬타나': 9055, '토게': 9056, '설움': 9057, '순박하다': 9058, '이러니까': 9059, '여론조작': 9060, '더위': 9061, '탁하다': 9062, '돈좀': 9063, '넥플릭스': 9064, '고별': 9065, '파가': 9066, '진격': 9067, '장안동': 9068, '강변': 9069, 'ㅜㅠㅠ': 9070, '부랴부랴': 9071, '촤락': 9072, '특전': 9073, '미춋어': 9074, '비운': 9075, '타다노': 9076, '앙큼하다': 9077, '전남친': 9078, '가스': 9079, '문서': 9080, '합의': 9081, '피학': 9082, '주고받다': 9083, '정상인': 9084, '산악인': 9085, '연아': 9086, '스케이팅': 9087, '여름날': 9088, '도중': 9089, '저승사자': 9090, '중고생': 9091, '목어': 9092, '딨슈모기디슈': 9093, '모과': 9094, '티슈': 9095, '몽골': 9096, '놨': 9097, '반공': 9098, '엄니': 9099, '역습': 9100, '근대사': 9101, '현악기': 9102, '오른': 9103, '양아들': 9104, '양아버지': 9105, '비치다': 9106, '시저': 9107, '화이트데이': 9108, '미니': 9109, '심층': 9110, '사차원': 9111, '디나': 9112, '연배': 9113, '용가리': 9114, '살포시': 9115, '어쨋거': 9116, '모리스': 9117, '마스터링': 9118, '천추': 9119, '아기자기하다': 9120, '히트송': 9121, '들썩이다': 9122, '낙원': 9123, '썅': 9124, '해피니스': 9125, '제각각': 9126, '갈라': 9127, '일일': 9128, '진자': 9129, '집값': 9130, '억원': 9131, '양성': 9132, '사대주의': 9133, '연락': 9134, '사무소': 9135, '폭파': 9136, '최공': 9137, '보노': 9138, '클레이': 9139, '왕멍': 9140, '매국': 9141, '현빈': 9142, '테러범': 9143, '해변': 9144, '색상': 9145, '도리어': 9146, 'ㅈㅁ': 9147, '여케': 9148, '불공정': 9149, '정의롭': 9150, '안락하다': 9151, '건강': 9152, '안야': 9153, '높혔으': 9154, '무작정': 9155, '우주여행': 9156, '파리대왕': 9157, '려면': 9158, '풋풋': 9159, '여느': 9160, '눈길': 9161, '시전': 9162, '우스꽝스럽다': 9163, '파삭': 9164, '유아인': 9165, '쯧': 9166, '케네디': 9167, '고집': 9168, '언론인': 9169, '외침': 9170, '스킨': 9171, 'ㅌㅌㅋ': 9172, '크러쉬': 9173, '웬수': 9174, '제적': 9175, '창의력': 9176, '티티': 9177, '뚱뚱하다': 9178, '어느덧다': 9179, '조가': 9180, '크레용': 9181, '탁핵': 9182, '둘러싸다': 9183, '콘트레일': 9184, '비스킷': 9185, '요한': 9186, '단명': 9187, '예종': 9188, '나빠지다': 9189, '방탄': 9190, '사격': 9191, '툇툇': 9192, '설치': 9193, '여가부': 9194, '폐지': 9195, '쫄려': 9196, '분쇄기': 9197, 'ㅎㅐ': 9198, '서양': 9199, '아서': 9200, '멀린': 9201, '아리아나': 9202, '그란': 9203, '무덤': 9204, '세자': 9205, '구글링': 9206, '햇던': 9207, '재밋엇음': 9208, '재밋게봄': 9209, 'ㅗㅗㅛ': 9210, '래서야': 9211, '세븐': 9212, '디젤': 9213, '조명하': 9214, '황태자': 9215, '자크': 9216, '드미': 9217, '하찮다': 9218, '뮤지컬영화': 9219, '빰치고': 9220, '평상시': 9221, '주은영': 9222, '졸뻔': 9223, '심보': 9224, '나물': 9225, '크림': 9226, '비빔밥': 9227, '악하다': 9228, '저떄': 9229, '발끝': 9230, '임원': 9231, '작도': 9232, '마음잡다': 9233, '골든벨': 9234, '슨상': 9235, '진작': 9236, '봉사': 9237, '저학년': 9238, '채지은': 9239, '빈번': 9240, '성범죄': 9241, '법적': 9242, '대응': 9243, '연령': 9244, '공화당': 9245, '삼청동': 9246, '연가시': 9247, '프롤로그': 9248, '총격씬': 9249, '아메': 9250, '오우': 9251, '츤데레': 9252, '박탈': 9253, '렌고쿠': 9254, '탄지': 9255, '마음씨': 9256, '그떄': 9257, '할떄': 9258, '카피라이트': 9259, '처박': 9260, '합리화': 9261, '벽보': 9262, '만끽': 9263, '집단지성': 9264, '계양': 9265, '아카데미상': 9266, '맨부커상': 9267, '소설가': 9268, '한강': 9269, '연예': 9270, '모자': 9271, '발광하다': 9272, '보넹': 9273, '정해지다': 9274, '김민정': 9275, '신혼부부': 9276, '태운': 9277, '착수': 9278, '탑승객': 9279, '빠': 9280, '바박': 9281, '전쟁씬': 9282, '엄창록': 9283, '애증': 9284, 'ㅠㅜㅜㅠ': 9285, '성함': 9286, '금보': 9287, '옐리나': 9288, '알마': 9289, '사랑방': 9290, '가령': 9291, '단정': 9292, '루이스': 9293, '직후': 9294, '피드': 9295, '봣더': 9296, '병점': 9297, '생겻어': 9298, '우수하다': 9299, '김영광': 9300, '돌파구': 9301, '마이크': 9302, '깨알': 9303, '울컥울컥': 9304, '지리산': 9305, '충청도': 9306, '강호': 9307, '문외한': 9308, '리플': 9309, '볼순': 9310, '스플': 9311, '레터': 9312, '액숀영화': 9313, '휼륭하다': 9314, '내륙전': 9315, '소속': 9316, '기밀': 9317, '불쌍': 9318, '고집불통': 9319, '각국': 9320, '전현': 9321, '찍': 9322, '메일': 9323, '요양': 9324, '엑소': 9325, '멍': 9326, '기다림': 9327, '유례': 9328, '정만식': 9329, '똥망': 9330, '잠옴': 9331, 'ㅇㄴ': 9332, '부들부들': 9333, '군상': 9334, '묏': 9335, '후세': 9336, '신체': 9337, '선발': 9338, '마땅하다': 9339, '뒷짐': 9340, '평균연령': 9341, '인선': 9342, '이민기': 9343, '시댁': 9344, '친족': 9345, '타겟': 9346, '꾹': 9347, '이솜': 9348, '치켜들다': 9349, '윤서': 9350, '요로': 9351, '묻히다': 9352, '그니': 9353, 'ㅇㅣ': 9354, '워질': 9355, '법사': 9356, '혜우스승': 9357, '남일': 9358, '주적': 9359, '맘충': 9360, '당기다': 9361, '댓츠': 9362, '롸잇': 9363, '도령': 9364, '이경영': 9365, '관계성': 9366, '하와이': 9367, '제삿날': 9368, '준석': 9369, '상어': 9370, '조마조마하다': 9371, '섹텐': 9372, '판도': 9373, '모음': 9374, '얄팍하다': 9375, '에게서': 9376, '일천': 9377, '한혜진': 9378, '이세': 9379, '찡': 9380, '개척': 9381, '단원': 9382, '리즈위더스푼': 9383, '년생': 9384, '주신': 9385, '흩날리다': 9386, '지현우': 9387, '성전환자': 9388, '신뢰': 9389, '친': 9390, '아야노': 9391, 'ㄱㄹ': 9392, '성민': 9393, '수린': 9394, '체어': 9395, '심폐소생술': 9396, '파내다': 9397, '돈값': 9398, '오이다': 9399, '아리': 9400, '스미다': 9401, '탱고': 9402, '장물': 9403, '쿤': 9404, '카마수트라': 9405, '이처럼': 9406, '노선': 9407, '유효': 9408, '불결하다': 9409, '출장': 9410, '정신연령': 9411, '안내': 9412, '획득': 9413, '잠수': 9414, '방산': 9415, '빙산': 9416, '일각': 9417, '잘밨습니': 9418, '은행': 9419, '담당': 9420, '본일': 9421, '라다': 9422, 'ㅡㅡㅋ': 9423, '미디어': 9424, '미사': 9425, '덤덤하다': 9426, '식스센스': 9427, '신술': 9428, '네러티브': 9429, '재기': 9430, '커스틴': 9431, '던스트': 9432, '장률': 9433, '모양새': 9434, '협잡': 9435, '탐색': 9436, '자칫하면': 9437, '맞춤': 9438, '고역': 9439, '타파': 9440, '상당': 9441, '넉': 9442, '잠기다': 9443, '미지수': 9444, '흡족하다': 9445, '신파극': 9446, '암시': 9447, '축약': 9448, '긋다': 9449, '일수록': 9450, '쪼금': 9451, '로간': 9452, '드러내다': 9453, '어쩌다가': 9454, '학적': 9455, '변태성욕': 9456, '물불': 9457, '성욕': 9458, '타락하다': 9459, '촌철': 9460, '반박': 9461, '출처': 9462, '입력': 9463, '참되다': 9464, '인격': 9465, '쾌락': 9466, '로부터': 9467, '경멸': 9468, '더군': 9469, '통쾌': 9470, '못느꼇던': 9471, '니미': 9472, '탑승': 9473, '정약전': 9474, '제지': 9475, '기차씬': 9476, '투사': 9477, '만이라도': 9478, '공유': 9479, '창가': 9480, '햇빛': 9481, '조선총독부': 9482, '직할': 9483, '편집자': 9484, '논쟁': 9485, '월초': 9486, '표기': 9487, '스텔란': 9488, '스카': 9489, '똑': 9490, '캐이블': 9491, '허무맹랑': 9492, '고령화': 9493, '세로': 9494, '어란': 9495, '잘리다': 9496, '스탭들': 9497, '평평하다': 9498, '유투브': 9499, '클로이': 9500, '츠': 9501, '행온': 9502, '기운': 9503, '예스': 9504, '알싸하다': 9505, '볼먀했음': 9506, '카운터': 9507, '이상성욕': 9508, '엊': 9509, '그저께': 9510, '꼴리다': 9511, '꼽': 9512, '가재': 9513, '하노': 9514, '개극혐': 9515, '건재': 9516, '맨해튼': 9517, '이거슨': 9518, '이필': 9519, '커브': 9520, '가속': 9521, '등불': 9522, '안개': 9523, '종수': 9524, '개추': 9525, '구두': 9526, '극작가': 9527, '험프리': 9528, '재풍': 9529, '음향효과': 9530, '물러서다': 9531, '반장': 9532, '제이슨': 9533, '스타덤': 9534, '뇌절': 9535, '구졋음': 9536, '관리인': 9537, '궂': 9538, '퀴즈': 9539, '마드': 9540, '무아': 9541, '묵가사상': 9542, '버무린': 9543, '개망작': 9544, '식지': 9545, '판임': 9546, '송예진': 9547, '쩌네': 9548, '앳되': 9549, '여성혐오': 9550, '하단': 9551, '심령술': 9552, '팽팽': 9553, '마가렛': 9554, '본즈': 9555, '로건': 9556, '엄두': 9557, '못내': 9558, '케리': 9559, '해적판': 9560, '거점': 9561, '소위': 9562, '달전': 9563, '이사': 9564, '출입': 9565, '사가': 9566, '날아오다': 9567, '실언': 9568, '동반': 9569, '고아원': 9570, '우기다': 9571, '열세': 9572, '여중생': 9573, '임산부': 9574, '막막하다': 9575, '가엾다': 9576, '찍히다': 9577, '안죽': 9578, '젠정': 9579, '액스맨': 9580, '반성은': 9581, '가신': 9582, '후도': 9583, '쩜쩜쩜': 9584, 'ㅊㅊ': 9585, '어깨동무': 9586, '횟수': 9587, '정유미': 9588, '에반스': 9589, '플러머분': 9590, '뮤직': 9591, '프로필': 9592, '생뚱맞': 9593, '영제': 9594, '오세암': 9595, '뚀르륵': 9596, '상사병': 9597, '캐롤': 9598, '작렬': 9599, '아마겟돈': 9600, '는데': 9601, '과격하다': 9602, '솜씨': 9603, '글쎼': 9604, '진부': 9605, '힌': 9606, '갖은': 9607, '엮어': 9608, '모스크바': 9609, '부조리': 9610, '일주일': 9611, '판박이': 9612, '전인': 9613, '마스트': 9614, '사이비종교': 9615, '상쾌': 9616, '산적': 9617, '안간힘': 9618, '어쩌구': 9619, '빵꾸': 9620, '카르마': 9621, '어유': 9622, 'ㅇㅋ': 9623, '고소공포증': 9624, '재밋다노래미쳣냐': 9625, '재밋었던거같음': 9626, '신충': 9627, '배렸': 9628, '퉤잇퉤': 9629, '로저': 9630, '여성연대': 9631, '독법': 9632, '여성성': 9633, '출세': 9634, '연대': 9635, '지구촌': 9636, '마피아게임': 9637, '마츠코씨': 9638, '작곡': 9639, '긴장도': 9640, '캐다': 9641, '고치다': 9642, '잔재': 9643, '산물': 9644, '후배': 9645, '두려움': 9646, '죄책감': 9647, '짐작': 9648, '융화': 9649, '외전': 9650, '이던': 9651, '복기': 9652, '주년': 9653, '희단': 9654, '패거리': 9655, '해외여행': 9656, '럭기키': 9657, '덕화': 9658, '밤새': 9659, '선기': 9660, '책임자': 9661, '최은': 9662, '장관': 9663, '불발': 9664, '문책': 9665, '촛볼': 9666, '은하': 9667, '난이도': 9668, '무한도전': 9669, '다코타': 9670, '빅': 9671, '페넬로페': 9672, '성하': 9673, '지냇던': 9674, '됏습니': 9675, '꿋꿋하다': 9676, '순서도': 9677, '댓글달다': 9678, '오만상': 9679, '잭리처': 9680, '자고로': 9681, '래야': 9682, '옜': 9683, '날기': 9684, '대망': 9685, '비감': 9686, '독일인': 9687, '도덕성': 9688, '상실하다': 9689, '조부모': 9690, '차지': 9691, '어케했누': 9692, '구성지다': 9693, '빠져나오다': 9694, '자재': 9695, '꺾다': 9696, '백년': 9697, '하수': 9698, '휴양지': 9699, '천장': 9700, '보존': 9701, '마자': 9702, '몽글하다': 9703, '해박': 9704, 'ㅌㅈㅂ': 9705, '목장': 9706, '절경': 9707, '컴퍼배치': 9708, '적막하다': 9709, '피아노': 9710, '제인': 9711, '캠': 9712, '피온': 9713, '히로시마': 9714, '원폭': 9715, '진통제': 9716, '색채': 9717, '다욕': 9718, '능지': 9719, '테레비': 9720, '밤늦다': 9721, '살림살이': 9722, '망라': 9723, '놀이동산': 9724, '현지': 9725, '온도': 9726, '기승위': 9727, '글램': 9728, '녠장': 9729, '탐독': 9730, '솔솔': 9731, '장애': 9732, '쓰리콤': 9733, '이십': 9734, '박시후': 9735, '무기징역': 9736, '유잼': 9737, '법함': 9738, '욕멕일': 9739, '가상': 9740, '햇으': 9741, '뽀로로': 9742, '말썽': 9743, '꾸러기': 9744, 'ㅂㄹ': 9745, '대인관계': 9746, '피꺼솟': 9747, '실종': 9748, '난장판': 9749, '어르다': 9750, '인트': 9751, '농민': 9752, '천이': 9753, '모야': 9754, '스팬': 9755, '굿바이': 9756, '장진영': 9757, '젱장': 9758, '스꼬뜰': 9759, '억양': 9760, '쌩각': 9761, '상해': 9762, '드렁크': 9763, '쇄망': 9764, '중화민국': 9765, '중화인민공화국': 9766, '성립': 9767, '소용돌이': 9768, '공원': 9769, '머리털': 9770, '킬탐': 9771, '되돌리다': 9772, '사형': 9773, '제도': 9774, '쾅': 9775, '마다의': 9776, '이해력': 9777, '쳣겟': 9778, '훔뻗': 9779, '잼슴': 9780, '초입': 9781, '따드': 9782, '혼동': 9783, '사령관': 9784, '이순신장군': 9785, '예수': 9786, '쟁이': 9787, '상종': 9788, '피씨': 9789, '어나더': 9790, '간간이': 9791, '술함': 9792, '갈기': 9793, '벤스틸러': 9794, '딸과': 9795, '부천': 9796, '웹소설': 9797, '이랬는데': 9798, '조악하다': 9799, '갸봉': 9800, '유하은': 9801, '므헤': 9802, '존트라볼타': 9803, '깨부수다': 9804, '별의별': 9805, '밀리터리': 9806, '본가': 9807, '강지영': 9808, '난감': 9809, '포와루': 9810, '불쇼': 9811, '스테레오': 9812, '말좀': 9813, '정류장': 9814, '광화문역': 9815, '액자': 9816, '끈기': 9817, '저울눈': 9818, '동거': 9819, '갤러해드': 9820, '사들이다': 9821, '권력자': 9822, '후계': 9823, '묵다': 9824, '요물': 9825, '놨다남자': 9826, '쌀뻔': 9827, '급매': 9828, '자레드': 9829, '레토': 9830, '패싸움': 9831, '못만드': 9832, '옆통': 9833, '서로서로': 9834, '룸싸롱': 9835, '에아': 9836, '추석': 9837, '금지법': 9838, '제정': 9839, '실탄': 9840, '신들': 9841, '퍼': 9842, '수험생': 9843, '싱글': 9844, '토냐하딩': 9845, '불우하다': 9846, '금메달': 9847, '바이': 9848, '백조': 9849, '드레스': 9850, '우승': 9851, '은메달': 9852, '테크': 9853, '트리플': 9854, '악세다': 9855, '계락': 9856, '협박': 9857, '편지': 9858, '레트로': 9859, '착잡하다': 9860, '서린': 9861, '감편': 9862, '장편': 9863, '안목': 9864, '음으로': 9865, '이런저런': 9866, '최고재': 9867, '밋엇다': 9868, '언챠': 9869, '어뜨케': 9870, '선입견': 9871, '느깜': 9872, '봣느데': 9873, '또볼': 9874, '테입': 9875, '습기': 9876, '차서': 9877, '표지': 9878, '장식품': 9879, '일종': 9880, '향유': 9881, '내겐': 9882, '연륜': 9883, '페이션트': 9884, '먹히다': 9885, '랜덤': 9886, '하츠': 9887, '판정': 9888, '승': 9889, '단정하다': 9890, '마이애미': 9891, '대시': 9892, '응답기': 9893, '독백': 9894, '이군': 9895, '시드니': 9896, '폴락': 9897, '후일': 9898, '도모': 9899, '전화하다': 9900, '이를테면': 9901, '갈래': 9902, '총총': 9903, '출국': 9904, '엔딩크레디트': 9905, '데이트': 9906, '최앗': 9907, '갈라지다': 9908, '넬': 9909, '읺았': 9910, '난꽤': 9911, '뱅': 9912, '발산': 9913, '모욕감': 9914, '오프라': 9915, '윈프리': 9916, '민국': 9917, '후려': 9918, '재의': 9919, '똥꼬': 9920, '동창생': 9921, '과제': 9922, 'ㅜㅜㅜ': 9923, '빚진': 9924, '고어': 9925, '슬래쉬': 9926, '쫄깃함': 9927, '불교': 9928, '신자': 9929, '반야심경': 9930, '타협': 9931, '하진': 9932, '중딩': 9933, '녀자': 9934, '노트북': 9935, '하연수': 9936, '가봉': 9937, '띄엄띄엄': 9938, '류승완': 9939, '급무': 9940, '하구욬': 9941, '어쩐': 9942, '일로': 9943, '저따위': 9944, '한자리': 9945, '톰슨': 9946, 'ㄱㄱㄱㄱㄱㄱ': 9947, '산개': 9948, '자충수': 9949, '스패로우': 9950, '모조품': 9951, '출연자': 9952, '스탭': 9953, '호로': 9954, '이키': 9955, '겨루다': 9956, '댜': 9957, '베다': 9958, '데타': 9959, '적음': 9960, '에두': 9961, '장고': 9962, '전생': 9963, '나타내다': 9964, '생동감': 9965, '학폭': 9966, '영악': 9967, '칸토': 9968, '하늬': 9969, '조현병': 9970, '좌우명': 9971, '아지': 9972, '취권': 9973, '단테': 9974, '신곡': 9975, '킨버그': 9976, '수연': 9977, '정재영': 9978, '공중씬': 9979, '분기점': 9980, '후려치다': 9981, '높이': 9982, '게잉': 9983, '데우다': 9984, '담론': 9985, '넣기': 9986, '학습': 9987, '봣어': 9988, '욱여넣': 9989, '개개인': 9990, '들어맞다': 9991, '효주': 9992, '귀염': 9993, '띵작이요띵': 9994, '레이디': 9995, '수직': 9996, '청량하다': 9997, '빠져듭니': 9998, '다년': 9999, '감시': 10000, '감수': 10001, '쟁점': 10002, '불분': 10003, '무감각': 10004, '세밀': 10005, '우에노': 10006, '뒤집어지다': 10007, '지역감정': 10008, '장기판': 10009, '노릇': 10010, '장삼이사': 10011, '견해': 10012, '갖': 10013, '듭니다저': 10014, '자유분방하다': 10015, '탄산수': 10016, '쥬': 10017, '기고': 10018, '염두': 10019, '외로워': 10020, '발자국': 10021, '달려들다': 10022, '엮어놓': 10023, '트랩': 10024, '일비': 10025, '만듬': 10026, '남제': 10027, '부랄': 10028, '남고생': 10029, '꽂히다': 10030, '환영': 10031, '항하': 10032, '두발': 10033, '뻗다': 10034, '죄악': 10035, '어린소년': 10036, '괜잖': 10037, '쥬라기': 10038, '공룡': 10039, '뷰': 10040, '베비': 10041, '팔로마': 10042, '왜색': 10043, '루머': 10044, '어이쿠': 10045, '추세': 10046, '비백': 10047, '지대': 10048, '포르샤': 10049, '사토루그': 10050, '고려대': 10051, '늬': 10052, '이시영': 10053, '하이힐': 10054, '숟가락': 10055, '정치사': 10056, '막연하다': 10057, '엄지원': 10058, '알바생': 10059, '희귀': 10060, '다문화': 10061, '조화롭다': 10062, '연우': 10063, '장기': 10064, '구속': 10065, '썩렬이': 10066, '조징웅': 10067, '스카페이스': 10068, '토론': 10069, '찐득찐득': 10070, '히스토리': 10071, '있다먄': 10072, '아주머니': 10073, '이명': 10074, '경시': 10075, '암담하다': 10076, '너무슬펑': 10077, '희한하다': 10078, '술술': 10079, '맥키묘': 10080, '일본차': 10081, '년놈': 10082, '스토리온': 10083, '점심시간': 10084, '방탕하다': 10085, '솜털': 10086, '왁싱': 10087, '과일': 10088, '문지르다': 10089, '페로몬': 10090, '천사': 10091, '산양': 10092, '치즈': 10093, '짜장면': 10094, '단무지': 10095, '양파': 10096, '에어팟': 10097, '유튜버들': 10098, '와타시': 10099, '개조': 10100, '겁니꽈': 10101, '가즈': 10102, '욤': 10103, '멤버': 10104, '히스패닉': 10105, '아시안': 10106, '구성원': 10107, '인위': 10108, '전철': 10109, '팍': 10110, '독특': 10111, '꾹꾹': 10112, '이장면': 10113, '조이다': 10114, '온통': 10115, '성유빈': 10116, '박진영': 10117, '다인': 10118, '져서': 10119, '차려': 10120, '비단': 10121, '링컨': 10122, '위인': 10123, '계보': 10124, '왕족': 10125, '참호': 10126, '전속': 10127, '무의미하다': 10128, '분쟁': 10129, '대영제국': 10130, '쿨러닝': 10131, '고품격': 10132, '푸드': 10133, '성가대': 10134, '주님': 10135, '홍당무': 10136, '찌릉': 10137, '라기보단': 10138, '미궁': 10139, '본능': 10140, '한낱': 10141, '라이더': 10142, '죄밌오': 10143, '어우르다': 10144, '경험치': 10145, '가책': 10146, '경비': 10147, '죄람': 10148, '킬타용': 10149, '신경증': 10150, '시청각': 10151, '알파': 10152, '치노': 10153, '묘비': 10154, '폴른': 10155, '상공': 10156, '초토화': 10157, '미영': 10158, '격추': 10159, '울화': 10160, '다점': 10161, '순수': 10162, '곽재용': 10163, '갈팡질팡': 10164, '어찌어찌': 10165, '맜었': 10166, '흥망': 10167, '성쇠': 10168, '박스': 10169, '이구만': 10170, 'ㄱㅣ': 10171, '나유': 10172, '제조업체': 10173, '인턴': 10174, '추파': 10175, '이중성': 10176, '민아': 10177, '영호': 10178, '복귀': 10179, '어케될까': 10180, '베일': 10181, '이쩌': 10182, '이용만': 10183, '감탄사': 10184, '출연료': 10185, '팍팍': 10186, '안구': 10187, '발가벗다': 10188, '고양': 10189, '테일러': 10190, '스위프트': 10191, '글쎄요': 10192, '평균기온': 10193, '과학자': 10194, '기상이변': 10195, '전조': 10196, '직면': 10197, '게르': 10198, '주리다': 10199, '노리': 10200, '연주가': 10201, '선뜻': 10202, '보태': 10203, '부문': 10204, '변주': 10205, '술잔': 10206, '낙담하다': 10207, '다독이다': 10208, '버팀목': 10209, '부상': 10210, '바리': 10211, '즉생': 10212, '각오': 10213, '구절': 10214, '흥얼거리다': 10215, '방년': 10216, '빅스': 10217, '큐브': 10218, '무관심하다': 10219, '시동': 10220, '통제': 10221, '관리': 10222, '만취': 10223, '다듬어지다': 10224, '약혼': 10225, '기엽구': 10226, '미스티': 10227, '방황': 10228, '콕': 10229, '친해지다': 10230, '후편': 10231, '서른': 10232, '상반': 10233, '래빗': 10234, '힙합': 10235, '파파독': 10236, '눌리': 10237, '털보': 10238, 'ㅃㅃ': 10239, '포복': 10240, '절도': 10241, '키크': 10242, '류승범': 10243, '업체': 10244, '밨어': 10245, '볼펜': 10246, '탈북자': 10247, '특수부대': 10248, '홈랜드': 10249, '왜키': 10250, '덧붙이다': 10251, '웨스트사이드': 10252, '매체': 10253, '토악질': 10254, '날름': 10255, '강타': 10256, '장각': 10257, '시큰하다': 10258, '쵤영해': 10259, '기용': 10260, '도돌이표': 10261, '육감': 10262, '버젓이': 10263, '지핀': 10264, '이로': 10265, '머무르다': 10266, '이벤트': 10267, '출중하다': 10268, '추강': 10269, '금성무': 10270, '곽부성': 10271, '진혜림': 10272, '카메오': 10273, '잔소리': 10274, '나이키': 10275, '축국': 10276, '조곤조곤': 10277, '절레절레': 10278, '라벨': 10279, 'ㄴㅈ': 10280, '실어': 10281, '알래스카': 10282, '남태평양': 10283, '조그만': 10284, '경비행기': 10285, '가쉽걸': 10286, '블레어': 10287, '새아빠': 10288, '이타': 10289, '어땟': 10290, '가부장': 10291, '마인드': 10292, '둔하다': 10293, '지근': 10294, '족족': 10295, '클리어': 10296, '얄밉다': 10297, 'ㅎㅎㅈ': 10298, '치졸하다': 10299, '영화드': 10300, '박영수': 10301, '전우': 10302, '말초': 10303, '입김': 10304, '중단': 10305, '일어나서': 10306, '애선': 10307, '있슴니': 10308, '폭팔': 10309, '멸종': 10310, '직결': 10311, '음반': 10312, '이차': 10313, '장족': 10314, '미스틱': 10315, '촣': 10316, '크리': 10317, '원스어폰어타임': 10318, '트럭': 10319, '온몸': 10320, '사적': 10321, '공적': 10322, '윈윈': 10323, '증발': 10324, '옷코츠유타': 10325, '음고': 10326, '격투': 10327, '에러': 10328, '인자': 10329, '조민수': 10330, '김은영': 10331, '로사': 10332, '로스쿨': 10333, '인과성': 10334, '보완': 10335, '여성인권': 10336, '보름달': 10337, '등지': 10338, '닥터스': 10339, '토스': 10340, '맛탱': 10341, '에피': 10342, '바랬던': 10343, '정원': 10344, '신일': 10345, '주르르': 10346, '르르': 10347, '올드팬': 10348, '니스': 10349, '무빙': 10350, '인트로곡': 10351, '미드나잇': 10352, '회색': 10353, '세포': 10354, '매기': 10355, '월월': 10356, '굵다': 10357, '심플': 10358, '시시콜콜': 10359, '적용': 10360, '최동훈': 10361, '견줄': 10362, '논리': 10363, '장모': 10364, '징역': 10365, '노동자': 10366, '오디오': 10367, '작업': 10368, '떠나가다': 10369, '달이': 10370, '역적': 10371, '창피하다': 10372, '멜로영화': 10373, '코스트': 10374, '다리다': 10375, '폭': 10376, '파전': 10377, '녹록하다': 10378, '요강': 10379, '김선영': 10380, '이심': 10381, '앞서': 10382, '호식': 10383, '건데': 10384, '조니': 10385, '뎁': 10386, '윌리웡카': 10387, '갈고': 10388, '스토리텔링': 10389, '범한': 10390, '과오': 10391, '무드': 10392, '아우리가': 10393, '서리다': 10394, '비토': 10395, '궁극': 10396, '성숙': 10397, '으로서도': 10398, '성배': 10399, '어두컴컴하다': 10400, '유튜버': 10401, '지엄': 10402, '흉가': 10403, '고토': 10404, '이러니': 10405, '어쩌고들': 10406, '다카': 10407, '체이싱': 10408, '감속': 10409, '애도': 10410, '재밋따앙': 10411, '리조트': 10412, '리셉션': 10413, '왕궁': 10414, '코딱지': 10415, '그노므': 10416, '으쌰으쌰': 10417, '홀란드': 10418, '거중': 10419, '레지던트': 10420, '이블': 10421, '무도': 10422, '튀어': 10423, '우당탕': 10424, '임재범': 10425, '다운로드': 10426, '초경': 10427, '몃번': 10428, '놀이터': 10429, '오바이트': 10430, '아오': 10431, '청승': 10432, '효심': 10433, '포털': 10434, '대마': 10435, '졋다': 10436, '갈이': 10437, '여성부': 10438, '치네다': 10439, '태블릿': 10440, '비봇': 10441, '그나': 10442, '취지': 10443, '기록영화': 10444, '체제': 10445, '나가야': 10446, '알렉산더': 10447, '모태': 10448, '기독교인': 10449, '습관': 10450, '몽매': 10451, '갑툭': 10452, '험담': 10453, '벚꽃': 10454, '히힛': 10455, '왜구': 10456, '나타': 10457, '오시': 10458, '미싱': 10459, '비상': 10460, '축재': 10461, '존시나': 10462, '탈북': 10463, '폭력조직': 10464, '것때': 10465, '신지호': 10466, '유영': 10467, '하울': 10468, '달래다': 10469, '면초': 10470, '데저티드': 10471, '꾸역꾸역': 10472, '극명하다': 10473, 'ㄷㅌ': 10474, '넘좋곸': 10475, 'ㄲㅋ': 10476, '스타뎀': 10477, '짐짝': 10478, '메주': 10479, '현저': 10480, '훌룸': 10481, '해링턴': 10482, '가안': 10483, '가뜩이나': 10484, '찬물': 10485, '로키': 10486, '흥분': 10487, '감방': 10488, '밑댓': 10489, '초콜렛': 10490, '을기': 10491, '원금': 10492, '악용': 10493, '유언비어': 10494, '노벨평화상': 10495, '연일': 10496, '핵보유국': 10497, '국제사회': 10498, '눙물': 10499, '즐비하다': 10500, '오산': 10501, 'ㅎㄴㅈ': 10502, '치자': 10503, '트리': 10504, '워후': 10505, 'ㄷㄱ': 10506, '빼먹다': 10507, '초대': 10508, '정관': 10509, '잠듭니': 10510, '스캇': 10511, '권장': 10512, '승전': 10513, '시설': 10514, '운영자': 10515, '넼': 10516, '심연': 10517, '언뜻': 10518, '자부심': 10519, '마틸다': 10520, '명목': 10521, '섭섭': 10522, '한도': 10523, '중요': 10524, '부위': 10525, '게릿': 10526, '거서현': 10527, '장창': 10528, '분전': 10529, '지원': 10530, '명언': 10531, '와인': 10532, '흥겹다': 10533, '상투': 10534, '심각': 10535, '지로': 10536, '차세대': 10537, '소나기': 10538, '학대받다': 10539, '고립': 10540, '보이콧': 10541, '신성모독': 10542, '불경': 10543, '권위': 10544, '후임': 10545, '자생': 10546, '생명과학': 10547, '남아도': 10548, '떨구다': 10549, '광우병': 10550, '잠재': 10551, '안재홍': 10552, '호가': 10553, '종반': 10554, '쉰': 10555, '공갈빵': 10556, '감임': 10557, '무기한': 10558, '파업': 10559, '퇴행': 10560, '청춘영화': 10561, '꼽는다': 10562, '거래': 10563, '버려지다': 10564, '허성': 10565, '태': 10566, '꽥꽥': 10567, '비쩍': 10568, '체격': 10569, '곱상하다': 10570, '연제욱': 10571, '다이어트': 10572, '최민재': 10573, '겉도': 10574, '금융위기': 10575, '먹을껄': 10576, '출하': 10577, '레닌': 10578, '돌프': 10579, '박햇음': 10580, '위서': 10581, '한궁': 10582, '저팔계': 10583, '진법': 10584, '부적': 10585, '치밀': 10586, '해주시': 10587, '세기말': 10588, '어필': 10589, '만성': 10590, '정신질환': 10591, '소수자': 10592, '선행': 10593, '남용': 10594, '곤란하다': 10595, '책임감': 10596, '업그레이드': 10597, '건들건들': 10598, '완성형': 10599, '디렉팅': 10600, '역경': 10601, '뭡': 10602, '니요': 10603, '놨습니': 10604, '브래독': 10605, '여자도': 10606, '둣': 10607, '두껍다': 10608, '가려지다': 10609, '지탱': 10610, '벼랑': 10611, '역사교육': 10612, '의아': 10613, '아무런': 10614, '혼영': 10615, 'ㄹㅇㅋㅋ': 10616, '우매': 10617, '구라': 10618, '법해': 10619, '재섭': 10620, '우주쓰레기': 10621, '고장': 10622, '추선': 10623, '아포칼립토': 10624, 'ㅜㅠㅜㅜ': 10625, '문란하다': 10626, '상납': 10627, '거절': 10628, '임정희': 10629, '조성모': 10630, '이기광': 10631, '다임': 10632, '익스': 10633, '어쩌부': 10634, '쫀쫀하': 10635, '물들다': 10636, '들러리': 10637, '안거': 10638, '나아': 10639, '저서': 10640, '만화가': 10641, '설리번': 10642, '한눈': 10643, '배고프다': 10644, '닌': 10645, '아니꼽다': 10646, '비평가': 10647, '야식': 10648, '드라이': 10649, '밍숭밍숭': 10650, '고마츠': 10651, '네드': 10652, '구서': 10653, '죙일': 10654, '싱크홀': 10655, '평해': 10656, '연연하다': 10657, '바이바이': 10658, '고투': 10659, '비컨티뉴': 10660, '선율': 10661, '에서만큼은': 10662, '거고': 10663, '시라이시': 10664, '시지프스': 10665, '진수': 10666, '뽐내다': 10667, '육체파': 10668, '샤론': 10669, '도려내다': 10670, '미네': 10671, '보연': 10672, '뵙다': 10673, '대강': 10674, '쌈': 10675, '해적선': 10676, '젠다야': 10677, '도의': 10678, '갱생': 10679, '제주': 10680, '뱀': 10681, '신설': 10682, '호박': 10683, '껍질': 10684, '비서': 10685, '송운': 10686, '죠스': 10687, '거름': 10688, '삼다': 10689, '숲': 10690, '가꾸다': 10691, '합류': 10692, '억빠': 10693, '미지근하다': 10694, '얼토': 10695, '아수라': 10696, '축축하다': 10697, '혜택': 10698, '갉아먹다': 10699, '트라우마': 10700, '같잖다': 10701, '반한': 10702, '리프': 10703, '나이터': 10704, '저스티스': 10705, '리그': 10706, '주된': 10707, '종이': 10708, '총사': 10709, '맞먹다': 10710, '다물어지다': 10711, '싸움씬': 10712, '아포': 10713, '동남아': 10714, '의절': 10715, '폭소': 10716, '지위': 10717, '서민': 10718, '똥통꼴통끼': 10719, '리모': 10720, '정착': 10721, '고급스럽다': 10722, '돛': 10723, '만일': 10724, '편입': 10725, '늙은이': 10726, '김새론': 10727, '가발': 10728, '허울': 10729, '모말': 10730, '잡아먹다': 10731, '무자비하다': 10732, '어휘': 10733, '양사': 10734, '식민': 10735, '제국': 10736, '군림': 10737, '섬나라': 10738, '굿잡': 10739, '뷔': 10740, '썸네일': 10741, '위상': 10742, '운동장': 10743, '간접': 10744, '애액': 10745, '교육': 10746, '유참': 10747, '바르덴': 10748, '금상첨화': 10749, '두테르테': 10750, '싱글벙글': 10751, '유럽연합': 10752, '출범': 10753, '드웨': 10754, '떵꼬집': 10755, '뒈지다': 10756, '꼬시': 10757, '보트': 10758, '꼭지': 10759, '사유화': 10760, '포괄': 10761, '스위스': 10762, '요전': 10763, '모니터': 10764, '정성일': 10765, '띵작임': 10766, '일만': 10767, '이신': 10768, '피부': 10769, '율법': 10770, '앞서다': 10771, '합력': 10772, '관해': 10773, '뒷걸음질': 10774, '유유': 10775, '할리퀸': 10776, '걸스': 10777, '버들': 10778, '엘시': 10779, '윤찬영': 10780, '김진영': 10781, '손상': 10782, '은샘': 10783, '타임슬립': 10784, '빡': 10785, '불굴': 10786, '로비스트': 10787, '아우르다': 10788, '기담': 10789, '신들리다': 10790, '으뜸': 10791, '체질': 10792, '브레너': 10793, '사이다': 10794, '편차': 10795, '나인': 10796, '십오분': 10797, '다모': 10798, '유임': 10799, '폐허': 10800, '에의': 10801, '군홧발': 10802, '짓밟힌': 10803, '모노': 10804, '연합군': 10805, '독일군': 10806, '일병': 10807, '마인': 10808, '기록물': 10809, '막무가내': 10810, '득표': 10811, '이래도': 10812, '절레절레동화': 10813, '나우': 10814, '감고': 10815, '숱': 10816, 'ㅇㅏ': 10817, '현란': 10818, '극악하다': 10819, '거마': 10820, 'ㅆㄹㄱ': 10821, '통나무': 10822, '오래간만': 10823, '가하다': 10824, '편중': 10825, '근사하다': 10826, '차림': 10827, '비제': 10828, '게스트': 10829, '모친': 10830, '소니': 10831, '내재': 10832, '회기': 10833, '처지다': 10834, '사복': 10835, '포트만': 10836, '에릭': 10837, '컴버': 10838, '사회인': 10839, '참호전': 10840, '아두': 10841, '쓸모': 10842, '희생양': 10843, '싸잡다': 10844, '마오쩌둥': 10845, '참새': 10846, '굶다': 10847, '점일': 10848, '인프피': 10849, '엔프피': 10850, '빨걍': 10851, '말제': 10852, '명동': 10853, '퇴근': 10854, '아유': 10855, '이수경': 10856, '일분': 10857, '일초': 10858, '김정훈': 10859, '자질': 10860, '난투극': 10861, '럭키': 10862, '혐성질': 10863, '굽쇼질': 10864, '투영': 10865, '가늘다': 10866, '아만다': 10867, '카메론': 10868, '디아즈': 10869, '펀': 10870, '바이스': 10871, '라덴': 10872, '부쉬': 10873, '후세인': 10874, '치열하다': 10875, '단일': 10876, '행정부': 10877, '권한': 10878, '낚시터': 10879, '도달': 10880, '종전': 10881, '이식': 10882, '수술': 10883, '텅': 10884, '절개': 10885, '안위': 10886, '무릇': 10887, '변경': 10888, '밀리다': 10889, '허리우드': 10890, '껄': 10891, '거들다': 10892, '이러나저러나': 10893, '극소': 10894, '먹어주다': 10895, '닐': 10896, '블롬캠프': 10897, '유쾌하': 10898, '머치': 10899, '얕다': 10900, '올드함': 10901, '랍': 10902, '소제': 10903, '원천': 10904, '야합': 10905, '오호호': 10906, '최리': 10907, '손가락질': 10908, '음보': 10909, '일편': 10910, '풍족하다': 10911, '란것': 10912, '격조': 10913, '하지원': 10914, '널렸': 10915, '음산하다': 10916, '스마트폰': 10917, '보석': 10918, '매드': 10919, '맥스': 10920, '이징': 10921, '스타일리시': 10922, '반개': 10923, '국민성': 10924, '오승욱': 10925, '씻다': 10926, '경찰청': 10927, '괘씸하다': 10928, '객석': 10929, '치루': 10930, '저해': 10931, '따끔하다': 10932, '충고': 10933, '시달리다': 10934, '농부': 10935, '콩가루': 10936, '농부가': 10937, '미남': 10938, '엑센트': 10939, '인과': 10940, '응징': 10941, '뮤직비디오': 10942, '대학': 10943, '보충': 10944, '설거지': 10945, '슈퍼맨': 10946, '뎅': 10947, '코넌': 10948, '잡식': 10949, '포근하다': 10950, '불만': 10951, '다해': 10952, '어우리': 10953, '뤼팽': 10954, '정글': 10955, '깨끗이': 10956, '지성': 10957, '겔가돗': 10958, '오지호': 10959, '불빛': 10960, '동지': 10961, '띵작입니': 10962, '보살피다': 10963, '중복': 10964, '묶이다': 10965, '자물쇠': 10966, '잠그다': 10967, '웃음소리': 10968, '교실': 10969, '오색': 10970, '빛깔': 10971, '푸르다': 10972, '헤르미온느': 10973, '막내': 10974, '위즐': 10975, '첫째': 10976, '틴더': 10977, '차단': 10978, '걱젓': 10979, '특촬물': 10980, '공이': 10981, '이나영': 10982, '바람나다': 10983, '모텔': 10984, '드래곤': 10985, '쌀': 10986, '서원순': 10987, '오방': 10988, '변기': 10989, '호응': 10990, '번볼': 10991, '겟': 10992, '도플갱어': 10993, '가주': 10994, '일행': 10995, '혜자': 10996, '연개': 10997, '만삼천': 10998, '원주고': 10999, '재임': 11000, '요충': 11001, '졸지': 11002, '호남': 11003, '수십': 11004, '냄비': 11005, '국힘': 11006, '간파': 11007, '노예': 11008, '금융': 11009, '쉬리': 11010, '검프인생': 11011, '검프': 11012, '샤오': 11013, '훼손': 11014, '에펠탑': 11015, '버킷리스트': 11016, '지난시': 11017, '쏟아내다': 11018, '나눠지다': 11019, '삥': 11020, '미고': 11021, '호의호식': 11022, '자손': 11023, '라멘': 11024, '별롭니': 11025, '싱가폴': 11026, '소스': 11027, '미녀와야수': 11028, '무열': 11029, '루임': 11030, '스웨덴': 11031, '성씨': 11032, '익다': 11033, '고독': 11034, '스트': 11035, '레시': 11036, '찌찌': 11037, '영리하다': 11038, '손대다': 11039, '유치원': 11040, '울렁거리다': 11041, 'ㄱㄱㄱ': 11042, '레이디가가': 11043, '어마어마하다': 11044, '특수성': 11045, '하넹': 11046, '알콩달콩': 11047, '서브': 11048, '삭막하다': 11049, '짱짱': 11050, '고용': 11051, '차예련': 11052, '쩡쩡하다': 11053, '덴마크': 11054, '한파': 11055, '종료': 11056, '부끄럼': 11057, '작별': 11058, '비애': 11059, '치밀하다': 11060, '초조하다': 11061, '사이즈': 11062, 'ㄹㅍㄷ': 11063, '잠식': 11064, '애란': 11065, '급발진': 11066, '약정': 11067, '입부': 11068, '자상속': 11069, '재우다': 11070, '그러자': 11071, '음모': 11072, '촉': 11073, '지레짐작': 11074, '후지': 11075, '모룸': 11076, '나찌': 11077, '효도': 11078, '골목길': 11079, '우왕': 11080, '규칙': 11081, '듀이': 11082, '이제껏': 11083, '장렬': 11084, '나비효과': 11085, '필연': 11086, '따로따로': 11087, '안치': 11088, '알탕': 11089, '고귀하다': 11090, '총구': 11091, '숙모': 11092, '도박': 11093, '마귀': 11094, '하네욤': 11095, '폐소공포증': 11096, '비선': 11097, '실세': 11098, '득실': 11099, 'ㅜㅡㅜ': 11100, '스코어': 11101, '두시': 11102, '엑스트라': 11103, '좈': 11104, '해죽': 11105, '봣네': 11106, '나야': 11107, '나카시마': 11108, '증가': 11109, '즉시': 11110, '추방': 11111, '왕중': 11112, '최장수': 11113, '아웅': 11114, '장해': 11115, '재밋는거': 11116, '악플러': 11117, '일해': 11118, '이정은': 11119, '노정': 11120, '평화로움': 11121, '직행': 11122, '광대뼈': 11123, '졸림': 11124, '네셔널트레져': 11125, '나우시카': 11126, '고글': 11127, '오염': 11128, '몃년': 11129, '줠': 11130, '소오강호': 11131, '동방불패': 11132, '스워드': 11133, '수명': 11134, '라오': 11135, '총선': 11136, '지선': 11137, '삽질': 11138, '분리수거': 11139, '회한': 11140, '엥': 11141, '좌표찍혓': 11142, '행진': 11143, '만두': 11144, '쟈오': 11145, '푸념': 11146, '오이란': 11147, '화차': 11148, '뻐근하다': 11149, '체크': 11150, '쩌노': 11151, '잔혹': 11152, '델': 11153, '슬래피': 11154, '고는': 11155, '부지': 11156, '든든하다': 11157, '조역': 11158, '받치다': 11159, '육탄': 11160, '야스쿠니': 11161, '참배': 11162, '카야': 11163, '스피드': 11164, '단편영화': 11165, '귀족': 11166, '짤막': 11167, '보구': 11168, '포지션': 11169, '도드라지다': 11170, '닷': 11171, '심문': 11172, '평향': 11173, '페어플레이': 11174, '의적': 11175, '반칙': 11176, '축구': 11177, '욕처': 11178, '기꺼이': 11179, '무혈': 11180, '유수': 11181, '찻길': 11182, '피상': 11183, '업보': 11184, '손수건': 11185, '단세포': 11186, '스로리': 11187, '사바': 11188, '이성민': 11189, '서스팬스': 11190}\n"
     ]
    }
   ],
   "source": [
    "print(tokenizer.word_index)"
   ]
  },
  {
   "cell_type": "code",
   "execution_count": 34,
   "id": "2813d759-c703-4380-835c-38c726b8625d",
   "metadata": {},
   "outputs": [
    {
     "name": "stdout",
     "output_type": "stream",
     "text": [
      "단어 집합(vocabulary)의 크기 : 11190\n",
      "등장 빈도가 2번 이하인 희귀 단어의 수: 6993\n",
      "단어 집합에서 희귀 단어의 비율: 62.493297587131366\n",
      "전체 등장 빈도에서 희귀 단어 등장 빈도 비율: 7.546923992252438\n"
     ]
    }
   ],
   "source": [
    "threshold = 3\n",
    "total_cnt = len(tokenizer.word_index) # 단어의 수\n",
    "rare_cnt = 0 # 등장 빈도수가 threshold보다 작은 단어의 개수를 카운트\n",
    "total_freq = 0 # 훈련 데이터의 전체 단어 빈도수 총 합\n",
    "rare_freq = 0 # 등장 빈도수가 threshold보다 작은 단어의 등장 빈도수의 총 합\n",
    "\n",
    "# 단어와 빈도수의 쌍(pair)을 key와 value로 받는다.\n",
    "for key, value in tokenizer.word_counts.items():\n",
    "    total_freq = total_freq + value\n",
    "\n",
    "    # 단어의 등장 빈도수가 threshold보다 작으면\n",
    "    if(value < threshold):\n",
    "        rare_cnt = rare_cnt + 1\n",
    "        rare_freq = rare_freq + value\n",
    "\n",
    "print('단어 집합(vocabulary)의 크기 :',total_cnt)\n",
    "print('등장 빈도가 %s번 이하인 희귀 단어의 수: %s'%(threshold - 1, rare_cnt))\n",
    "print(\"단어 집합에서 희귀 단어의 비율:\", (rare_cnt / total_cnt)*100)\n",
    "print(\"전체 등장 빈도에서 희귀 단어 등장 빈도 비율:\", (rare_freq / total_freq)*100)"
   ]
  },
  {
   "cell_type": "code",
   "execution_count": 35,
   "id": "341d5ca5-6777-4f77-ae83-932ce9bb96bd",
   "metadata": {},
   "outputs": [
    {
     "name": "stdout",
     "output_type": "stream",
     "text": [
      "단어 집합의 크기 : 4198\n"
     ]
    }
   ],
   "source": [
    "vocab_size = total_cnt - rare_cnt + 1\n",
    "print('단어 집합의 크기 :',vocab_size)"
   ]
  },
  {
   "cell_type": "code",
   "execution_count": 36,
   "id": "26d927b8-a657-4dd4-b1ad-b809fd8b3d7e",
   "metadata": {},
   "outputs": [],
   "source": [
    "tokenizer = Tokenizer(vocab_size) \n",
    "tokenizer.fit_on_texts(X_train)\n",
    "X_train = tokenizer.texts_to_sequences(X_train)\n",
    "X_test = tokenizer.texts_to_sequences(X_test)"
   ]
  },
  {
   "cell_type": "code",
   "execution_count": 37,
   "id": "769ae31d-844c-4125-9042-53c9708904d9",
   "metadata": {},
   "outputs": [
    {
     "name": "stdout",
     "output_type": "stream",
     "text": [
      "[[25, 957, 173, 744, 258, 1, 2, 7, 430, 18, 471, 14, 6, 4, 54, 32, 1, 4], [1057, 294, 577, 3341, 31, 385, 70, 2156, 849, 1178, 8, 34, 1057, 1408, 294, 577, 3341, 2, 214, 2, 115, 189, 294, 369, 161, 1409, 110, 2440, 143], [6, 454, 431, 301, 148, 1058, 1953, 109, 259, 2802, 1328, 11, 1114, 144, 103]]\n"
     ]
    }
   ],
   "source": [
    "print(X_train[:3])"
   ]
  },
  {
   "cell_type": "code",
   "execution_count": 39,
   "id": "89cca4ca-1e09-4ae8-be2b-0fecefb953a2",
   "metadata": {},
   "outputs": [],
   "source": [
    "y_train = np.array(train_data['good/bad'])\n",
    "y_test = np.array(test_data['good/bad'])\n"
   ]
  },
  {
   "cell_type": "code",
   "execution_count": 40,
   "id": "e2b13a05-8fd6-4ec9-8bff-9bdd9f293ade",
   "metadata": {},
   "outputs": [],
   "source": [
    "drop_train = [index for index, sentence in enumerate(X_train) if len(sentence) < 1]"
   ]
  },
  {
   "cell_type": "code",
   "execution_count": 41,
   "id": "b2666ef6-2dd5-44c5-bf7f-a2bc3bfdb329",
   "metadata": {},
   "outputs": [
    {
     "name": "stdout",
     "output_type": "stream",
     "text": [
      "7354\n",
      "7354\n"
     ]
    },
    {
     "name": "stderr",
     "output_type": "stream",
     "text": [
      "C:\\Users\\joony\\anaconda3\\lib\\site-packages\\numpy\\core\\_asarray.py:102: VisibleDeprecationWarning: Creating an ndarray from ragged nested sequences (which is a list-or-tuple of lists-or-tuples-or ndarrays with different lengths or shapes) is deprecated. If you meant to do this, you must specify 'dtype=object' when creating the ndarray.\n",
      "  return array(a, dtype, copy=False, order=order)\n"
     ]
    }
   ],
   "source": [
    "X_train = np.delete(X_train, drop_train, axis=0)\n",
    "y_train = np.delete(y_train, drop_train, axis=0)\n",
    "print(len(X_train))\n",
    "print(len(y_train))"
   ]
  },
  {
   "cell_type": "code",
   "execution_count": 42,
   "id": "d4360c2e-dc12-4ab4-8c45-bddaf1bc56ef",
   "metadata": {},
   "outputs": [
    {
     "name": "stdout",
     "output_type": "stream",
     "text": [
      "리뷰의 최대 길이 : 267\n",
      "리뷰의 평균 길이 : 14.474299700843078\n"
     ]
    },
    {
     "data": {
      "image/png": "[encoded data removed]",
      "text/plain": [
       "<Figure size 432x288 with 1 Axes>"
      ]
     },
     "metadata": {
      "needs_background": "light"
     },
     "output_type": "display_data"
    }
   ],
   "source": [
    "print('리뷰의 최대 길이 :',max(len(review) for review in X_train))\n",
    "print('리뷰의 평균 길이 :',sum(map(len, X_train))/len(X_train))\n",
    "plt.hist([len(review) for review in X_train], bins=50)\n",
    "plt.xlabel('length of samples')\n",
    "plt.ylabel('number of samples')\n",
    "plt.show()"
   ]
  },
  {
   "cell_type": "code",
   "execution_count": 43,
   "id": "8f808b5a-7e93-4010-9fda-de592545000a",
   "metadata": {},
   "outputs": [],
   "source": [
    "def below_threshold_len(max_len, nested_list):\n",
    "  count = 0\n",
    "  for sentence in nested_list:\n",
    "    if(len(sentence) <= max_len):\n",
    "        count = count + 1\n",
    "  print('전체 샘플 중 길이가 %s 이하인 샘플의 비율: %s'%(max_len, (count / len(nested_list))*100))"
   ]
  },
  {
   "cell_type": "code",
   "execution_count": 44,
   "id": "99489c44-fb1f-48ed-8696-392107ea63c1",
   "metadata": {},
   "outputs": [
    {
     "name": "stdout",
     "output_type": "stream",
     "text": [
      "전체 샘플 중 길이가 30 이하인 샘플의 비율: 90.65814522708729\n"
     ]
    }
   ],
   "source": [
    "max_len = 30\n",
    "below_threshold_len(max_len, X_train)"
   ]
  },
  {
   "cell_type": "code",
   "execution_count": 45,
   "id": "bbd3933e-b66d-4601-98d8-cb62f2bf2fa7",
   "metadata": {},
   "outputs": [],
   "source": [
    "X_train = pad_sequences(X_train, maxlen=max_len)\n",
    "X_test = pad_sequences(X_test, maxlen=max_len)"
   ]
  },
  {
   "cell_type": "code",
   "execution_count": 46,
   "id": "4d82cb01-7c6c-48f0-80b3-1a4501fcee51",
   "metadata": {},
   "outputs": [],
   "source": [
    "from tensorflow.keras.layers import Embedding, Dense, LSTM\n",
    "from tensorflow.keras.models import Sequential\n",
    "from tensorflow.keras.models import load_model\n",
    "from tensorflow.keras.callbacks import EarlyStopping, ModelCheckpoint\n"
   ]
  },
  {
   "cell_type": "code",
   "execution_count": 47,
   "id": "ec045a43-50c5-4608-87f7-6c3c62426f60",
   "metadata": {},
   "outputs": [
    {
     "name": "stdout",
     "output_type": "stream",
     "text": [
      "Epoch 1/15\n",
      "89/92 [============================>.] - ETA: 0s - loss: 0.4970 - acc: 0.7772\n",
      "Epoch 1: val_acc improved from -inf to 0.80829, saving model to best_model.h5\n",
      "92/92 [==============================] - 4s 12ms/step - loss: 0.4944 - acc: 0.7775 - val_loss: 0.4176 - val_acc: 0.8083\n",
      "Epoch 2/15\n",
      "88/92 [===========================>..] - ETA: 0s - loss: 0.3309 - acc: 0.8572\n",
      "Epoch 2: val_acc improved from 0.80829 to 0.83345, saving model to best_model.h5\n",
      "92/92 [==============================] - 1s 10ms/step - loss: 0.3323 - acc: 0.8577 - val_loss: 0.3940 - val_acc: 0.8334\n",
      "Epoch 3/15\n",
      "92/92 [==============================] - ETA: 0s - loss: 0.2707 - acc: 0.8863\n",
      "Epoch 3: val_acc improved from 0.83345 to 0.83889, saving model to best_model.h5\n",
      "92/92 [==============================] - 1s 8ms/step - loss: 0.2707 - acc: 0.8863 - val_loss: 0.4295 - val_acc: 0.8389\n",
      "Epoch 4/15\n",
      "92/92 [==============================] - ETA: 0s - loss: 0.2342 - acc: 0.9041\n",
      "Epoch 4: val_acc improved from 0.83889 to 0.84160, saving model to best_model.h5\n",
      "92/92 [==============================] - 1s 8ms/step - loss: 0.2342 - acc: 0.9041 - val_loss: 0.4236 - val_acc: 0.8416\n",
      "Epoch 5/15\n",
      "92/92 [==============================] - ETA: 0s - loss: 0.2069 - acc: 0.9181\n",
      "Epoch 5: val_acc did not improve from 0.84160\n",
      "92/92 [==============================] - 1s 8ms/step - loss: 0.2069 - acc: 0.9181 - val_loss: 0.4537 - val_acc: 0.8117\n",
      "Epoch 6/15\n",
      "92/92 [==============================] - ETA: 0s - loss: 0.1882 - acc: 0.9278\n",
      "Epoch 6: val_acc did not improve from 0.84160\n",
      "92/92 [==============================] - 1s 8ms/step - loss: 0.1882 - acc: 0.9278 - val_loss: 0.4766 - val_acc: 0.8389\n",
      "Epoch 6: early stopping\n"
     ]
    }
   ],
   "source": [
    "embedding_dim = 100\n",
    "hidden_units = 128\n",
    "\n",
    "model = Sequential()\n",
    "model.add(Embedding(vocab_size, embedding_dim))\n",
    "model.add(LSTM(hidden_units))\n",
    "model.add(Dense(1, activation='sigmoid'))\n",
    "\n",
    "es = EarlyStopping(monitor='val_loss', mode='min', verbose=1, patience=4)\n",
    "mc = ModelCheckpoint('best_model.h5', monitor='val_acc', mode='max', verbose=1, save_best_only=True)\n",
    "\n",
    "model.compile(optimizer='rmsprop', loss='binary_crossentropy', metrics=['acc'])\n",
    "history = model.fit(X_train, y_train, epochs=15, callbacks=[es, mc], batch_size=64, validation_split=0.2)"
   ]
  },
  {
   "cell_type": "code",
   "execution_count": 48,
   "id": "f5789a32-e672-4acd-8c65-d71511456adc",
   "metadata": {},
   "outputs": [
    {
     "name": "stdout",
     "output_type": "stream",
     "text": [
      "58/58 [==============================] - 1s 6ms/step - loss: 0.4233 - acc: 0.8365\n",
      "\n",
      " 테스트 정확도: 0.8365\n"
     ]
    }
   ],
   "source": [
    "loaded_model = load_model('best_model.h5')\n",
    "print(\"\\n 테스트 정확도: %.4f\" % (loaded_model.evaluate(X_test, y_test)[1]))"
   ]
  },
  {
   "cell_type": "code",
   "execution_count": 49,
   "id": "55b726a3-f4f3-4f9e-84e4-bb7a2a036dad",
   "metadata": {},
   "outputs": [],
   "source": [
    "def sentiment_predict(new_sentence):\n",
    "  new_sentence = re.sub(r'[^ㄱ-ㅎㅏ-ㅣ가-힣 ]','', new_sentence)\n",
    "  new_sentence = okt.morphs(new_sentence, stem=True) # 토큰화\n",
    "  new_sentence = [word for word in new_sentence if not word in stopwords] # 불용어 제거\n",
    "  encoded = tokenizer.texts_to_sequences([new_sentence]) # 정수 인코딩\n",
    "  pad_new = pad_sequences(encoded, maxlen = max_len) # 패딩\n",
    "  score = float(loaded_model.predict(pad_new)) # 예측\n",
    "  if(score > 0.5):\n",
    "    print(\"{:.2f}% 확률로 긍정 리뷰입니다.\\n\".format(score * 100))\n",
    "  else:\n",
    "    print(\"{:.2f}% 확률로 부정 리뷰입니다.\\n\".format((1 - score) * 100))"
   ]
  },
  {
   "cell_type": "code",
   "execution_count": 50,
   "id": "cc98d054-4435-4387-82e3-b6ade4364f95",
   "metadata": {},
   "outputs": [
    {
     "name": "stdout",
     "output_type": "stream",
     "text": [
      "86.50% 확률로 긍정 리뷰입니다.\n",
      "\n"
     ]
    }
   ],
   "source": [
    "sentiment_predict('이 영화 개꿀잼 ㅋㅋㅋ')"
   ]
  },
  {
   "cell_type": "code",
   "execution_count": 51,
   "id": "fea7ad8a-e6b1-4062-bfdf-26e1c79ab924",
   "metadata": {},
   "outputs": [
    {
     "name": "stdout",
     "output_type": "stream",
     "text": [
      "90.15% 확률로 부정 리뷰입니다.\n",
      "\n"
     ]
    }
   ],
   "source": [
    "sentiment_predict('이 영화 핵노잼 ㅠㅠ')"
   ]
  },
  {
   "cell_type": "code",
   "execution_count": 52,
   "id": "80751f65-8e42-4e65-afdf-7759a92ce9e2",
   "metadata": {},
   "outputs": [
    {
     "name": "stdout",
     "output_type": "stream",
     "text": [
      "91.41% 확률로 부정 리뷰입니다.\n",
      "\n"
     ]
    }
   ],
   "source": [
    "sentiment_predict('이딴게 영화냐 ㅉㅉ')"
   ]
  },
  {
   "cell_type": "code",
   "execution_count": 53,
   "id": "bd0f75ff-840b-45f3-938e-a752cb00d9d5",
   "metadata": {},
   "outputs": [
    {
     "name": "stdout",
     "output_type": "stream",
     "text": [
      "56.16% 확률로 긍정 리뷰입니다.\n",
      "\n"
     ]
    }
   ],
   "source": [
    "sentiment_predict('감독 뭐하는 놈이냐?')"
   ]
  },
  {
   "cell_type": "code",
   "execution_count": 54,
   "id": "d17d9d12-bf55-44d6-8cfd-7ba41bf74b05",
   "metadata": {},
   "outputs": [
    {
     "name": "stdout",
     "output_type": "stream",
     "text": [
      "81.18% 확률로 긍정 리뷰입니다.\n",
      "\n"
     ]
    }
   ],
   "source": [
    "sentiment_predict('와 개쩐다 정말 세계관 최강자들의 영화다')"
   ]
  },
  {
   "cell_type": "code",
   "execution_count": 55,
   "id": "5b26a947-dc15-416b-8ac4-deb9677daea7",
   "metadata": {},
   "outputs": [
    {
     "name": "stdout",
     "output_type": "stream",
     "text": [
      "90.07% 확률로 긍정 리뷰입니다.\n",
      "\n"
     ]
    }
   ],
   "source": [
    "sentiment_predict('좋은 영화')"
   ]
  },
  {
   "cell_type": "code",
   "execution_count": 56,
   "id": "4a4e9657-0713-4c3f-a9ca-2134e404b307",
   "metadata": {},
   "outputs": [
    {
     "name": "stdout",
     "output_type": "stream",
     "text": [
      "87.50% 확률로 부정 리뷰입니다.\n",
      "\n"
     ]
    }
   ],
   "source": [
    "sentiment_predict('개쓰레기')"
   ]
  },
  {
   "cell_type": "code",
   "execution_count": 57,
   "id": "8a3c6d3f-212b-477d-89a0-bff19bdcb025",
   "metadata": {},
   "outputs": [
    {
     "name": "stdout",
     "output_type": "stream",
     "text": [
      "64.49% 확률로 긍정 리뷰입니다.\n",
      "\n"
     ]
    }
   ],
   "source": [
    "sentiment_predict('바보')"
   ]
  },
  {
   "cell_type": "code",
   "execution_count": 58,
   "id": "3c4baac6-4538-47b3-9bab-52079537b067",
   "metadata": {},
   "outputs": [
    {
     "name": "stdout",
     "output_type": "stream",
     "text": [
      "62.87% 확률로 긍정 리뷰입니다.\n",
      "\n"
     ]
    }
   ],
   "source": [
    "sentiment_predict('멍청이')"
   ]
  },
  {
   "cell_type": "code",
   "execution_count": 59,
   "id": "d2bda298-c170-4e00-b7bb-817e6e245afd",
   "metadata": {},
   "outputs": [
    {
     "name": "stdout",
     "output_type": "stream",
     "text": [
      "90.49% 확률로 긍정 리뷰입니다.\n",
      "\n"
     ]
    }
   ],
   "source": [
    "sentiment_predict('천재')"
   ]
  },
  {
   "cell_type": "code",
   "execution_count": null,
   "id": "71debce8-bfdd-4763-b1c7-bc92489de933",
   "metadata": {},
   "outputs": [],
   "source": []
  }
 ],
 "metadata": {
  "kernelspec": {
   "display_name": "Python 3 (ipykernel)",
   "language": "python",
   "name": "python3"
  },
  "language_info": {
   "codemirror_mode": {
    "name": "ipython",
    "version": 3
   },
   "file_extension": ".py",
   "mimetype": "text/x-python",
   "name": "python",
   "nbconvert_exporter": "python",
   "pygments_lexer": "ipython3",
   "version": "3.9.7"
  }
 },
 "nbformat": 4,
 "nbformat_minor": 5
}
